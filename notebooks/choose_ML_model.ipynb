{
 "cells": [
  {
   "cell_type": "code",
   "execution_count": null,
   "id": "c2dcd704",
   "metadata": {},
   "outputs": [],
   "source": [
    "def choose_ML_model(classifier, val, train):\n",
    "    if classifier = “forest”:\n",
    "        # run mariam’s function\n",
    "        \n",
    "    elif classifier=“rule-based”:\n",
    "        #run katherine’s function\n",
    "        \n",
    "    elif classifier=“decision_tree”:\n",
    "        #run iris’s function\n",
    "        prediction = decision_tree(train, val)\n",
    "        \n",
    "    elif classifier=“naive_bayes”:\n",
    "        #run haoxian’s function\n",
    "list_of_models=[‘forest’, ‘rule-based’, ‘ridge’, ‘naive’]\n",
    "for i in list_of_models:\n",
    "    print(i, choose_ML_model(i))\n",
    "    # print each score for each model"
   ]
  },
  {
   "cell_type": "code",
   "execution_count": 1,
   "id": "b7dc59f3",
   "metadata": {},
   "outputs": [],
   "source": [
    "def decision_tree(train, val):\n",
    "            train_cols = train.loc[:, train.columns != 'group']\n",
    "            val_cols = val.loc[:, val.columns != 'group']\n",
    "            train_X = train_cols.values\n",
    "            val_X = val_cols.values\n",
    "            train_y = train['group'].values.reshape(-1,1)\n",
    "            val_y= val['group'].values.reshape(-1,1)\n",
    "            scaler = sklearn.preprocessing.StandardScaler()\n",
    "            train_X = scaler.fit_transform(train_X)\n",
    "            val_X = scaler.transform(val_X)\n",
    "            clf = sklearn.tree.DecisionTreeClassifier()\n",
    "            clf = clf.fit(train_X, train_y)\n",
    "            y_pred = clf.predict(val_X)\n",
    "            prediction = sklearn.metrics.accuracy_score(val_y, y_pred)\n",
    "            return np.float64(prediction)"
   ]
  }
 ],
 "metadata": {
  "kernelspec": {
   "display_name": "Python 3 (ipykernel)",
   "language": "python",
   "name": "python3"
  },
  "language_info": {
   "codemirror_mode": {
    "name": "ipython",
    "version": 3
   },
   "file_extension": ".py",
   "mimetype": "text/x-python",
   "name": "python",
   "nbconvert_exporter": "python",
   "pygments_lexer": "ipython3",
   "version": "3.10.8"
  }
 },
 "nbformat": 4,
 "nbformat_minor": 5
}
