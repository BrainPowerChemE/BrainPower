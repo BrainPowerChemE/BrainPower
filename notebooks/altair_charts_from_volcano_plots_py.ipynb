{
 "cells": [
  {
   "cell_type": "code",
   "execution_count": 3,
   "id": "0e21e3ad",
   "metadata": {},
   "outputs": [],
   "source": [
    "import brainpower_volcano_plots"
   ]
  },
  {
   "cell_type": "code",
   "execution_count": 4,
   "id": "b12150ab",
   "metadata": {},
   "outputs": [
    {
     "name": "stdout",
     "output_type": "stream",
     "text": [
      "Returned frames, volcano_frames\n"
     ]
    }
   ],
   "source": [
    "frames, volcano_frames = brainpower_volcano_plots.generate_volcano_ready_dataframes()"
   ]
  },
  {
   "cell_type": "code",
   "execution_count": 6,
   "id": "d15e4b08",
   "metadata": {},
   "outputs": [],
   "source": [
    "charts = brainpower_volcano_plots.gen_altair_volcano_plots(volcano_frames)"
   ]
  },
  {
   "cell_type": "code",
   "execution_count": 8,
   "id": "777dd650",
   "metadata": {},
   "outputs": [
    {
     "data": {
      "text/plain": [
       "altair.vegalite.v4.api.Chart"
      ]
     },
     "execution_count": 8,
     "metadata": {},
     "output_type": "execute_result"
    }
   ],
   "source": [
    "type(charts[0])"
   ]
  }
 ],
 "metadata": {
  "kernelspec": {
   "display_name": "Python 3 (ipykernel)",
   "language": "python",
   "name": "python3"
  },
  "language_info": {
   "codemirror_mode": {
    "name": "ipython",
    "version": 3
   },
   "file_extension": ".py",
   "mimetype": "text/x-python",
   "name": "python",
   "nbconvert_exporter": "python",
   "pygments_lexer": "ipython3",
   "version": "3.10.8"
  }
 },
 "nbformat": 4,
 "nbformat_minor": 5
}
