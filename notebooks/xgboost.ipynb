{
 "cells": [
  {
   "cell_type": "code",
   "execution_count": 1,
   "id": "b9cbbad1",
   "metadata": {},
   "outputs": [],
   "source": [
    "import pandas as pd\n",
    "import numpy as np\n",
    "import sklearn.preprocessing\n",
    "import sklearn.tree\n",
    "import seaborn as sns\n",
    "from xgboost import XGBClassifier\n",
    "import bp_preprocessing as preprocessing"
   ]
  },
  {
   "cell_type": "code",
   "execution_count": 2,
   "id": "170cd0fe",
   "metadata": {},
   "outputs": [],
   "source": [
    "dev2 = pd.read_csv(\"dev2.csv\")\n",
    "test2 = pd.read_csv(\"test2.csv\")"
   ]
  },
  {
   "cell_type": "code",
   "execution_count": 3,
   "id": "52950ed3",
   "metadata": {},
   "outputs": [
    {
     "name": "stdout",
     "output_type": "stream",
     "text": [
      "{'Healthy': 112, 'AD_MCI': 37, 'PD_MCI_LBD': 27, 'PD': 26}\n",
      "{'Healthy': 20, 'AD_MCI': 6, 'PD': 5, 'PD_MCI_LBD': 5}\n",
      "Randstate: 98450\n",
      "\n",
      "Percent Healthy in dev, test: [0.5544554455445545, 0.5555555555555556] \n",
      "Standard deviation of these values: 0.0005500550055005382 \n",
      "\n",
      "\n",
      "Percent AD_MCI in dev, test: [0.18316831683168316, 0.16666666666666666] \n",
      "Standard deviation of these values: 0.008250825082508254 \n",
      "\n",
      "\n",
      "Percent PD in dev, test: [0.12871287128712872, 0.1388888888888889] \n",
      "Standard deviation of these values: 0.0050880088008800894 \n",
      "\n",
      "\n",
      "Percent PD_MCI_LBD in dev, test: [0.13366336633663367, 0.1388888888888889] \n",
      "Standard deviation of these values: 0.002612761276127612 \n",
      "\n"
     ]
    }
   ],
   "source": [
    "train, val = preprocessing.split_cats_by_tolerance(dev2,tolerance=0.01,\n",
    "                                                   silent=False,\n",
    "                                                   randomstate=98281,\n",
    "                                                   split=0.15,step=1,\n",
    "                                                   categories=['Healthy','AD_MCI','PD','PD_MCI_LBD'])"
   ]
  },
  {
   "cell_type": "code",
   "execution_count": 4,
   "id": "ad627bed",
   "metadata": {},
   "outputs": [
    {
     "name": "stdout",
     "output_type": "stream",
     "text": [
      "randomstate\n"
     ]
    },
    {
     "data": {
      "text/html": [
       "<div>\n",
       "<style scoped>\n",
       "    .dataframe tbody tr th:only-of-type {\n",
       "        vertical-align: middle;\n",
       "    }\n",
       "\n",
       "    .dataframe tbody tr th {\n",
       "        vertical-align: top;\n",
       "    }\n",
       "\n",
       "    .dataframe thead th {\n",
       "        text-align: right;\n",
       "    }\n",
       "</style>\n",
       "<table border=\"1\" class=\"dataframe\">\n",
       "  <thead>\n",
       "    <tr style=\"text-align: right;\">\n",
       "      <th></th>\n",
       "      <th>group</th>\n",
       "      <th>index</th>\n",
       "      <th>assay_ID</th>\n",
       "      <th>KV37</th>\n",
       "      <th>LV469</th>\n",
       "      <th>LV861</th>\n",
       "      <th>LVX54</th>\n",
       "      <th>LV746</th>\n",
       "      <th>LV218</th>\n",
       "      <th>LV316</th>\n",
       "      <th>...</th>\n",
       "      <th>EMIL3</th>\n",
       "      <th>ABCD2</th>\n",
       "      <th>TEN1</th>\n",
       "      <th>PCDAD</th>\n",
       "      <th>ITM2B</th>\n",
       "      <th>ADSV</th>\n",
       "      <th>A0A1W2PRN1</th>\n",
       "      <th>APOF</th>\n",
       "      <th>DCBD2</th>\n",
       "      <th>LMF2</th>\n",
       "    </tr>\n",
       "  </thead>\n",
       "  <tbody>\n",
       "    <tr>\n",
       "      <th>0</th>\n",
       "      <td>AD_MCI</td>\n",
       "      <td>12</td>\n",
       "      <td>TPAD0345</td>\n",
       "      <td>27.128300</td>\n",
       "      <td>22.490591</td>\n",
       "      <td>24.366686</td>\n",
       "      <td>14.622427</td>\n",
       "      <td>24.308411</td>\n",
       "      <td>23.808042</td>\n",
       "      <td>29.455989</td>\n",
       "      <td>...</td>\n",
       "      <td>20.683266</td>\n",
       "      <td>NaN</td>\n",
       "      <td>NaN</td>\n",
       "      <td>NaN</td>\n",
       "      <td>NaN</td>\n",
       "      <td>NaN</td>\n",
       "      <td>NaN</td>\n",
       "      <td>NaN</td>\n",
       "      <td>NaN</td>\n",
       "      <td>NaN</td>\n",
       "    </tr>\n",
       "    <tr>\n",
       "      <th>1</th>\n",
       "      <td>AD_MCI</td>\n",
       "      <td>44</td>\n",
       "      <td>TPAD0459</td>\n",
       "      <td>28.140365</td>\n",
       "      <td>22.316123</td>\n",
       "      <td>22.022777</td>\n",
       "      <td>21.095018</td>\n",
       "      <td>25.128743</td>\n",
       "      <td>23.709564</td>\n",
       "      <td>23.372253</td>\n",
       "      <td>...</td>\n",
       "      <td>20.278083</td>\n",
       "      <td>NaN</td>\n",
       "      <td>NaN</td>\n",
       "      <td>17.810185</td>\n",
       "      <td>15.134276</td>\n",
       "      <td>15.916138</td>\n",
       "      <td>NaN</td>\n",
       "      <td>20.809915</td>\n",
       "      <td>NaN</td>\n",
       "      <td>15.715994</td>\n",
       "    </tr>\n",
       "    <tr>\n",
       "      <th>2</th>\n",
       "      <td>AD_MCI</td>\n",
       "      <td>20</td>\n",
       "      <td>TPAD0379</td>\n",
       "      <td>28.008380</td>\n",
       "      <td>22.335054</td>\n",
       "      <td>23.780271</td>\n",
       "      <td>19.596119</td>\n",
       "      <td>25.159908</td>\n",
       "      <td>24.208077</td>\n",
       "      <td>22.160258</td>\n",
       "      <td>...</td>\n",
       "      <td>20.826790</td>\n",
       "      <td>NaN</td>\n",
       "      <td>NaN</td>\n",
       "      <td>NaN</td>\n",
       "      <td>NaN</td>\n",
       "      <td>NaN</td>\n",
       "      <td>NaN</td>\n",
       "      <td>NaN</td>\n",
       "      <td>NaN</td>\n",
       "      <td>NaN</td>\n",
       "    </tr>\n",
       "    <tr>\n",
       "      <th>3</th>\n",
       "      <td>AD_MCI</td>\n",
       "      <td>42</td>\n",
       "      <td>TPAD0453</td>\n",
       "      <td>29.275378</td>\n",
       "      <td>23.853495</td>\n",
       "      <td>24.376810</td>\n",
       "      <td>24.110526</td>\n",
       "      <td>27.073875</td>\n",
       "      <td>25.099886</td>\n",
       "      <td>24.022414</td>\n",
       "      <td>...</td>\n",
       "      <td>20.212292</td>\n",
       "      <td>NaN</td>\n",
       "      <td>NaN</td>\n",
       "      <td>18.241763</td>\n",
       "      <td>17.462557</td>\n",
       "      <td>21.379617</td>\n",
       "      <td>NaN</td>\n",
       "      <td>20.985136</td>\n",
       "      <td>NaN</td>\n",
       "      <td>17.114851</td>\n",
       "    </tr>\n",
       "    <tr>\n",
       "      <th>4</th>\n",
       "      <td>AD_MCI</td>\n",
       "      <td>35</td>\n",
       "      <td>TPAD0438</td>\n",
       "      <td>29.546093</td>\n",
       "      <td>24.517895</td>\n",
       "      <td>25.299832</td>\n",
       "      <td>24.264938</td>\n",
       "      <td>27.077570</td>\n",
       "      <td>25.419064</td>\n",
       "      <td>24.137406</td>\n",
       "      <td>...</td>\n",
       "      <td>20.040244</td>\n",
       "      <td>NaN</td>\n",
       "      <td>NaN</td>\n",
       "      <td>17.900476</td>\n",
       "      <td>18.053292</td>\n",
       "      <td>17.812961</td>\n",
       "      <td>NaN</td>\n",
       "      <td>20.704142</td>\n",
       "      <td>NaN</td>\n",
       "      <td>17.436361</td>\n",
       "    </tr>\n",
       "  </tbody>\n",
       "</table>\n",
       "<p>5 rows × 1348 columns</p>\n",
       "</div>"
      ],
      "text/plain": [
       "    group  index  assay_ID       KV37      LV469      LV861      LVX54  \\\n",
       "0  AD_MCI     12  TPAD0345  27.128300  22.490591  24.366686  14.622427   \n",
       "1  AD_MCI     44  TPAD0459  28.140365  22.316123  22.022777  21.095018   \n",
       "2  AD_MCI     20  TPAD0379  28.008380  22.335054  23.780271  19.596119   \n",
       "3  AD_MCI     42  TPAD0453  29.275378  23.853495  24.376810  24.110526   \n",
       "4  AD_MCI     35  TPAD0438  29.546093  24.517895  25.299832  24.264938   \n",
       "\n",
       "       LV746      LV218      LV316  ...      EMIL3  ABCD2  TEN1      PCDAD  \\\n",
       "0  24.308411  23.808042  29.455989  ...  20.683266    NaN   NaN        NaN   \n",
       "1  25.128743  23.709564  23.372253  ...  20.278083    NaN   NaN  17.810185   \n",
       "2  25.159908  24.208077  22.160258  ...  20.826790    NaN   NaN        NaN   \n",
       "3  27.073875  25.099886  24.022414  ...  20.212292    NaN   NaN  18.241763   \n",
       "4  27.077570  25.419064  24.137406  ...  20.040244    NaN   NaN  17.900476   \n",
       "\n",
       "       ITM2B       ADSV  A0A1W2PRN1       APOF  DCBD2       LMF2  \n",
       "0        NaN        NaN         NaN        NaN    NaN        NaN  \n",
       "1  15.134276  15.916138         NaN  20.809915    NaN  15.715994  \n",
       "2        NaN        NaN         NaN        NaN    NaN        NaN  \n",
       "3  17.462557  21.379617         NaN  20.985136    NaN  17.114851  \n",
       "4  18.053292  17.812961         NaN  20.704142    NaN  17.436361  \n",
       "\n",
       "[5 rows x 1348 columns]"
      ]
     },
     "execution_count": 4,
     "metadata": {},
     "output_type": "execute_result"
    }
   ],
   "source": [
    "train_eq = preprocessing.over_under(train, val)\n",
    "train_eq.head()"
   ]
  },
  {
   "cell_type": "code",
   "execution_count": 5,
   "id": "2cba45e4",
   "metadata": {},
   "outputs": [],
   "source": [
    "train_eq = train_eq.drop(columns = ['index', 'assay_ID'])\n",
    "train_eq['group'].replace(['AD_MCI', 'Healthy', 'PD', 'PD_MCI_LBD'], [0,1,2,3], inplace=True)\n",
    "val_eq = val.drop(columns = ['index', 'assay_ID'])\n",
    "val_eq['group'].replace(['AD_MCI', 'Healthy', 'PD', 'PD_MCI_LBD'], [0,1,2,3], inplace=True)"
   ]
  },
  {
   "cell_type": "code",
   "execution_count": 6,
   "id": "2e6ff9ba",
   "metadata": {},
   "outputs": [],
   "source": [
    "train_cols = train_eq.loc[:, train_eq.columns != 'group']\n",
    "val_cols = val_eq.loc[:, val_eq.columns != 'group']\n",
    "train_X = train_cols.values\n",
    "val_X = val_cols.values\n",
    "train_y = train_eq['group'].values.reshape(-1,1)\n",
    "val_y= val_eq['group'].values.reshape(-1,1)"
   ]
  },
  {
   "cell_type": "code",
   "execution_count": 7,
   "id": "b0a8c463",
   "metadata": {
    "scrolled": true
   },
   "outputs": [
    {
     "data": {
      "text/html": [
       "<style>#sk-container-id-1 {color: black;background-color: white;}#sk-container-id-1 pre{padding: 0;}#sk-container-id-1 div.sk-toggleable {background-color: white;}#sk-container-id-1 label.sk-toggleable__label {cursor: pointer;display: block;width: 100%;margin-bottom: 0;padding: 0.3em;box-sizing: border-box;text-align: center;}#sk-container-id-1 label.sk-toggleable__label-arrow:before {content: \"▸\";float: left;margin-right: 0.25em;color: #696969;}#sk-container-id-1 label.sk-toggleable__label-arrow:hover:before {color: black;}#sk-container-id-1 div.sk-estimator:hover label.sk-toggleable__label-arrow:before {color: black;}#sk-container-id-1 div.sk-toggleable__content {max-height: 0;max-width: 0;overflow: hidden;text-align: left;background-color: #f0f8ff;}#sk-container-id-1 div.sk-toggleable__content pre {margin: 0.2em;color: black;border-radius: 0.25em;background-color: #f0f8ff;}#sk-container-id-1 input.sk-toggleable__control:checked~div.sk-toggleable__content {max-height: 200px;max-width: 100%;overflow: auto;}#sk-container-id-1 input.sk-toggleable__control:checked~label.sk-toggleable__label-arrow:before {content: \"▾\";}#sk-container-id-1 div.sk-estimator input.sk-toggleable__control:checked~label.sk-toggleable__label {background-color: #d4ebff;}#sk-container-id-1 div.sk-label input.sk-toggleable__control:checked~label.sk-toggleable__label {background-color: #d4ebff;}#sk-container-id-1 input.sk-hidden--visually {border: 0;clip: rect(1px 1px 1px 1px);clip: rect(1px, 1px, 1px, 1px);height: 1px;margin: -1px;overflow: hidden;padding: 0;position: absolute;width: 1px;}#sk-container-id-1 div.sk-estimator {font-family: monospace;background-color: #f0f8ff;border: 1px dotted black;border-radius: 0.25em;box-sizing: border-box;margin-bottom: 0.5em;}#sk-container-id-1 div.sk-estimator:hover {background-color: #d4ebff;}#sk-container-id-1 div.sk-parallel-item::after {content: \"\";width: 100%;border-bottom: 1px solid gray;flex-grow: 1;}#sk-container-id-1 div.sk-label:hover label.sk-toggleable__label {background-color: #d4ebff;}#sk-container-id-1 div.sk-serial::before {content: \"\";position: absolute;border-left: 1px solid gray;box-sizing: border-box;top: 0;bottom: 0;left: 50%;z-index: 0;}#sk-container-id-1 div.sk-serial {display: flex;flex-direction: column;align-items: center;background-color: white;padding-right: 0.2em;padding-left: 0.2em;position: relative;}#sk-container-id-1 div.sk-item {position: relative;z-index: 1;}#sk-container-id-1 div.sk-parallel {display: flex;align-items: stretch;justify-content: center;background-color: white;position: relative;}#sk-container-id-1 div.sk-item::before, #sk-container-id-1 div.sk-parallel-item::before {content: \"\";position: absolute;border-left: 1px solid gray;box-sizing: border-box;top: 0;bottom: 0;left: 50%;z-index: -1;}#sk-container-id-1 div.sk-parallel-item {display: flex;flex-direction: column;z-index: 1;position: relative;background-color: white;}#sk-container-id-1 div.sk-parallel-item:first-child::after {align-self: flex-end;width: 50%;}#sk-container-id-1 div.sk-parallel-item:last-child::after {align-self: flex-start;width: 50%;}#sk-container-id-1 div.sk-parallel-item:only-child::after {width: 0;}#sk-container-id-1 div.sk-dashed-wrapped {border: 1px dashed gray;margin: 0 0.4em 0.5em 0.4em;box-sizing: border-box;padding-bottom: 0.4em;background-color: white;}#sk-container-id-1 div.sk-label label {font-family: monospace;font-weight: bold;display: inline-block;line-height: 1.2em;}#sk-container-id-1 div.sk-label-container {text-align: center;}#sk-container-id-1 div.sk-container {/* jupyter's `normalize.less` sets `[hidden] { display: none; }` but bootstrap.min.css set `[hidden] { display: none !important; }` so we also need the `!important` here to be able to override the default hidden behavior on the sphinx rendered scikit-learn.org. See: https://github.com/scikit-learn/scikit-learn/issues/21755 */display: inline-block !important;position: relative;}#sk-container-id-1 div.sk-text-repr-fallback {display: none;}</style><div id=\"sk-container-id-1\" class=\"sk-top-container\"><div class=\"sk-text-repr-fallback\"><pre>XGBClassifier(base_score=None, booster=None, callbacks=None,\n",
       "              colsample_bylevel=None, colsample_bynode=None,\n",
       "              colsample_bytree=None, early_stopping_rounds=None,\n",
       "              enable_categorical=False, eval_metric=None, feature_types=None,\n",
       "              gamma=None, gpu_id=None, grow_policy=None, importance_type=None,\n",
       "              interaction_constraints=None, learning_rate=None, max_bin=None,\n",
       "              max_cat_threshold=None, max_cat_to_onehot=None,\n",
       "              max_delta_step=None, max_depth=None, max_leaves=None,\n",
       "              min_child_weight=None, missing=nan, monotone_constraints=None,\n",
       "              n_estimators=100, n_jobs=None, num_parallel_tree=None,\n",
       "              objective=&#x27;multi:softprob&#x27;, predictor=None, ...)</pre><b>In a Jupyter environment, please rerun this cell to show the HTML representation or trust the notebook. <br />On GitHub, the HTML representation is unable to render, please try loading this page with nbviewer.org.</b></div><div class=\"sk-container\" hidden><div class=\"sk-item\"><div class=\"sk-estimator sk-toggleable\"><input class=\"sk-toggleable__control sk-hidden--visually\" id=\"sk-estimator-id-1\" type=\"checkbox\" checked><label for=\"sk-estimator-id-1\" class=\"sk-toggleable__label sk-toggleable__label-arrow\">XGBClassifier</label><div class=\"sk-toggleable__content\"><pre>XGBClassifier(base_score=None, booster=None, callbacks=None,\n",
       "              colsample_bylevel=None, colsample_bynode=None,\n",
       "              colsample_bytree=None, early_stopping_rounds=None,\n",
       "              enable_categorical=False, eval_metric=None, feature_types=None,\n",
       "              gamma=None, gpu_id=None, grow_policy=None, importance_type=None,\n",
       "              interaction_constraints=None, learning_rate=None, max_bin=None,\n",
       "              max_cat_threshold=None, max_cat_to_onehot=None,\n",
       "              max_delta_step=None, max_depth=None, max_leaves=None,\n",
       "              min_child_weight=None, missing=nan, monotone_constraints=None,\n",
       "              n_estimators=100, n_jobs=None, num_parallel_tree=None,\n",
       "              objective=&#x27;multi:softprob&#x27;, predictor=None, ...)</pre></div></div></div></div></div>"
      ],
      "text/plain": [
       "XGBClassifier(base_score=None, booster=None, callbacks=None,\n",
       "              colsample_bylevel=None, colsample_bynode=None,\n",
       "              colsample_bytree=None, early_stopping_rounds=None,\n",
       "              enable_categorical=False, eval_metric=None, feature_types=None,\n",
       "              gamma=None, gpu_id=None, grow_policy=None, importance_type=None,\n",
       "              interaction_constraints=None, learning_rate=None, max_bin=None,\n",
       "              max_cat_threshold=None, max_cat_to_onehot=None,\n",
       "              max_delta_step=None, max_depth=None, max_leaves=None,\n",
       "              min_child_weight=None, missing=nan, monotone_constraints=None,\n",
       "              n_estimators=100, n_jobs=None, num_parallel_tree=None,\n",
       "              objective='multi:softprob', predictor=None, ...)"
      ]
     },
     "execution_count": 7,
     "metadata": {},
     "output_type": "execute_result"
    }
   ],
   "source": [
    "model = XGBClassifier()\n",
    "model.fit(train_X, train_y)"
   ]
  },
  {
   "cell_type": "code",
   "execution_count": 8,
   "id": "d389a7a9",
   "metadata": {},
   "outputs": [
    {
     "name": "stdout",
     "output_type": "stream",
     "text": [
      "Accuracy: 64.17%\n"
     ]
    }
   ],
   "source": [
    "y_pred = model.predict(val_X)\n",
    "predictions = [round(value) for value in y_pred]\n",
    "# evaluate predictions\n",
    "accuracy = sklearn.metrics.balanced_accuracy_score(val_y, predictions)\n",
    "print(\"Accuracy: %.2f%%\" % (accuracy*100))"
   ]
  }
 ],
 "metadata": {
  "kernelspec": {
   "display_name": "Python 3 (ipykernel)",
   "language": "python",
   "name": "python3"
  },
  "language_info": {
   "codemirror_mode": {
    "name": "ipython",
    "version": 3
   },
   "file_extension": ".py",
   "mimetype": "text/x-python",
   "name": "python",
   "nbconvert_exporter": "python",
   "pygments_lexer": "ipython3",
   "version": "3.10.8"
  }
 },
 "nbformat": 4,
 "nbformat_minor": 5
}
