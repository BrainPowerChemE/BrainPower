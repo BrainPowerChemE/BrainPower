{
 "cells": [
  {
   "cell_type": "code",
   "execution_count": 1,
   "id": "00d3ad25",
   "metadata": {
    "scrolled": true
   },
   "outputs": [],
   "source": [
    "import pandas as pd\n",
    "import numpy as np\n",
    "import scipy.stats\n",
    "import sklearn.linear_model\n",
    "import sklearn.neighbors\n",
    "\n",
    "import matplotlib.pyplot as plt\n",
    "import seaborn as sns\n",
    "sns.set_style('whitegrid')\n",
    "sns.set_context('talk')\n",
    "\n",
    "import warnings\n",
    "warnings.filterwarnings(\"ignore\")\n",
    "\n",
    "\n",
    "\n",
    "\n",
    "from collections import Counter "
   ]
  },
  {
   "cell_type": "code",
   "execution_count": 2,
   "id": "78061671",
   "metadata": {},
   "outputs": [],
   "source": [
    "import sys\n",
    "sys.path.append('/home/jwerner/BrainPower/brainpower/submodule/')\n",
    "import bp_util"
   ]
  },
  {
   "cell_type": "code",
   "execution_count": 3,
   "id": "1cb58fae",
   "metadata": {},
   "outputs": [],
   "source": [
    "import pandas as pd"
   ]
  },
  {
   "cell_type": "code",
   "execution_count": 4,
   "id": "250953c1",
   "metadata": {},
   "outputs": [],
   "source": [
    "#feature_performance = np.load('feature_performance.npy',allow_pickle=True)"
   ]
  },
  {
   "cell_type": "code",
   "execution_count": 5,
   "id": "4d9319c0",
   "metadata": {},
   "outputs": [],
   "source": [
    "data_full = pd.read_csv('full_data_short.csv')"
   ]
  },
  {
   "cell_type": "code",
   "execution_count": 6,
   "id": "1b39bb60",
   "metadata": {},
   "outputs": [],
   "source": [
    "data_full = bp_util.handle_scale_and_nan(data_full)"
   ]
  },
  {
   "cell_type": "code",
   "execution_count": 41,
   "id": "1221aa75",
   "metadata": {},
   "outputs": [
    {
     "name": "stdout",
     "output_type": "stream",
     "text": [
      "Random state meeting tolerance threshold: 90598\n"
     ]
    }
   ],
   "source": [
    "data_train, data_val, data_test, data_dev, randstate, standdevs = bp_util.split_cats_by_tolerance(data_full,tolerance=0.0096,randstate=80943,retdev=True)"
   ]
  },
  {
   "cell_type": "code",
   "execution_count": 42,
   "id": "7440ed25",
   "metadata": {},
   "outputs": [
    {
     "name": "stdout",
     "output_type": "stream",
     "text": [
      "Most frequent score: 0.6388888888888888 Count: 20 /100\n",
      "randomstate: 2\n"
     ]
    }
   ],
   "source": [
    "train_eq, value, count, rep_randomstate = greater_train_cat_equalizer(data_train,data_val,randomstate=2)\n",
    "high_scores.append([randstate,standdevs,value])"
   ]
  },
  {
   "cell_type": "code",
   "execution_count": 43,
   "id": "02c3b6cb",
   "metadata": {
    "scrolled": true
   },
   "outputs": [
    {
     "data": {
      "text/plain": [
       "[[7975,\n",
       "  [0.007754925869808321,\n",
       "   0.00690666285085541,\n",
       "   0.009340547466703686,\n",
       "   0.008397103625487323],\n",
       "  0.75],\n",
       " [17540,\n",
       "  [0.00490741467549496,\n",
       "   0.00690666285085541,\n",
       "   0.009340547466703686,\n",
       "   0.005956870841811406],\n",
       "  0.6388888888888888],\n",
       " [24399,\n",
       "  [0.00490741467549496,\n",
       "   0.00690666285085541,\n",
       "   0.009340547466703686,\n",
       "   0.005956870841811406],\n",
       "  0.5833333333333334],\n",
       " [50276,\n",
       "  [0.00490741467549496,\n",
       "   0.00690666285085541,\n",
       "   0.009340547466703686,\n",
       "   0.005956870841811406],\n",
       "  0.5],\n",
       " [80942,\n",
       "  [0.00490741467549496,\n",
       "   0.00690666285085541,\n",
       "   0.009340547466703686,\n",
       "   0.005956870841811406],\n",
       "  0.5833333333333334],\n",
       " [90598,\n",
       "  [0.00490741467549496,\n",
       "   0.00690666285085541,\n",
       "   0.009340547466703686,\n",
       "   0.005956870841811406],\n",
       "  0.6388888888888888]]"
      ]
     },
     "execution_count": 43,
     "metadata": {},
     "output_type": "execute_result"
    }
   ],
   "source": [
    "high_scores"
   ]
  },
  {
   "cell_type": "code",
   "execution_count": 51,
   "id": "398f1905",
   "metadata": {},
   "outputs": [],
   "source": [
    "high_scores_df = pd.DataFrame(data=high_scores,columns=['rnd_state','stdevs','score'])"
   ]
  },
  {
   "cell_type": "code",
   "execution_count": 52,
   "id": "0336b072",
   "metadata": {},
   "outputs": [
    {
     "data": {
      "text/html": [
       "<div>\n",
       "<style scoped>\n",
       "    .dataframe tbody tr th:only-of-type {\n",
       "        vertical-align: middle;\n",
       "    }\n",
       "\n",
       "    .dataframe tbody tr th {\n",
       "        vertical-align: top;\n",
       "    }\n",
       "\n",
       "    .dataframe thead th {\n",
       "        text-align: right;\n",
       "    }\n",
       "</style>\n",
       "<table border=\"1\" class=\"dataframe\">\n",
       "  <thead>\n",
       "    <tr style=\"text-align: right;\">\n",
       "      <th></th>\n",
       "      <th>rnd_state</th>\n",
       "      <th>stdevs</th>\n",
       "      <th>score</th>\n",
       "    </tr>\n",
       "  </thead>\n",
       "  <tbody>\n",
       "    <tr>\n",
       "      <th>0</th>\n",
       "      <td>7975</td>\n",
       "      <td>[0.007754925869808321, 0.00690666285085541, 0....</td>\n",
       "      <td>0.750000</td>\n",
       "    </tr>\n",
       "    <tr>\n",
       "      <th>1</th>\n",
       "      <td>17540</td>\n",
       "      <td>[0.00490741467549496, 0.00690666285085541, 0.0...</td>\n",
       "      <td>0.638889</td>\n",
       "    </tr>\n",
       "    <tr>\n",
       "      <th>2</th>\n",
       "      <td>24399</td>\n",
       "      <td>[0.00490741467549496, 0.00690666285085541, 0.0...</td>\n",
       "      <td>0.583333</td>\n",
       "    </tr>\n",
       "    <tr>\n",
       "      <th>3</th>\n",
       "      <td>50276</td>\n",
       "      <td>[0.00490741467549496, 0.00690666285085541, 0.0...</td>\n",
       "      <td>0.500000</td>\n",
       "    </tr>\n",
       "    <tr>\n",
       "      <th>4</th>\n",
       "      <td>80942</td>\n",
       "      <td>[0.00490741467549496, 0.00690666285085541, 0.0...</td>\n",
       "      <td>0.583333</td>\n",
       "    </tr>\n",
       "    <tr>\n",
       "      <th>5</th>\n",
       "      <td>90598</td>\n",
       "      <td>[0.00490741467549496, 0.00690666285085541, 0.0...</td>\n",
       "      <td>0.638889</td>\n",
       "    </tr>\n",
       "  </tbody>\n",
       "</table>\n",
       "</div>"
      ],
      "text/plain": [
       "   rnd_state                                             stdevs     score\n",
       "0       7975  [0.007754925869808321, 0.00690666285085541, 0....  0.750000\n",
       "1      17540  [0.00490741467549496, 0.00690666285085541, 0.0...  0.638889\n",
       "2      24399  [0.00490741467549496, 0.00690666285085541, 0.0...  0.583333\n",
       "3      50276  [0.00490741467549496, 0.00690666285085541, 0.0...  0.500000\n",
       "4      80942  [0.00490741467549496, 0.00690666285085541, 0.0...  0.583333\n",
       "5      90598  [0.00490741467549496, 0.00690666285085541, 0.0...  0.638889"
      ]
     },
     "execution_count": 52,
     "metadata": {},
     "output_type": "execute_result"
    }
   ],
   "source": [
    "high_scores_df"
   ]
  },
  {
   "cell_type": "code",
   "execution_count": 63,
   "id": "d8a1807a",
   "metadata": {},
   "outputs": [],
   "source": [
    "high_scores_df['stdevs_mean'] = list(map(np.mean,high_scores_df['stdevs']))"
   ]
  },
  {
   "cell_type": "code",
   "execution_count": 64,
   "id": "90c42b24",
   "metadata": {},
   "outputs": [
    {
     "data": {
      "text/html": [
       "<div>\n",
       "<style scoped>\n",
       "    .dataframe tbody tr th:only-of-type {\n",
       "        vertical-align: middle;\n",
       "    }\n",
       "\n",
       "    .dataframe tbody tr th {\n",
       "        vertical-align: top;\n",
       "    }\n",
       "\n",
       "    .dataframe thead th {\n",
       "        text-align: right;\n",
       "    }\n",
       "</style>\n",
       "<table border=\"1\" class=\"dataframe\">\n",
       "  <thead>\n",
       "    <tr style=\"text-align: right;\">\n",
       "      <th></th>\n",
       "      <th>rnd_state</th>\n",
       "      <th>stdevs</th>\n",
       "      <th>score</th>\n",
       "      <th>stdevs_mean</th>\n",
       "    </tr>\n",
       "  </thead>\n",
       "  <tbody>\n",
       "    <tr>\n",
       "      <th>0</th>\n",
       "      <td>7975</td>\n",
       "      <td>[0.007754925869808321, 0.00690666285085541, 0....</td>\n",
       "      <td>0.750000</td>\n",
       "      <td>0.008100</td>\n",
       "    </tr>\n",
       "    <tr>\n",
       "      <th>1</th>\n",
       "      <td>17540</td>\n",
       "      <td>[0.00490741467549496, 0.00690666285085541, 0.0...</td>\n",
       "      <td>0.638889</td>\n",
       "      <td>0.006778</td>\n",
       "    </tr>\n",
       "    <tr>\n",
       "      <th>2</th>\n",
       "      <td>24399</td>\n",
       "      <td>[0.00490741467549496, 0.00690666285085541, 0.0...</td>\n",
       "      <td>0.583333</td>\n",
       "      <td>0.006778</td>\n",
       "    </tr>\n",
       "    <tr>\n",
       "      <th>3</th>\n",
       "      <td>50276</td>\n",
       "      <td>[0.00490741467549496, 0.00690666285085541, 0.0...</td>\n",
       "      <td>0.500000</td>\n",
       "      <td>0.006778</td>\n",
       "    </tr>\n",
       "    <tr>\n",
       "      <th>4</th>\n",
       "      <td>80942</td>\n",
       "      <td>[0.00490741467549496, 0.00690666285085541, 0.0...</td>\n",
       "      <td>0.583333</td>\n",
       "      <td>0.006778</td>\n",
       "    </tr>\n",
       "    <tr>\n",
       "      <th>5</th>\n",
       "      <td>90598</td>\n",
       "      <td>[0.00490741467549496, 0.00690666285085541, 0.0...</td>\n",
       "      <td>0.638889</td>\n",
       "      <td>0.006778</td>\n",
       "    </tr>\n",
       "  </tbody>\n",
       "</table>\n",
       "</div>"
      ],
      "text/plain": [
       "   rnd_state                                             stdevs     score  \\\n",
       "0       7975  [0.007754925869808321, 0.00690666285085541, 0....  0.750000   \n",
       "1      17540  [0.00490741467549496, 0.00690666285085541, 0.0...  0.638889   \n",
       "2      24399  [0.00490741467549496, 0.00690666285085541, 0.0...  0.583333   \n",
       "3      50276  [0.00490741467549496, 0.00690666285085541, 0.0...  0.500000   \n",
       "4      80942  [0.00490741467549496, 0.00690666285085541, 0.0...  0.583333   \n",
       "5      90598  [0.00490741467549496, 0.00690666285085541, 0.0...  0.638889   \n",
       "\n",
       "   stdevs_mean  \n",
       "0     0.008100  \n",
       "1     0.006778  \n",
       "2     0.006778  \n",
       "3     0.006778  \n",
       "4     0.006778  \n",
       "5     0.006778  "
      ]
     },
     "execution_count": 64,
     "metadata": {},
     "output_type": "execute_result"
    }
   ],
   "source": [
    "high_scores_df"
   ]
  },
  {
   "cell_type": "code",
   "execution_count": 59,
   "id": "9f29ea24",
   "metadata": {},
   "outputs": [
    {
     "data": {
      "text/plain": [
       "method"
      ]
     },
     "execution_count": 59,
     "metadata": {},
     "output_type": "execute_result"
    }
   ],
   "source": [
    "type(meanie)"
   ]
  },
  {
   "cell_type": "code",
   "execution_count": 50,
   "id": "826e9acd",
   "metadata": {},
   "outputs": [
    {
     "data": {
      "text/html": [
       "<div>\n",
       "<style scoped>\n",
       "    .dataframe tbody tr th:only-of-type {\n",
       "        vertical-align: middle;\n",
       "    }\n",
       "\n",
       "    .dataframe tbody tr th {\n",
       "        vertical-align: top;\n",
       "    }\n",
       "\n",
       "    .dataframe thead th {\n",
       "        text-align: right;\n",
       "    }\n",
       "</style>\n",
       "<table border=\"1\" class=\"dataframe\">\n",
       "  <thead>\n",
       "    <tr style=\"text-align: right;\">\n",
       "      <th></th>\n",
       "      <th>rnd_state</th>\n",
       "      <th>stdevs</th>\n",
       "      <th>score</th>\n",
       "    </tr>\n",
       "  </thead>\n",
       "  <tbody>\n",
       "    <tr>\n",
       "      <th>0</th>\n",
       "      <td>7975</td>\n",
       "      <td>&lt;bound method NDFrame._add_numeric_operations....</td>\n",
       "      <td>0.750000</td>\n",
       "    </tr>\n",
       "    <tr>\n",
       "      <th>1</th>\n",
       "      <td>17540</td>\n",
       "      <td>&lt;bound method NDFrame._add_numeric_operations....</td>\n",
       "      <td>0.638889</td>\n",
       "    </tr>\n",
       "    <tr>\n",
       "      <th>2</th>\n",
       "      <td>24399</td>\n",
       "      <td>&lt;bound method NDFrame._add_numeric_operations....</td>\n",
       "      <td>0.583333</td>\n",
       "    </tr>\n",
       "    <tr>\n",
       "      <th>3</th>\n",
       "      <td>50276</td>\n",
       "      <td>&lt;bound method NDFrame._add_numeric_operations....</td>\n",
       "      <td>0.500000</td>\n",
       "    </tr>\n",
       "    <tr>\n",
       "      <th>4</th>\n",
       "      <td>80942</td>\n",
       "      <td>&lt;bound method NDFrame._add_numeric_operations....</td>\n",
       "      <td>0.583333</td>\n",
       "    </tr>\n",
       "    <tr>\n",
       "      <th>5</th>\n",
       "      <td>90598</td>\n",
       "      <td>&lt;bound method NDFrame._add_numeric_operations....</td>\n",
       "      <td>0.638889</td>\n",
       "    </tr>\n",
       "  </tbody>\n",
       "</table>\n",
       "</div>"
      ],
      "text/plain": [
       "   rnd_state                                             stdevs     score\n",
       "0       7975  <bound method NDFrame._add_numeric_operations....  0.750000\n",
       "1      17540  <bound method NDFrame._add_numeric_operations....  0.638889\n",
       "2      24399  <bound method NDFrame._add_numeric_operations....  0.583333\n",
       "3      50276  <bound method NDFrame._add_numeric_operations....  0.500000\n",
       "4      80942  <bound method NDFrame._add_numeric_operations....  0.583333\n",
       "5      90598  <bound method NDFrame._add_numeric_operations....  0.638889"
      ]
     },
     "execution_count": 50,
     "metadata": {},
     "output_type": "execute_result"
    }
   ],
   "source": [
    "high_scores_df"
   ]
  },
  {
   "cell_type": "code",
   "execution_count": 10,
   "id": "fef0f05a",
   "metadata": {},
   "outputs": [
    {
     "name": "stdout",
     "output_type": "stream",
     "text": [
      "Random state meeting tolerance threshold: 7975\n",
      "Most frequent score: 0.75 Count: 20 /100\n",
      "randomstate: 11\n",
      "Random state meeting tolerance threshold: 7975\n",
      "Most frequent score: 0.75 Count: 20 /100\n",
      "randomstate: 11\n",
      "Random state meeting tolerance threshold: 4913\n",
      "Most frequent score: 0.6111111111111112 Count: 23 /100\n",
      "randomstate: 3\n",
      "Random state meeting tolerance threshold: 592\n",
      "Most frequent score: 0.6111111111111112 Count: 17 /100\n",
      "randomstate: 3\n",
      "Random state meeting tolerance threshold: 592\n",
      "Most frequent score: 0.6111111111111112 Count: 17 /100\n",
      "randomstate: 3\n",
      "Random state meeting tolerance threshold: 592\n",
      "Most frequent score: 0.6111111111111112 Count: 17 /100\n",
      "randomstate: 3\n",
      "Random state meeting tolerance threshold: 592\n",
      "Most frequent score: 0.6111111111111112 Count: 17 /100\n",
      "randomstate: 3\n",
      "Random state meeting tolerance threshold: 592\n",
      "Most frequent score: 0.6111111111111112 Count: 17 /100\n",
      "randomstate: 3\n",
      "Random state meeting tolerance threshold: 159\n",
      "Most frequent score: 0.6111111111111112 Count: 19 /100\n",
      "randomstate: 13\n",
      "Random state meeting tolerance threshold: 159\n",
      "Most frequent score: 0.6111111111111112 Count: 19 /100\n",
      "randomstate: 13\n",
      "Random state meeting tolerance threshold: 159\n",
      "Most frequent score: 0.6111111111111112 Count: 19 /100\n",
      "randomstate: 13\n",
      "Random state meeting tolerance threshold: 60\n",
      "Most frequent score: 0.6388888888888888 Count: 21 /100\n",
      "randomstate: 1\n",
      "Random state meeting tolerance threshold: 60\n",
      "Most frequent score: 0.6388888888888888 Count: 21 /100\n",
      "randomstate: 1\n",
      "Random state meeting tolerance threshold: 22\n",
      "Most frequent score: 0.5 Count: 18 /100\n",
      "randomstate: 5\n",
      "Random state meeting tolerance threshold: 14\n",
      "Most frequent score: 0.5555555555555556 Count: 18 /100\n",
      "randomstate: 7\n",
      "Random state meeting tolerance threshold: 14\n",
      "Most frequent score: 0.5555555555555556 Count: 18 /100\n",
      "randomstate: 7\n",
      "Random state meeting tolerance threshold: 14\n",
      "Most frequent score: 0.5555555555555556 Count: 18 /100\n",
      "randomstate: 7\n",
      "Random state meeting tolerance threshold: 3\n",
      "Most frequent score: 0.6111111111111112 Count: 20 /100\n",
      "randomstate: 3\n",
      "Random state meeting tolerance threshold: 3\n",
      "Most frequent score: 0.6111111111111112 Count: 20 /100\n",
      "randomstate: 3\n",
      "Random state meeting tolerance threshold: 3\n",
      "Most frequent score: 0.6111111111111112 Count: 20 /100\n",
      "randomstate: 3\n",
      "Random state meeting tolerance threshold: 3\n",
      "Most frequent score: 0.6111111111111112 Count: 20 /100\n",
      "randomstate: 3\n",
      "Random state meeting tolerance threshold: 3\n",
      "Most frequent score: 0.6111111111111112 Count: 20 /100\n",
      "randomstate: 3\n",
      "Random state meeting tolerance threshold: 1\n",
      "Most frequent score: 0.5833333333333334 Count: 18 /100\n",
      "randomstate: 10\n",
      "Random state meeting tolerance threshold: 1\n",
      "Most frequent score: 0.5833333333333334 Count: 18 /100\n",
      "randomstate: 10\n",
      "Random state meeting tolerance threshold: 1\n",
      "Most frequent score: 0.5833333333333334 Count: 18 /100\n",
      "randomstate: 10\n",
      "Random state meeting tolerance threshold: 1\n",
      "Most frequent score: 0.5833333333333334 Count: 18 /100\n",
      "randomstate: 10\n"
     ]
    }
   ],
   "source": [
    "split_cats_investigation = []\n",
    "for i in [0.0096, 0.0098, 0.01, 0.012, 0.014, 0.016, 0.018, 0.02, 0.022, 0.024, 0.026, 0.028, 0.03, 0.032, 0.034, 0.036, 0.038, 0.040, 0.042, 0.044, 0.046, 0.048, 0.050, 0.052, 0.053, 0.054]:\n",
    "    data_train, data_val, data_test, data_dev, randstate, standdevs = bp_util.split_cats_by_tolerance(data_full,i,retdev=True)\n",
    "    df_train_eq, value, count, rep_randomstate = greater_train_cat_equalizer(data_train,data_val,randomstate=2)\n",
    "    split_cats_investigation.append([randstate,standdevs, rep_randomstate,value,count])"
   ]
  },
  {
   "cell_type": "code",
   "execution_count": 11,
   "id": "a513268f",
   "metadata": {},
   "outputs": [],
   "source": [
    "keepers = []\n"
   ]
  },
  {
   "cell_type": "code",
   "execution_count": 12,
   "id": "3d601d2f",
   "metadata": {},
   "outputs": [],
   "source": [
    "for i in [0,2,3,8,11,13,14,17,22]:\n",
    "    keepers.append(split_cats_investigation[i])"
   ]
  },
  {
   "cell_type": "code",
   "execution_count": 17,
   "id": "f7346fa0",
   "metadata": {},
   "outputs": [],
   "source": [
    "keepers_df = pd.DataFrame(data=keepers, columns=['split_RS','stdevs','eq_RS','freq_score','counts'])"
   ]
  },
  {
   "cell_type": "code",
   "execution_count": 18,
   "id": "3ea294e5",
   "metadata": {},
   "outputs": [
    {
     "data": {
      "text/html": [
       "<div>\n",
       "<style scoped>\n",
       "    .dataframe tbody tr th:only-of-type {\n",
       "        vertical-align: middle;\n",
       "    }\n",
       "\n",
       "    .dataframe tbody tr th {\n",
       "        vertical-align: top;\n",
       "    }\n",
       "\n",
       "    .dataframe thead th {\n",
       "        text-align: right;\n",
       "    }\n",
       "</style>\n",
       "<table border=\"1\" class=\"dataframe\">\n",
       "  <thead>\n",
       "    <tr style=\"text-align: right;\">\n",
       "      <th></th>\n",
       "      <th>split_RS</th>\n",
       "      <th>stdevs</th>\n",
       "      <th>eq_RS</th>\n",
       "      <th>freq_score</th>\n",
       "      <th>counts</th>\n",
       "    </tr>\n",
       "  </thead>\n",
       "  <tbody>\n",
       "    <tr>\n",
       "      <th>0</th>\n",
       "      <td>7975</td>\n",
       "      <td>[0.007754925869808321, 0.00690666285085541, 0....</td>\n",
       "      <td>11</td>\n",
       "      <td>0.750000</td>\n",
       "      <td>20</td>\n",
       "    </tr>\n",
       "    <tr>\n",
       "      <th>1</th>\n",
       "      <td>4913</td>\n",
       "      <td>[0.007754925869808321, 0.009958820207952765, 0...</td>\n",
       "      <td>3</td>\n",
       "      <td>0.611111</td>\n",
       "      <td>23</td>\n",
       "    </tr>\n",
       "    <tr>\n",
       "      <th>2</th>\n",
       "      <td>592</td>\n",
       "      <td>[0.007754925869808321, 0.010112638234791114, 0...</td>\n",
       "      <td>3</td>\n",
       "      <td>0.611111</td>\n",
       "      <td>17</td>\n",
       "    </tr>\n",
       "    <tr>\n",
       "      <th>3</th>\n",
       "      <td>159</td>\n",
       "      <td>[0.00490741467549496, 0.02028106875962673, 0.0...</td>\n",
       "      <td>13</td>\n",
       "      <td>0.611111</td>\n",
       "      <td>19</td>\n",
       "    </tr>\n",
       "    <tr>\n",
       "      <th>4</th>\n",
       "      <td>60</td>\n",
       "      <td>[0.017414291963215523, 0.016748646449269888, 0...</td>\n",
       "      <td>1</td>\n",
       "      <td>0.638889</td>\n",
       "      <td>21</td>\n",
       "    </tr>\n",
       "    <tr>\n",
       "      <th>5</th>\n",
       "      <td>22</td>\n",
       "      <td>[0.01840976830580362, 0.00690666285085541, 0.0...</td>\n",
       "      <td>5</td>\n",
       "      <td>0.500000</td>\n",
       "      <td>18</td>\n",
       "    </tr>\n",
       "    <tr>\n",
       "      <th>6</th>\n",
       "      <td>14</td>\n",
       "      <td>[0.027740497683085372, 0.03246741694422348, 0....</td>\n",
       "      <td>7</td>\n",
       "      <td>0.555556</td>\n",
       "      <td>18</td>\n",
       "    </tr>\n",
       "    <tr>\n",
       "      <th>7</th>\n",
       "      <td>3</td>\n",
       "      <td>[0.029495984250195284, 0.030936568514682183, 0...</td>\n",
       "      <td>3</td>\n",
       "      <td>0.611111</td>\n",
       "      <td>20</td>\n",
       "    </tr>\n",
       "    <tr>\n",
       "      <th>8</th>\n",
       "      <td>1</td>\n",
       "      <td>[0.027338841881734483, 0.038092740448397, 0.03...</td>\n",
       "      <td>10</td>\n",
       "      <td>0.583333</td>\n",
       "      <td>18</td>\n",
       "    </tr>\n",
       "  </tbody>\n",
       "</table>\n",
       "</div>"
      ],
      "text/plain": [
       "   split_RS                                             stdevs  eq_RS  \\\n",
       "0      7975  [0.007754925869808321, 0.00690666285085541, 0....     11   \n",
       "1      4913  [0.007754925869808321, 0.009958820207952765, 0...      3   \n",
       "2       592  [0.007754925869808321, 0.010112638234791114, 0...      3   \n",
       "3       159  [0.00490741467549496, 0.02028106875962673, 0.0...     13   \n",
       "4        60  [0.017414291963215523, 0.016748646449269888, 0...      1   \n",
       "5        22  [0.01840976830580362, 0.00690666285085541, 0.0...      5   \n",
       "6        14  [0.027740497683085372, 0.03246741694422348, 0....      7   \n",
       "7         3  [0.029495984250195284, 0.030936568514682183, 0...      3   \n",
       "8         1  [0.027338841881734483, 0.038092740448397, 0.03...     10   \n",
       "\n",
       "   freq_score  counts  \n",
       "0    0.750000      20  \n",
       "1    0.611111      23  \n",
       "2    0.611111      17  \n",
       "3    0.611111      19  \n",
       "4    0.638889      21  \n",
       "5    0.500000      18  \n",
       "6    0.555556      18  \n",
       "7    0.611111      20  \n",
       "8    0.583333      18  "
      ]
     },
     "execution_count": 18,
     "metadata": {},
     "output_type": "execute_result"
    }
   ],
   "source": [
    "keepers_df"
   ]
  },
  {
   "cell_type": "code",
   "execution_count": 19,
   "id": "2d9f7723",
   "metadata": {},
   "outputs": [],
   "source": [
    "threshholds = [0.0096, 0.0098, 0.01, 0.012, 0.014, 0.016, 0.018, 0.02, 0.022, 0.024, 0.026, 0.028, 0.03, 0.032, 0.034, 0.036, 0.038, 0.040, 0.042, 0.044, 0.046, 0.048, 0.050, 0.052, 0.053, 0.054]"
   ]
  },
  {
   "cell_type": "code",
   "execution_count": 20,
   "id": "3fcb8dde",
   "metadata": {},
   "outputs": [],
   "source": [
    "used_thresh = []\n",
    "for i in [0,2,3,8,11,13,14,17,22]:\n",
    "    used_thresh.append(threshholds[i])"
   ]
  },
  {
   "cell_type": "code",
   "execution_count": 21,
   "id": "040e10e3",
   "metadata": {},
   "outputs": [
    {
     "data": {
      "text/plain": [
       "[0.0096, 0.01, 0.012, 0.022, 0.028, 0.032, 0.034, 0.04, 0.05]"
      ]
     },
     "execution_count": 21,
     "metadata": {},
     "output_type": "execute_result"
    }
   ],
   "source": [
    "used_thresh"
   ]
  },
  {
   "cell_type": "code",
   "execution_count": 22,
   "id": "38918acb",
   "metadata": {},
   "outputs": [
    {
     "data": {
      "text/plain": [
       "<AxesSubplot: ylabel='freq_score'>"
      ]
     },
     "execution_count": 22,
     "metadata": {},
     "output_type": "execute_result"
    },
    {
     "data": {
      "image/png": "[encoded data removed]",
      "text/plain": [
       "<Figure size 640x480 with 1 Axes>"
      ]
     },
     "metadata": {},
     "output_type": "display_data"
    }
   ],
   "source": [
    "sns.scatterplot(x=used_thresh, y=keepers_df['freq_score'])"
   ]
  },
  {
   "cell_type": "code",
   "execution_count": 56,
   "id": "64c8e52f",
   "metadata": {},
   "outputs": [],
   "source": [
    "randstates = [4913,7975,9656,17540,19416,24399,26328,29070,32049,40571]"
   ]
  },
  {
   "cell_type": "code",
   "execution_count": 8,
   "id": "78b5f401",
   "metadata": {},
   "outputs": [],
   "source": [
    "def greater_train_cat_equalizer(df_train,df_val,randomstate=1,categories=['Healthy','AD_MCI','PD','PD_MCI_LBD']):\n",
    "    def train_cat_equalizer(df_train,randomstate=1,categories=['Healthy','AD_MCI','PD','PD_MCI_LBD']):\n",
    "        \"\"\"\n",
    "        Randomly selects rows among each category such that each category has an equal number of rows.\n",
    "        Ensures the truncated training frame has the same columns with NaN so if NaN columns are dropped, the truncated training frame has the same features as the val and test frames\n",
    "        \"\"\"\n",
    "\n",
    "        # Determine the value counts of each category in in the training datal\n",
    "        d = dict(df_train['group'].value_counts())\n",
    "        min_cat = min(d, key=d.get)\n",
    "        min_count = min(d.values())\n",
    "        #print('Minimum category,',min_cat,', has',min_count,'rows... returning training data with',min_count,'rows for each category')\n",
    "\n",
    "        # pd.sample will randomly sample rows. All chosen rows must have \n",
    "\n",
    "        dataframes = []\n",
    "        for i in range(0,len(categories)):\n",
    "            dataframes.append(df_train[df_train['group'] == categories[i]].sample(n=min_count,random_state=randomstate))\n",
    "            \n",
    "        df_train_eq = pd.concat(dataframes)\n",
    "        df_train_eq = pd.DataFrame(df_train_eq)\n",
    "\n",
    "        return df_train_eq\n",
    "    \n",
    "    def randomstate_sampler(df_train,df_val):\n",
    "        randomsamplestates = {}\n",
    "        for i in range(1,100):\n",
    "            df_train_eq = train_cat_equalizer(df_train,randomstate=i)\n",
    "            X_train = df_train_eq.drop(columns=['group','assay_ID'])\n",
    "            y_train = df_train_eq['group']\n",
    "            X_val = df_val.drop(columns=['group','assay_ID'])\n",
    "            y_val = df_val['group']\n",
    "            model = sklearn.linear_model.RidgeClassifier()\n",
    "            model.fit(X_train,y_train)\n",
    "            randomsamplestates[i] = model.score(X_val,y_val)\n",
    "        value, count = Counter(randomsamplestates.values()).most_common(1)[0]\n",
    "        print('Most frequent score:',value,'Count:',count,'/100')\n",
    "        print('randomstate:',list(randomsamplestates.values()).index(value)+1)\n",
    "        rep_randomstate = list(randomsamplestates.values()).index(value)+1\n",
    "        \n",
    "        return rep_randomstate, value, count\n",
    "        \n",
    "    df_train_eq = train_cat_equalizer(df_train)\n",
    "    rep_randomstate, value, count = randomstate_sampler(df_train,df_val)\n",
    "    df_train_eq = train_cat_equalizer(df_train,randomstate=rep_randomstate)\n",
    "    \n",
    "    return df_train_eq, value, count, rep_randomstate"
   ]
  },
  {
   "cell_type": "code",
   "execution_count": 9,
   "id": "38d67422",
   "metadata": {},
   "outputs": [],
   "source": [
    "def train_cat_equalizer(df_train,randomstate=1,categories=['Healthy','AD_MCI','PD','PD_MCI_LBD']):\n",
    "    \"\"\"\n",
    "    Randomly selects rows among each category such that each category has an equal number of rows.\n",
    "    Ensures the truncated training frame has the same columns with NaN so if NaN columns are dropped, the truncated training frame has the same features as the val and test frames\n",
    "    \"\"\"\n",
    "      \n",
    "    # Determine the value counts of each category in in the training datal\n",
    "    d = dict(df_train['group'].value_counts())\n",
    "    min_cat = min(d, key=d.get)\n",
    "    min_count = min(d.values())\n",
    "    #print('Minimum category,',min_cat,', has',min_count,'rows... returning training data with',min_count,'rows for each category')\n",
    "    \n",
    "    # pd.sample will randomly sample rows. All chosen rows must have \n",
    "    \n",
    "    dataframes = []\n",
    "    for i in range(0,len(categories)):\n",
    "        dataframes.append(df_train[df_train['group'] == categories[i]].sample(n=min_count,random_state=randomstate))\n",
    "    trunc_df = pd.concat(dataframes)\n",
    "    trunc_df = pd.DataFrame(trunc_df)\n",
    "\n",
    "    return trunc_df"
   ]
  }
 ],
 "metadata": {
  "kernelspec": {
   "display_name": "Python 3 (ipykernel)",
   "language": "python",
   "name": "python3"
  },
  "language_info": {
   "codemirror_mode": {
    "name": "ipython",
    "version": 3
   },
   "file_extension": ".py",
   "mimetype": "text/x-python",
   "name": "python",
   "nbconvert_exporter": "python",
   "pygments_lexer": "ipython3",
   "version": "3.10.8"
  }
 },
 "nbformat": 4,
 "nbformat_minor": 5
}
