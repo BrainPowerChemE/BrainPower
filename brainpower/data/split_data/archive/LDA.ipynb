{
 "cells": [
  {
   "cell_type": "code",
   "execution_count": 1,
   "id": "c6176b1e",
   "metadata": {},
   "outputs": [],
   "source": [
    "import pandas as pd\n",
    "import numpy as np\n",
    "import scipy.stats\n",
    "import sklearn.linear_model\n",
    "import sklearn.neighbors\n",
    "\n",
    "import matplotlib.pyplot as plt\n",
    "import seaborn as sns\n",
    "sns.set_style('whitegrid')\n",
    "sns.set_context('talk')\n",
    "\n",
    "import warnings\n",
    "warnings.filterwarnings(\"ignore\")\n",
    "\n",
    "import mlxtend.feature_selection\n",
    "import mlxtend.preprocessing\n",
    "import mlxtend.feature_extraction\n"
   ]
  },
  {
   "cell_type": "code",
   "execution_count": 3,
   "id": "f1cd8c76",
   "metadata": {},
   "outputs": [],
   "source": [
    "data_full = pd.read_csv('full_data_short.csv')"
   ]
  },
  {
   "cell_type": "markdown",
   "id": "2170dd8a",
   "metadata": {},
   "source": [
    "#### Scale data and handle nan values MUST BE DONE BEFORE OTHER FUNCTIONS ON THIS NOTEBOOK"
   ]
  },
  {
   "cell_type": "code",
   "execution_count": 4,
   "id": "fbba6526",
   "metadata": {},
   "outputs": [],
   "source": [
    "def handle_scale_and_nan(frame,nandecision='drop',scale='MinMax'):\n",
    "    features = list(frame.select_dtypes(include='float64'))\n",
    "    cat = list(frame.select_dtypes(include='object'))\n",
    "\n",
    "    if scale == 'MinMax':\n",
    "        scaler = sklearn.preprocessing.MinMaxScaler().fit(frame[features])\n",
    "    elif scale == 'Standard':\n",
    "        scaler = sklearn.preprocessing.StandardScaler().fit(frame[features])\n",
    "        \n",
    "    df_cont = pd.DataFrame(data=scaler.transform(frame[features]), columns=features)\n",
    "    df_cat = pd.DataFrame(data=frame[cat], columns=cat)\n",
    "    \n",
    "    frame = pd.concat([df_cat,df_cont],axis=1)\n",
    "    \n",
    "    if nandecision == 'mean':\n",
    "            for feature in features:\n",
    "                frame[feature].fillna((frame[feature].mean()), inplace=True)\n",
    "    elif nandecision == 'drop':\n",
    "            frame = frame.dropna(axis=1)\n",
    "        \n",
    "    return frame"
   ]
  },
  {
   "cell_type": "code",
   "execution_count": 5,
   "id": "e68d3783",
   "metadata": {},
   "outputs": [],
   "source": [
    "data_full = handle_scale_and_nan(data_full,nandecision='drop',scale='MinMax')"
   ]
  },
  {
   "cell_type": "markdown",
   "id": "b6f5785a",
   "metadata": {},
   "source": [
    "#### Pick random state for model selection such that the ratio of each category is approximately the same in all sets.\n",
    "ie: healthy is 58% of training, dev, and test sets rather than 56%, 58%, and 61%. This function loops until the standard deviation between these percentages for each category is below some tolerance level. Based on the data we have, the random state 7975 produces standard deviations of the ratios less than 1%."
   ]
  },
  {
   "cell_type": "code",
   "execution_count": 115,
   "id": "25698633",
   "metadata": {},
   "outputs": [],
   "source": [
    "def split_cats_by_tolerance(frame,tolerance,\n",
    "                       dev_test_split=0.15,train_val_split=0.15,\n",
    "                       randstate=7975,step=1,\n",
    "                       categories=['Healthy','AD_MCI','PD','PD_MCI_LBD'], retdev=False):\n",
    "    \"\"\"\n",
    "    Split a chosen pandas dataframe into train, val, and test.\n",
    "    df_full: the full dataframe\n",
    "    tolerance: target standard deviation between category abundances in train, val, test frames.\n",
    "                EG if category \"a\" has abundances of [0.554, 0.555, 0.571] in the train, val, and test frames, \n",
    "                    the std for \"a\" is 0.00779. \n",
    "                    If the stated tolerance is greater than 0.00779, category a is satisfied. \n",
    "                    All categories must be satisfied simultaneously by a single random state to break the loop.\n",
    "    dev_test_split: first split between dev and test frames\n",
    "    train_val_split: second split between train and val frames\n",
    "    initial_random_state: start random state search here\n",
    "    step: step of random state each loop\n",
    "    categories: categories present in data\n",
    "    retdev: if False (default), return = df_train, df_val, df_test\n",
    "            if True, return = df_train, df_val, df_test, df_dev\n",
    "    \"\"\"\n",
    "    \n",
    "    import sklearn.model_selection\n",
    "    import pandas as pd\n",
    "    tolerable_list = []\n",
    "    while sum(tolerable_list) != 4:\n",
    "        df_dev, df_test = sklearn.model_selection.train_test_split(frame,test_size=dev_test_split,random_state=randstate)\n",
    "        df_train, df_val = sklearn.model_selection.train_test_split(df_dev,test_size=train_val_split,random_state=randstate)\n",
    "        \n",
    "        train_dict = dict(df_train['group'].value_counts())\n",
    "        val_dict = dict(df_val['group'].value_counts())\n",
    "        test_dict = dict(df_test['group'].value_counts())\n",
    "\n",
    "        tolerable_list = []\n",
    "        stats_dict = {}\n",
    "        for i in range(0,len(categories)):\n",
    "            try:\n",
    "                train_dict[categories[i]]\n",
    "                val_dict[categories[i]]\n",
    "                test_dict[categories[i]]\n",
    "            except KeyError:\n",
    "                break\n",
    "            percents = [\n",
    "                (train_dict[categories[i]]/len(df_train)),\n",
    "                (val_dict[categories[i]]/len(df_val)),\n",
    "                (test_dict[categories[i]]/len(df_test)),\n",
    "                    ]\n",
    "            standdev = np.std(percents)\n",
    "            if standdev <= tolerance:\n",
    "                tolerable_list.append(1)\n",
    "                stats_dict[str(categories[i])] = [[*percents],standdev]\n",
    "            else:\n",
    "                tolerable_list.append(0) \n",
    "        randstate += step\n",
    "    \n",
    "#    if sum(tolerable_list) == 4:\n",
    "#        print('Random state meeting tolerance threshold:',randstate-1)\n",
    "#        print('Value counts in this state')\n",
    "#        print(train_dict)\n",
    "#        print(val_dict)\n",
    "#        print(test_dict)\n",
    "#        print()\n",
    "#        for i in range(0,len(categories)):\n",
    "#            print('\\nPercent',categories[i],'in train, val, test:',stats_dict[categories[i]][0],\n",
    "#                  '\\nStandard deviation of these values:',stats_dict[categories[i]][1],'\\n')\n",
    "    \n",
    "    if retdev == False:\n",
    "        return df_train, df_val, df_test, randstate-1\n",
    "    if retdev == True:\n",
    "        return df_train, df_val, df_test, df_dev, randstate-1\n"
   ]
  },
  {
   "cell_type": "code",
   "execution_count": 117,
   "id": "5b77a6e6",
   "metadata": {
    "scrolled": true
   },
   "outputs": [],
   "source": [
    "data_train, data_val, data_test, randstate = split_cats_by_tolerance(data_full,tolerance=0.0096, randstate=90598)"
   ]
  },
  {
   "cell_type": "code",
   "execution_count": 118,
   "id": "a1517bcb",
   "metadata": {},
   "outputs": [
    {
     "data": {
      "text/plain": [
       "90598"
      ]
     },
     "execution_count": 118,
     "metadata": {},
     "output_type": "execute_result"
    }
   ],
   "source": [
    "randstate"
   ]
  },
  {
   "cell_type": "code",
   "execution_count": 86,
   "id": "8d2077ec",
   "metadata": {},
   "outputs": [],
   "source": [
    "randstates = [4913,7975,9656,17540,19416,24399,26328,29070,32049,40571]"
   ]
  },
  {
   "cell_type": "markdown",
   "id": "3a005e8f",
   "metadata": {},
   "source": [
    "#### Reduce the number of samples of each category in the training data so they are equal"
   ]
  },
  {
   "cell_type": "code",
   "execution_count": 87,
   "id": "8cb1d209",
   "metadata": {},
   "outputs": [],
   "source": [
    "def train_cat_equalizer(df_train,randomstate=1,categories=['Healthy','AD_MCI','PD','PD_MCI_LBD']):\n",
    "    \"\"\"\n",
    "    Randomly selects rows among each category such that each category has an equal number of rows.\n",
    "    Ensures the truncated training frame has the same columns with NaN so if NaN columns are dropped, the truncated training frame has the same features as the val and test frames\n",
    "    \"\"\"\n",
    "      \n",
    "    # Determine the value counts of each category in in the training datal\n",
    "    d = dict(df_train['group'].value_counts())\n",
    "    min_cat = min(d, key=d.get)\n",
    "    min_count = min(d.values())\n",
    "    #print('Minimum category,',min_cat,', has',min_count,'rows... returning training data with',min_count,'rows for each category')\n",
    "    \n",
    "    # pd.sample will randomly sample rows. All chosen rows must have \n",
    "    \n",
    "    dataframes = []\n",
    "    for i in range(0,len(categories)):\n",
    "        dataframes.append(df_train[df_train['group'] == categories[i]].sample(n=min_count,random_state=randomstate))\n",
    "    trunc_df = pd.concat(dataframes)\n",
    "    trunc_df = pd.DataFrame(trunc_df)\n",
    "\n",
    "    return trunc_df"
   ]
  },
  {
   "cell_type": "code",
   "execution_count": 88,
   "id": "3a42b7ba",
   "metadata": {},
   "outputs": [
    {
     "name": "stdout",
     "output_type": "stream",
     "text": [
      "train (unequalized)\n",
      " Healthy       112\n",
      "AD_MCI         36\n",
      "PD_MCI_LBD     27\n",
      "PD             27\n",
      "Name: group, dtype: int64\n",
      "\n",
      "train (equalized)\n",
      " Healthy       27\n",
      "AD_MCI        27\n",
      "PD            27\n",
      "PD_MCI_LBD    27\n",
      "Name: group, dtype: int64\n",
      "\n",
      "val\n",
      " Healthy       20\n",
      "AD_MCI         7\n",
      "PD_MCI_LBD     5\n",
      "PD             4\n",
      "Name: group, dtype: int64\n",
      "\n",
      "test\n",
      " Healthy       24\n",
      "AD_MCI         8\n",
      "PD             5\n",
      "PD_MCI_LBD     5\n",
      "Name: group, dtype: int64\n"
     ]
    }
   ],
   "source": [
    "data_train_eq = train_cat_equalizer(data_train)\n",
    "print('train (unequalized)\\n',data_train['group'].value_counts())\n",
    "print('\\ntrain (equalized)\\n',data_train_eq['group'].value_counts())\n",
    "print('\\nval\\n',data_val['group'].value_counts())\n",
    "print('\\ntest\\n',data_test['group'].value_counts())"
   ]
  },
  {
   "cell_type": "markdown",
   "id": "b4d6b21f",
   "metadata": {},
   "source": [
    "#### I noticed the model score varied greatly between runs of train_cat_equalizer. \n",
    "#### This would seem to indicate that some selections of 27 samples are better at training the classifier (at least against the validation data set)\n",
    "#### one way to handle this is to loop through the data_train_eq and ridge classifier fit, thus resampling 27 samples over and over "
   ]
  },
  {
   "cell_type": "code",
   "execution_count": 168,
   "id": "9e83ccac",
   "metadata": {},
   "outputs": [],
   "source": [
    "randystate = 32050\n",
    "for loop in range(1,10):\n",
    "    data_train, data_val, data_test, randomstate = split_cats_by_tolerance(data_full,tolerance=0.01, randstate=randystate)\n",
    "    randomsamplestates = {}\n",
    "    for i in range(1,50):\n",
    "        data_train_eq = train_cat_equalizer(data_train,randomstate=i)\n",
    "        X_train = data_train_eq.drop(columns=['group','assay_ID'])\n",
    "        y_train = data_train_eq['group']\n",
    "        X_val = data_val.drop(columns=['group','assay_ID'])\n",
    "        y_val = data_val['group']\n",
    "        model = sklearn.linear_model.RidgeClassifier()\n",
    "        model.fit(X_train,y_train)\n",
    "        randomsamplestates[i] = model.score(X_val,y_val)\n",
    "    randommean = sum((randomsamplestates.values()))/len(randomsamplestates.values())\n",
    "    meanie_01.append([randomstate,randommean])\n",
    "    randystate = randomstate + 1\n",
    "    loop += 1"
   ]
  },
  {
   "cell_type": "code",
   "execution_count": 158,
   "id": "fb808f47",
   "metadata": {},
   "outputs": [
    {
     "data": {
      "text/plain": [
       "[[4913, 0.6218820861678006],\n",
       " [7975, 0.7091836734693876],\n",
       " [9657, 0.536281179138322],\n",
       " [17540, 0.6405895691609976],\n",
       " [19416, 0.5413832199546486],\n",
       " [24399, 0.5640589569160995],\n",
       " [26328, 0.5997732426303856],\n",
       " [29070, 0.6394557823129253],\n",
       " [32049, 0.5861678004535149]]"
      ]
     },
     "execution_count": 158,
     "metadata": {},
     "output_type": "execute_result"
    }
   ],
   "source": [
    "meanie_01"
   ]
  },
  {
   "cell_type": "code",
   "execution_count": 172,
   "id": "3746626f",
   "metadata": {},
   "outputs": [],
   "source": []
  },
  {
   "cell_type": "code",
   "execution_count": 174,
   "id": "eabd62bb",
   "metadata": {},
   "outputs": [
    {
     "data": {
      "text/plain": [
       "[[4913, 0.6218820861678006],\n",
       " [7975, 0.7091836734693876],\n",
       " [9657, 0.536281179138322],\n",
       " [17540, 0.6405895691609976],\n",
       " [19416, 0.5413832199546486],\n",
       " [24399, 0.5640589569160995],\n",
       " [26328, 0.5997732426303856],\n",
       " [29070, 0.6394557823129253],\n",
       " [32049, 0.5861678004535149]]"
      ]
     },
     "execution_count": 174,
     "metadata": {},
     "output_type": "execute_result"
    }
   ],
   "source": [
    "meanie_01"
   ]
  },
  {
   "cell_type": "code",
   "execution_count": 173,
   "id": "f36b7980",
   "metadata": {},
   "outputs": [
    {
     "data": {
      "text/plain": [
       "[[7975, 0.7091836734693876],\n",
       " [17540, 0.6405895691609976],\n",
       " [24399, 0.5640589569160995],\n",
       " [50276, 0.5238095238095238],\n",
       " [80942, 0.5708616780045352],\n",
       " [90598, 0.5986394557823131],\n",
       " [98281, 0.7006802721088433],\n",
       " [110681, 0.5804988662131519],\n",
       " [114014, 0.6054421768707483],\n",
       " [118763, 0.5470521541950113],\n",
       " [124982, 0.6417233560090703],\n",
       " [126705, 0.6547619047619047],\n",
       " [140876, 0.6230158730158731],\n",
       " [151236, 0.558390022675737]]"
      ]
     },
     "execution_count": 173,
     "metadata": {},
     "output_type": "execute_result"
    }
   ],
   "source": [
    "meanie_0096"
   ]
  },
  {
   "cell_type": "code",
   "execution_count": 175,
   "id": "1a6b3ee7",
   "metadata": {},
   "outputs": [],
   "source": [
    "meanie0096 = []\n",
    "for i in range(0,6):\n",
    "    meanie0096.append(meanie_0096[i])"
   ]
  },
  {
   "cell_type": "code",
   "execution_count": 176,
   "id": "2e4290c2",
   "metadata": {},
   "outputs": [
    {
     "data": {
      "text/plain": [
       "[[7975, 0.7091836734693876],\n",
       " [17540, 0.6405895691609976],\n",
       " [24399, 0.5640589569160995],\n",
       " [50276, 0.5238095238095238],\n",
       " [80942, 0.5708616780045352],\n",
       " [90598, 0.5986394557823131]]"
      ]
     },
     "execution_count": 176,
     "metadata": {},
     "output_type": "execute_result"
    }
   ],
   "source": [
    "meanie0096"
   ]
  },
  {
   "cell_type": "code",
   "execution_count": 108,
   "id": "878ca363",
   "metadata": {},
   "outputs": [],
   "source": [
    "randomsamplestates = {}\n",
    "for i in range(1,10):\n",
    "    data_train_eq = train_cat_equalizer(data_train,randomstate=i)\n",
    "    X_train = data_train_eq.drop(columns=['group','assay_ID'])\n",
    "    y_train = data_train_eq['group']\n",
    "    X_val = data_val.drop(columns=['group','assay_ID'])\n",
    "    y_val = data_val['group']\n",
    "    model = sklearn.linear_model.RidgeClassifier()\n",
    "    model.fit(X_train,y_train)\n",
    "    randomsamplestates[i] = model.score(X_val,y_val)"
   ]
  },
  {
   "cell_type": "code",
   "execution_count": 110,
   "id": "cf609e4b",
   "metadata": {},
   "outputs": [],
   "source": [
    "    randommean = sum((randomsamplestates.values()))/len(randomsamplestates.values())\n"
   ]
  },
  {
   "cell_type": "code",
   "execution_count": 111,
   "id": "454c27cf",
   "metadata": {},
   "outputs": [
    {
     "data": {
      "text/plain": [
       "0.6040965207631878"
      ]
     },
     "execution_count": 111,
     "metadata": {},
     "output_type": "execute_result"
    }
   ],
   "source": [
    "randommean"
   ]
  },
  {
   "cell_type": "code",
   "execution_count": 109,
   "id": "c99027ac",
   "metadata": {
    "scrolled": false
   },
   "outputs": [
    {
     "name": "stdout",
     "output_type": "stream",
     "text": [
      "avg score from random state screening: 0.7084736251402912\n",
      "avg score from random state screening: 0.6400112233445565\n",
      "avg score from random state screening: 0.5594837261503933\n",
      "avg score from random state screening: 0.5255331088664421\n",
      "avg score from random state screening: 0.5575196408529743\n",
      "avg score from random state screening: 0.6040965207631878\n"
     ]
    }
   ],
   "source": [
    "for randomsamplestates in [randomstate_7975,randomstate_17540,randomstate_24399,randomstate_50276,randomstate_80942,randomstate_90598]:\n",
    "    randommax = max(randomsamplestates.values())\n",
    "    randommax_index = list(randomsamplestates.keys())[list(randomsamplestates.values()).index(randommax)]\n",
    "    randommean = sum((randomsamplestates.values()))/len(randomsamplestates.values())\n",
    "    randommin = min(randomsamplestates.values())\n",
    "    randommin_index = list(randomsamplestates.keys())[list(randomsamplestates.values()).index(randommin)]\n",
    "\n",
    "    #print('max score from random state screening:',randommax,\n",
    "    #     '\\n   max score index:',randommax_index)\n",
    "    print('avg score from random state screening:',randommean)\n",
    "    #print('min score from random state screening:',randommin,\n",
    "    #     '\\n   min score index:',randommin_index)"
   ]
  },
  {
   "cell_type": "code",
   "execution_count": null,
   "id": "1380ffee",
   "metadata": {},
   "outputs": [],
   "source": []
  },
  {
   "cell_type": "code",
   "execution_count": 91,
   "id": "c9e40da3",
   "metadata": {},
   "outputs": [],
   "source": [
    "randomstate_7975 = randomsamplestates"
   ]
  },
  {
   "cell_type": "code",
   "execution_count": 95,
   "id": "ff96d560",
   "metadata": {},
   "outputs": [
    {
     "data": {
      "text/plain": [
       "<AxesSubplot: ylabel='Count'>"
      ]
     },
     "execution_count": 95,
     "metadata": {},
     "output_type": "execute_result"
    },
    {
     "data": {
      "image/png": "[encoded data removed]",
      "text/plain": [
       "<Figure size 640x480 with 1 Axes>"
      ]
     },
     "metadata": {},
     "output_type": "display_data"
    }
   ],
   "source": [
    "sns.histplot(randomstate_17540.values())\n",
    "sns.histplot(randomstate_24399.values())\n",
    "sns.histplot(randomstate_50276.values())\n",
    "sns.histplot(randomstate_80942.values())\n",
    "sns.histplot(randomstate_90598.values())\n",
    "sns.histplot(randomstate_7975.values())\n"
   ]
  },
  {
   "cell_type": "code",
   "execution_count": 10,
   "id": "aa804cc2",
   "metadata": {},
   "outputs": [],
   "source": [
    "df_best_sample = data_train.sample(n=27, random_state=1285)\n",
    "df_worst_sample = data_train.sample(n=27, random_state=1448)"
   ]
  },
  {
   "cell_type": "code",
   "execution_count": 12,
   "id": "de1311be",
   "metadata": {},
   "outputs": [],
   "source": [
    "X_test = data_test.drop(columns=['group','assay_ID'])\n",
    "y_test = data_test['group']"
   ]
  },
  {
   "cell_type": "code",
   "execution_count": 13,
   "id": "1d394493",
   "metadata": {},
   "outputs": [
    {
     "name": "stdout",
     "output_type": "stream",
     "text": [
      "using a typical random state:\n",
      "val score: 0.7222222222222222\n",
      "test score: 0.6904761904761905\n",
      "\n",
      "using the best random state:\n",
      "val score: 0.9166666666666666\n",
      "test score: 0.6190476190476191\n",
      "\n",
      "using the worst random state:\n",
      "val score: 0.5\n",
      "test score: 0.6428571428571429\n"
     ]
    }
   ],
   "source": [
    "data_train_eq = train_cat_equalizer(data_train,randomstate=199)\n",
    "X_train = data_train_eq.drop(columns=['group','assay_ID'])\n",
    "y_train = data_train_eq['group']\n",
    "X_val = data_val.drop(columns=['group','assay_ID'])\n",
    "y_val = data_val['group']\n",
    "model = sklearn.linear_model.RidgeClassifier()\n",
    "model.fit(X_train,y_train)\n",
    "print('using a typical random state:')\n",
    "print('val score:',model.score(X_val,y_val))\n",
    "print('test score:',model.score(X_test,y_test))\n",
    "\n",
    "data_train_eq = train_cat_equalizer(data_train,randomstate=1285)\n",
    "X_train = data_train_eq.drop(columns=['group','assay_ID'])\n",
    "y_train = data_train_eq['group']\n",
    "X_val = data_val.drop(columns=['group','assay_ID'])\n",
    "y_val = data_val['group']\n",
    "model = sklearn.linear_model.RidgeClassifier()\n",
    "model.fit(X_train,y_train)\n",
    "print('\\nusing the best random state:')\n",
    "print('val score:',model.score(X_val,y_val))\n",
    "print('test score:',model.score(X_test,y_test))\n",
    "\n",
    "data_train_eq = train_cat_equalizer(data_train,randomstate=1448)\n",
    "X_train = data_train_eq.drop(columns=['group','assay_ID'])\n",
    "y_train = data_train_eq['group']\n",
    "X_val = data_val.drop(columns=['group','assay_ID'])\n",
    "y_val = data_val['group']\n",
    "model = sklearn.linear_model.RidgeClassifier()\n",
    "model.fit(X_train,y_train)\n",
    "print('\\nusing the worst random state:')\n",
    "print('val score:',model.score(X_val,y_val))\n",
    "print('test score:',model.score(X_test,y_test))"
   ]
  },
  {
   "cell_type": "markdown",
   "id": "aa956f3d",
   "metadata": {},
   "source": [
    "#### Moving forward with a randomstate giving near mean score: 199"
   ]
  },
  {
   "cell_type": "code",
   "execution_count": 14,
   "id": "952b5afe",
   "metadata": {},
   "outputs": [],
   "source": [
    "data_train_eq = train_cat_equalizer(data_train,randomstate=199)\n",
    "X_train = data_train_eq.drop(columns=['group','assay_ID'])\n",
    "y_train = data_train_eq['group']"
   ]
  },
  {
   "cell_type": "code",
   "execution_count": 15,
   "id": "7d082146",
   "metadata": {},
   "outputs": [],
   "source": [
    "import sklearn.discriminant_analysis"
   ]
  },
  {
   "cell_type": "code",
   "execution_count": 16,
   "id": "5ac276ed",
   "metadata": {},
   "outputs": [],
   "source": [
    "def colorizer(group):\n",
    "    if group == 'Healthy':\n",
    "        return 'green'\n",
    "    if group == 'AD_MCI':\n",
    "        return 'blue'        \n",
    "    if group == 'PD':\n",
    "        return 'red'        \n",
    "    if group == 'PD_MCI_LBD':\n",
    "        return 'orange'"
   ]
  },
  {
   "cell_type": "code",
   "execution_count": 17,
   "id": "25d5a711",
   "metadata": {},
   "outputs": [],
   "source": [
    "y_train_colors = list(map(colorizer,y_train))"
   ]
  },
  {
   "cell_type": "code",
   "execution_count": 26,
   "id": "fcd30038",
   "metadata": {},
   "outputs": [
    {
     "name": "stdout",
     "output_type": "stream",
     "text": [
      "3 component lda score: 0.6944444444444444\n"
     ]
    },
    {
     "data": {
      "image/png": "[encoded data removed]",
      "text/plain": [
       "<Figure size 2000x500 with 3 Axes>"
      ]
     },
     "metadata": {},
     "output_type": "display_data"
    }
   ],
   "source": [
    "# LDA with 3 components\n",
    "lda = sklearn.discriminant_analysis.LinearDiscriminantAnalysis(n_components=3,shrinkage='auto',solver='eigen')\n",
    "X_lda = lda.fit_transform(X_train,y_train)\n",
    "coef_df = pd.DataFrame(data=lda.coef_, columns=lda.feature_names_in_, index=['Healthy','AD_MCI','PD','PD_MCI_LBD'])\n",
    "\n",
    "fig, axes = plt.subplots(1,3, figsize=(20,5), sharex=True)\n",
    "fig.suptitle('3 component LDA with auto shrinkage and eigen solver')\n",
    "axes[0].scatter(X_lda[:, 0], X_lda[:, 1], c=y_train_colors, s=25, cmap='plasma')\n",
    "axes[0].set_xlabel('LC0')\n",
    "axes[0].set_ylabel('LC1')\n",
    "\n",
    "axes[1].scatter(X_lda[:, 1], X_lda[:, 2], c=y_train_colors, s=25, cmap='plasma')\n",
    "axes[1].set_xlabel('LC1')\n",
    "axes[1].set_ylabel('LC2')\n",
    "\n",
    "axes[2].scatter(X_lda[:, 0], X_lda[:, 2], c=y_train_colors, s=25, cmap='plasma')\n",
    "axes[2].set_xlabel('LC0')\n",
    "axes[2].set_ylabel('LC2')\n",
    "\n",
    "print('3 component lda score:',lda.score(X_val,y_val))"
   ]
  },
  {
   "cell_type": "code",
   "execution_count": 19,
   "id": "d22a8752",
   "metadata": {
    "scrolled": false
   },
   "outputs": [
    {
     "name": "stdout",
     "output_type": "stream",
     "text": [
      "2 component lda score: 0.6944444444444444\n"
     ]
    },
    {
     "data": {
      "image/png": "[encoded data removed]",
      "text/plain": [
       "<Figure size 400x400 with 1 Axes>"
      ]
     },
     "metadata": {},
     "output_type": "display_data"
    }
   ],
   "source": [
    "# LDA with 2 components\n",
    "lda = sklearn.discriminant_analysis.LinearDiscriminantAnalysis(n_components=2,shrinkage='auto',solver='eigen')\n",
    "X_lda = lda.fit_transform(X_train,y_train)\n",
    "coef_df = pd.DataFrame(data=lda.coef_, columns=lda.feature_names_in_, index=['Healthy','AD_MCI','PD','PD_MCI_LBD'])\n",
    "\n",
    "fig, ax = plt.subplots(figsize=(4,4), sharex=True)\n",
    "fig.suptitle('2 component LDA with auto shrinkage and eigen solver')\n",
    "plt.scatter(X_lda[:, 0], X_lda[:, 1], c=y_train_colors, s=25, cmap='plasma')\n",
    "ax.set_xlabel('LC0')\n",
    "ax.set_ylabel('LC1')\n",
    "\n",
    "print('2 component lda score:',lda.score(X_val,y_val))"
   ]
  },
  {
   "cell_type": "code",
   "execution_count": 30,
   "id": "a0c1aa68",
   "metadata": {},
   "outputs": [],
   "source": [
    "lda = sklearn.discriminant_analysis.LinearDiscriminantAnalysis(n_components=2,shrinkage='auto',solver='eigen')"
   ]
  },
  {
   "cell_type": "code",
   "execution_count": 31,
   "id": "a457006d",
   "metadata": {},
   "outputs": [
    {
     "data": {
      "text/html": [
       "<style>#sk-container-id-4 {color: black;background-color: white;}#sk-container-id-4 pre{padding: 0;}#sk-container-id-4 div.sk-toggleable {background-color: white;}#sk-container-id-4 label.sk-toggleable__label {cursor: pointer;display: block;width: 100%;margin-bottom: 0;padding: 0.3em;box-sizing: border-box;text-align: center;}#sk-container-id-4 label.sk-toggleable__label-arrow:before {content: \"▸\";float: left;margin-right: 0.25em;color: #696969;}#sk-container-id-4 label.sk-toggleable__label-arrow:hover:before {color: black;}#sk-container-id-4 div.sk-estimator:hover label.sk-toggleable__label-arrow:before {color: black;}#sk-container-id-4 div.sk-toggleable__content {max-height: 0;max-width: 0;overflow: hidden;text-align: left;background-color: #f0f8ff;}#sk-container-id-4 div.sk-toggleable__content pre {margin: 0.2em;color: black;border-radius: 0.25em;background-color: #f0f8ff;}#sk-container-id-4 input.sk-toggleable__control:checked~div.sk-toggleable__content {max-height: 200px;max-width: 100%;overflow: auto;}#sk-container-id-4 input.sk-toggleable__control:checked~label.sk-toggleable__label-arrow:before {content: \"▾\";}#sk-container-id-4 div.sk-estimator input.sk-toggleable__control:checked~label.sk-toggleable__label {background-color: #d4ebff;}#sk-container-id-4 div.sk-label input.sk-toggleable__control:checked~label.sk-toggleable__label {background-color: #d4ebff;}#sk-container-id-4 input.sk-hidden--visually {border: 0;clip: rect(1px 1px 1px 1px);clip: rect(1px, 1px, 1px, 1px);height: 1px;margin: -1px;overflow: hidden;padding: 0;position: absolute;width: 1px;}#sk-container-id-4 div.sk-estimator {font-family: monospace;background-color: #f0f8ff;border: 1px dotted black;border-radius: 0.25em;box-sizing: border-box;margin-bottom: 0.5em;}#sk-container-id-4 div.sk-estimator:hover {background-color: #d4ebff;}#sk-container-id-4 div.sk-parallel-item::after {content: \"\";width: 100%;border-bottom: 1px solid gray;flex-grow: 1;}#sk-container-id-4 div.sk-label:hover label.sk-toggleable__label {background-color: #d4ebff;}#sk-container-id-4 div.sk-serial::before {content: \"\";position: absolute;border-left: 1px solid gray;box-sizing: border-box;top: 0;bottom: 0;left: 50%;z-index: 0;}#sk-container-id-4 div.sk-serial {display: flex;flex-direction: column;align-items: center;background-color: white;padding-right: 0.2em;padding-left: 0.2em;position: relative;}#sk-container-id-4 div.sk-item {position: relative;z-index: 1;}#sk-container-id-4 div.sk-parallel {display: flex;align-items: stretch;justify-content: center;background-color: white;position: relative;}#sk-container-id-4 div.sk-item::before, #sk-container-id-4 div.sk-parallel-item::before {content: \"\";position: absolute;border-left: 1px solid gray;box-sizing: border-box;top: 0;bottom: 0;left: 50%;z-index: -1;}#sk-container-id-4 div.sk-parallel-item {display: flex;flex-direction: column;z-index: 1;position: relative;background-color: white;}#sk-container-id-4 div.sk-parallel-item:first-child::after {align-self: flex-end;width: 50%;}#sk-container-id-4 div.sk-parallel-item:last-child::after {align-self: flex-start;width: 50%;}#sk-container-id-4 div.sk-parallel-item:only-child::after {width: 0;}#sk-container-id-4 div.sk-dashed-wrapped {border: 1px dashed gray;margin: 0 0.4em 0.5em 0.4em;box-sizing: border-box;padding-bottom: 0.4em;background-color: white;}#sk-container-id-4 div.sk-label label {font-family: monospace;font-weight: bold;display: inline-block;line-height: 1.2em;}#sk-container-id-4 div.sk-label-container {text-align: center;}#sk-container-id-4 div.sk-container {/* jupyter's `normalize.less` sets `[hidden] { display: none; }` but bootstrap.min.css set `[hidden] { display: none !important; }` so we also need the `!important` here to be able to override the default hidden behavior on the sphinx rendered scikit-learn.org. See: https://github.com/scikit-learn/scikit-learn/issues/21755 */display: inline-block !important;position: relative;}#sk-container-id-4 div.sk-text-repr-fallback {display: none;}</style><div id=\"sk-container-id-4\" class=\"sk-top-container\"><div class=\"sk-text-repr-fallback\"><pre>LinearDiscriminantAnalysis(n_components=2, shrinkage=&#x27;auto&#x27;, solver=&#x27;eigen&#x27;)</pre><b>In a Jupyter environment, please rerun this cell to show the HTML representation or trust the notebook. <br />On GitHub, the HTML representation is unable to render, please try loading this page with nbviewer.org.</b></div><div class=\"sk-container\" hidden><div class=\"sk-item\"><div class=\"sk-estimator sk-toggleable\"><input class=\"sk-toggleable__control sk-hidden--visually\" id=\"sk-estimator-id-4\" type=\"checkbox\" checked><label for=\"sk-estimator-id-4\" class=\"sk-toggleable__label sk-toggleable__label-arrow\">LinearDiscriminantAnalysis</label><div class=\"sk-toggleable__content\"><pre>LinearDiscriminantAnalysis(n_components=2, shrinkage=&#x27;auto&#x27;, solver=&#x27;eigen&#x27;)</pre></div></div></div></div></div>"
      ],
      "text/plain": [
       "LinearDiscriminantAnalysis(n_components=2, shrinkage='auto', solver='eigen')"
      ]
     },
     "execution_count": 31,
     "metadata": {},
     "output_type": "execute_result"
    }
   ],
   "source": [
    "lda.fit(X_train,y_train)"
   ]
  },
  {
   "cell_type": "code",
   "execution_count": 32,
   "id": "41e98d12",
   "metadata": {},
   "outputs": [
    {
     "data": {
      "text/plain": [
       "0.6944444444444444"
      ]
     },
     "execution_count": 32,
     "metadata": {},
     "output_type": "execute_result"
    }
   ],
   "source": [
    "lda.score(X_val,y_val)"
   ]
  },
  {
   "cell_type": "code",
   "execution_count": 33,
   "id": "d1be7cec",
   "metadata": {},
   "outputs": [],
   "source": [
    "qda = sklearn.discriminant_analysis.QuadraticDiscriminantAnalysis()"
   ]
  },
  {
   "cell_type": "code",
   "execution_count": 34,
   "id": "1377a4a2",
   "metadata": {},
   "outputs": [
    {
     "data": {
      "text/html": [
       "<style>#sk-container-id-5 {color: black;background-color: white;}#sk-container-id-5 pre{padding: 0;}#sk-container-id-5 div.sk-toggleable {background-color: white;}#sk-container-id-5 label.sk-toggleable__label {cursor: pointer;display: block;width: 100%;margin-bottom: 0;padding: 0.3em;box-sizing: border-box;text-align: center;}#sk-container-id-5 label.sk-toggleable__label-arrow:before {content: \"▸\";float: left;margin-right: 0.25em;color: #696969;}#sk-container-id-5 label.sk-toggleable__label-arrow:hover:before {color: black;}#sk-container-id-5 div.sk-estimator:hover label.sk-toggleable__label-arrow:before {color: black;}#sk-container-id-5 div.sk-toggleable__content {max-height: 0;max-width: 0;overflow: hidden;text-align: left;background-color: #f0f8ff;}#sk-container-id-5 div.sk-toggleable__content pre {margin: 0.2em;color: black;border-radius: 0.25em;background-color: #f0f8ff;}#sk-container-id-5 input.sk-toggleable__control:checked~div.sk-toggleable__content {max-height: 200px;max-width: 100%;overflow: auto;}#sk-container-id-5 input.sk-toggleable__control:checked~label.sk-toggleable__label-arrow:before {content: \"▾\";}#sk-container-id-5 div.sk-estimator input.sk-toggleable__control:checked~label.sk-toggleable__label {background-color: #d4ebff;}#sk-container-id-5 div.sk-label input.sk-toggleable__control:checked~label.sk-toggleable__label {background-color: #d4ebff;}#sk-container-id-5 input.sk-hidden--visually {border: 0;clip: rect(1px 1px 1px 1px);clip: rect(1px, 1px, 1px, 1px);height: 1px;margin: -1px;overflow: hidden;padding: 0;position: absolute;width: 1px;}#sk-container-id-5 div.sk-estimator {font-family: monospace;background-color: #f0f8ff;border: 1px dotted black;border-radius: 0.25em;box-sizing: border-box;margin-bottom: 0.5em;}#sk-container-id-5 div.sk-estimator:hover {background-color: #d4ebff;}#sk-container-id-5 div.sk-parallel-item::after {content: \"\";width: 100%;border-bottom: 1px solid gray;flex-grow: 1;}#sk-container-id-5 div.sk-label:hover label.sk-toggleable__label {background-color: #d4ebff;}#sk-container-id-5 div.sk-serial::before {content: \"\";position: absolute;border-left: 1px solid gray;box-sizing: border-box;top: 0;bottom: 0;left: 50%;z-index: 0;}#sk-container-id-5 div.sk-serial {display: flex;flex-direction: column;align-items: center;background-color: white;padding-right: 0.2em;padding-left: 0.2em;position: relative;}#sk-container-id-5 div.sk-item {position: relative;z-index: 1;}#sk-container-id-5 div.sk-parallel {display: flex;align-items: stretch;justify-content: center;background-color: white;position: relative;}#sk-container-id-5 div.sk-item::before, #sk-container-id-5 div.sk-parallel-item::before {content: \"\";position: absolute;border-left: 1px solid gray;box-sizing: border-box;top: 0;bottom: 0;left: 50%;z-index: -1;}#sk-container-id-5 div.sk-parallel-item {display: flex;flex-direction: column;z-index: 1;position: relative;background-color: white;}#sk-container-id-5 div.sk-parallel-item:first-child::after {align-self: flex-end;width: 50%;}#sk-container-id-5 div.sk-parallel-item:last-child::after {align-self: flex-start;width: 50%;}#sk-container-id-5 div.sk-parallel-item:only-child::after {width: 0;}#sk-container-id-5 div.sk-dashed-wrapped {border: 1px dashed gray;margin: 0 0.4em 0.5em 0.4em;box-sizing: border-box;padding-bottom: 0.4em;background-color: white;}#sk-container-id-5 div.sk-label label {font-family: monospace;font-weight: bold;display: inline-block;line-height: 1.2em;}#sk-container-id-5 div.sk-label-container {text-align: center;}#sk-container-id-5 div.sk-container {/* jupyter's `normalize.less` sets `[hidden] { display: none; }` but bootstrap.min.css set `[hidden] { display: none !important; }` so we also need the `!important` here to be able to override the default hidden behavior on the sphinx rendered scikit-learn.org. See: https://github.com/scikit-learn/scikit-learn/issues/21755 */display: inline-block !important;position: relative;}#sk-container-id-5 div.sk-text-repr-fallback {display: none;}</style><div id=\"sk-container-id-5\" class=\"sk-top-container\"><div class=\"sk-text-repr-fallback\"><pre>QuadraticDiscriminantAnalysis()</pre><b>In a Jupyter environment, please rerun this cell to show the HTML representation or trust the notebook. <br />On GitHub, the HTML representation is unable to render, please try loading this page with nbviewer.org.</b></div><div class=\"sk-container\" hidden><div class=\"sk-item\"><div class=\"sk-estimator sk-toggleable\"><input class=\"sk-toggleable__control sk-hidden--visually\" id=\"sk-estimator-id-5\" type=\"checkbox\" checked><label for=\"sk-estimator-id-5\" class=\"sk-toggleable__label sk-toggleable__label-arrow\">QuadraticDiscriminantAnalysis</label><div class=\"sk-toggleable__content\"><pre>QuadraticDiscriminantAnalysis()</pre></div></div></div></div></div>"
      ],
      "text/plain": [
       "QuadraticDiscriminantAnalysis()"
      ]
     },
     "execution_count": 34,
     "metadata": {},
     "output_type": "execute_result"
    }
   ],
   "source": [
    "qda.fit(X_train,y_train)"
   ]
  },
  {
   "cell_type": "code",
   "execution_count": 35,
   "id": "f1143daf",
   "metadata": {
    "scrolled": true
   },
   "outputs": [
    {
     "data": {
      "text/plain": [
       "0.25"
      ]
     },
     "execution_count": 35,
     "metadata": {},
     "output_type": "execute_result"
    }
   ],
   "source": [
    "qda.score(X_val,y_val)"
   ]
  },
  {
   "cell_type": "code",
   "execution_count": null,
   "id": "4417a924",
   "metadata": {},
   "outputs": [],
   "source": [
    "import mrmr"
   ]
  },
  {
   "cell_type": "code",
   "execution_count": 100,
   "id": "bd867349",
   "metadata": {},
   "outputs": [],
   "source": [
    "linst = list(range(10,1100,10))"
   ]
  },
  {
   "cell_type": "code",
   "execution_count": 47,
   "id": "e1c369d6",
   "metadata": {},
   "outputs": [],
   "source": [
    "def mrmr_feature_selection(X_train, y_train,X_val,y_val,K,model):\n",
    "    feature_performance = []\n",
    "    for k in K:\n",
    "        reduced_features = mrmr.mrmr_classif(X_train,y_train,K=k)\n",
    "        X_train_reduced = X_train[reduced_features]\n",
    "        X_val_reduced = X_val[reduced_features]\n",
    "        model.fit(X_train_reduced,y_train)\n",
    "        feature_performance.append([k,model.score(X_val_reduced,y_val),reduced_features])\n",
    "    feature_performance.append([len(X_train.columns),model.score(X_val,y_val),X_train.columns])\n",
    "    return feature_performance"
   ]
  },
  {
   "cell_type": "code",
   "execution_count": 103,
   "id": "b68c1c88",
   "metadata": {},
   "outputs": [
    {
     "name": "stderr",
     "output_type": "stream",
     "text": [
      "100%|███████████████████████████████████████████████████████████████████████████████████| 10/10 [00:00<00:00, 12.07it/s]\n",
      "100%|███████████████████████████████████████████████████████████████████████████████████| 20/20 [00:01<00:00, 12.25it/s]\n",
      "100%|███████████████████████████████████████████████████████████████████████████████████| 30/30 [00:02<00:00, 11.12it/s]\n",
      "100%|███████████████████████████████████████████████████████████████████████████████████| 40/40 [00:03<00:00, 12.68it/s]\n",
      "100%|███████████████████████████████████████████████████████████████████████████████████| 50/50 [00:03<00:00, 12.88it/s]\n",
      "100%|███████████████████████████████████████████████████████████████████████████████████| 60/60 [00:04<00:00, 13.03it/s]\n",
      "100%|███████████████████████████████████████████████████████████████████████████████████| 70/70 [00:05<00:00, 12.93it/s]\n",
      "100%|███████████████████████████████████████████████████████████████████████████████████| 80/80 [00:06<00:00, 12.84it/s]\n",
      "100%|███████████████████████████████████████████████████████████████████████████████████| 90/90 [00:07<00:00, 12.76it/s]\n",
      "100%|█████████████████████████████████████████████████████████████████████████████████| 100/100 [00:07<00:00, 12.58it/s]\n",
      "100%|█████████████████████████████████████████████████████████████████████████████████| 110/110 [00:09<00:00, 11.53it/s]\n",
      "100%|█████████████████████████████████████████████████████████████████████████████████| 120/120 [00:12<00:00,  9.96it/s]\n",
      "100%|█████████████████████████████████████████████████████████████████████████████████| 130/130 [00:13<00:00,  9.99it/s]\n",
      "100%|█████████████████████████████████████████████████████████████████████████████████| 140/140 [00:12<00:00, 10.83it/s]\n",
      "100%|█████████████████████████████████████████████████████████████████████████████████| 150/150 [00:13<00:00, 10.88it/s]\n",
      "100%|█████████████████████████████████████████████████████████████████████████████████| 160/160 [00:14<00:00, 10.84it/s]\n",
      "100%|█████████████████████████████████████████████████████████████████████████████████| 170/170 [00:15<00:00, 10.78it/s]\n",
      "100%|█████████████████████████████████████████████████████████████████████████████████| 180/180 [00:16<00:00, 10.88it/s]\n",
      "100%|█████████████████████████████████████████████████████████████████████████████████| 190/190 [00:17<00:00, 10.88it/s]\n",
      "100%|█████████████████████████████████████████████████████████████████████████████████| 200/200 [00:19<00:00, 10.46it/s]\n",
      "100%|█████████████████████████████████████████████████████████████████████████████████| 210/210 [00:19<00:00, 10.90it/s]\n",
      "100%|█████████████████████████████████████████████████████████████████████████████████| 220/220 [00:20<00:00, 10.74it/s]\n",
      "100%|█████████████████████████████████████████████████████████████████████████████████| 230/230 [00:21<00:00, 10.68it/s]\n",
      "100%|█████████████████████████████████████████████████████████████████████████████████| 240/240 [00:21<00:00, 11.22it/s]\n",
      "100%|█████████████████████████████████████████████████████████████████████████████████| 250/250 [00:23<00:00, 10.44it/s]\n",
      "100%|█████████████████████████████████████████████████████████████████████████████████| 260/260 [00:23<00:00, 11.04it/s]\n",
      "100%|█████████████████████████████████████████████████████████████████████████████████| 270/270 [00:25<00:00, 10.72it/s]\n",
      "100%|█████████████████████████████████████████████████████████████████████████████████| 280/280 [00:26<00:00, 10.75it/s]\n",
      "100%|█████████████████████████████████████████████████████████████████████████████████| 290/290 [00:26<00:00, 11.13it/s]\n",
      "100%|█████████████████████████████████████████████████████████████████████████████████| 300/300 [00:27<00:00, 11.08it/s]\n",
      "100%|█████████████████████████████████████████████████████████████████████████████████| 310/310 [00:27<00:00, 11.41it/s]\n",
      "100%|█████████████████████████████████████████████████████████████████████████████████| 320/320 [00:28<00:00, 11.06it/s]\n",
      "100%|█████████████████████████████████████████████████████████████████████████████████| 330/330 [00:29<00:00, 11.02it/s]\n",
      "100%|█████████████████████████████████████████████████████████████████████████████████| 340/340 [00:31<00:00, 10.74it/s]\n",
      "100%|█████████████████████████████████████████████████████████████████████████████████| 350/350 [00:31<00:00, 11.15it/s]\n",
      "100%|█████████████████████████████████████████████████████████████████████████████████| 360/360 [00:31<00:00, 11.49it/s]\n",
      "100%|█████████████████████████████████████████████████████████████████████████████████| 370/370 [00:31<00:00, 11.68it/s]\n",
      "100%|█████████████████████████████████████████████████████████████████████████████████| 380/380 [00:32<00:00, 11.76it/s]\n",
      "100%|█████████████████████████████████████████████████████████████████████████████████| 390/390 [00:32<00:00, 12.17it/s]\n",
      "100%|█████████████████████████████████████████████████████████████████████████████████| 400/400 [00:34<00:00, 11.61it/s]\n",
      "100%|█████████████████████████████████████████████████████████████████████████████████| 410/410 [00:33<00:00, 12.30it/s]\n",
      "100%|█████████████████████████████████████████████████████████████████████████████████| 420/420 [00:33<00:00, 12.49it/s]\n",
      "100%|█████████████████████████████████████████████████████████████████████████████████| 430/430 [00:34<00:00, 12.33it/s]\n",
      "100%|█████████████████████████████████████████████████████████████████████████████████| 440/440 [00:34<00:00, 12.64it/s]\n",
      "100%|█████████████████████████████████████████████████████████████████████████████████| 450/450 [00:37<00:00, 12.03it/s]\n",
      "100%|█████████████████████████████████████████████████████████████████████████████████| 460/460 [00:36<00:00, 12.62it/s]\n",
      "100%|█████████████████████████████████████████████████████████████████████████████████| 470/470 [00:37<00:00, 12.62it/s]\n",
      "100%|█████████████████████████████████████████████████████████████████████████████████| 480/480 [00:39<00:00, 12.01it/s]\n",
      "100%|█████████████████████████████████████████████████████████████████████████████████| 490/490 [00:37<00:00, 12.93it/s]\n",
      "100%|█████████████████████████████████████████████████████████████████████████████████| 500/500 [00:38<00:00, 12.89it/s]\n",
      "100%|█████████████████████████████████████████████████████████████████████████████████| 510/510 [00:38<00:00, 13.33it/s]\n",
      "100%|█████████████████████████████████████████████████████████████████████████████████| 520/520 [00:39<00:00, 13.16it/s]\n",
      "100%|█████████████████████████████████████████████████████████████████████████████████| 530/530 [00:39<00:00, 13.44it/s]\n",
      "100%|█████████████████████████████████████████████████████████████████████████████████| 540/540 [00:40<00:00, 13.48it/s]\n",
      "100%|█████████████████████████████████████████████████████████████████████████████████| 550/550 [00:40<00:00, 13.46it/s]\n",
      "100%|█████████████████████████████████████████████████████████████████████████████████| 560/560 [00:41<00:00, 13.59it/s]\n",
      "100%|█████████████████████████████████████████████████████████████████████████████████| 570/570 [00:42<00:00, 13.53it/s]\n",
      "100%|█████████████████████████████████████████████████████████████████████████████████| 580/580 [00:41<00:00, 13.83it/s]\n",
      "100%|█████████████████████████████████████████████████████████████████████████████████| 590/590 [00:39<00:00, 14.88it/s]\n",
      "100%|█████████████████████████████████████████████████████████████████████████████████| 600/600 [00:40<00:00, 14.99it/s]\n",
      "100%|█████████████████████████████████████████████████████████████████████████████████| 610/610 [00:40<00:00, 15.11it/s]\n",
      "100%|█████████████████████████████████████████████████████████████████████████████████| 620/620 [00:41<00:00, 14.86it/s]\n",
      "100%|█████████████████████████████████████████████████████████████████████████████████| 630/630 [00:41<00:00, 15.12it/s]\n",
      "100%|█████████████████████████████████████████████████████████████████████████████████| 640/640 [00:42<00:00, 14.97it/s]\n",
      "100%|█████████████████████████████████████████████████████████████████████████████████| 650/650 [00:42<00:00, 15.27it/s]\n",
      "100%|█████████████████████████████████████████████████████████████████████████████████| 660/660 [00:42<00:00, 15.41it/s]\n",
      "100%|█████████████████████████████████████████████████████████████████████████████████| 670/670 [00:43<00:00, 15.42it/s]\n",
      "100%|█████████████████████████████████████████████████████████████████████████████████| 680/680 [00:43<00:00, 15.48it/s]\n",
      "100%|█████████████████████████████████████████████████████████████████████████████████| 690/690 [00:44<00:00, 15.66it/s]\n",
      "100%|█████████████████████████████████████████████████████████████████████████████████| 700/700 [00:44<00:00, 15.65it/s]\n",
      "100%|█████████████████████████████████████████████████████████████████████████████████| 710/710 [00:45<00:00, 15.66it/s]\n",
      "100%|█████████████████████████████████████████████████████████████████████████████████| 720/720 [00:45<00:00, 15.76it/s]\n",
      "100%|█████████████████████████████████████████████████████████████████████████████████| 730/730 [00:45<00:00, 15.87it/s]\n",
      "100%|█████████████████████████████████████████████████████████████████████████████████| 740/740 [00:46<00:00, 15.91it/s]\n",
      "100%|█████████████████████████████████████████████████████████████████████████████████| 750/750 [00:47<00:00, 15.91it/s]\n",
      "100%|█████████████████████████████████████████████████████████████████████████████████| 760/760 [00:47<00:00, 16.07it/s]\n",
      "100%|█████████████████████████████████████████████████████████████████████████████████| 770/770 [00:44<00:00, 17.43it/s]\n",
      "100%|█████████████████████████████████████████████████████████████████████████████████| 780/780 [00:49<00:00, 15.80it/s]\n",
      "100%|█████████████████████████████████████████████████████████████████████████████████| 790/790 [00:52<00:00, 15.04it/s]\n",
      "100%|█████████████████████████████████████████████████████████████████████████████████| 800/800 [00:49<00:00, 16.22it/s]\n",
      "100%|█████████████████████████████████████████████████████████████████████████████████| 810/810 [00:48<00:00, 16.57it/s]\n",
      "100%|█████████████████████████████████████████████████████████████████████████████████| 820/820 [00:53<00:00, 15.35it/s]\n",
      "100%|█████████████████████████████████████████████████████████████████████████████████| 830/830 [00:51<00:00, 16.08it/s]\n",
      "100%|█████████████████████████████████████████████████████████████████████████████████| 840/840 [00:48<00:00, 17.16it/s]\n",
      "100%|█████████████████████████████████████████████████████████████████████████████████| 850/850 [00:54<00:00, 15.68it/s]\n",
      "100%|█████████████████████████████████████████████████████████████████████████████████| 860/860 [00:57<00:00, 14.93it/s]\n",
      "100%|█████████████████████████████████████████████████████████████████████████████████| 870/870 [00:55<00:00, 15.73it/s]\n",
      "100%|█████████████████████████████████████████████████████████████████████████████████| 880/880 [00:50<00:00, 17.43it/s]\n",
      "100%|█████████████████████████████████████████████████████████████████████████████████| 890/890 [00:55<00:00, 15.92it/s]\n",
      "100%|█████████████████████████████████████████████████████████████████████████████████| 900/900 [00:54<00:00, 16.43it/s]\n",
      "100%|█████████████████████████████████████████████████████████████████████████████████| 910/910 [00:52<00:00, 17.20it/s]\n",
      "100%|█████████████████████████████████████████████████████████████████████████████████| 920/920 [01:00<00:00, 15.12it/s]\n",
      "100%|█████████████████████████████████████████████████████████████████████████████████| 930/930 [00:52<00:00, 17.82it/s]\n",
      "100%|█████████████████████████████████████████████████████████████████████████████████| 940/940 [00:57<00:00, 16.38it/s]\n",
      "100%|█████████████████████████████████████████████████████████████████████████████████| 950/950 [00:54<00:00, 17.44it/s]\n",
      "100%|█████████████████████████████████████████████████████████████████████████████████| 960/960 [00:56<00:00, 16.85it/s]\n",
      "100%|█████████████████████████████████████████████████████████████████████████████████| 970/970 [01:00<00:00, 16.01it/s]\n",
      "100%|█████████████████████████████████████████████████████████████████████████████████| 980/980 [00:57<00:00, 16.91it/s]\n",
      "100%|█████████████████████████████████████████████████████████████████████████████████| 990/990 [01:06<00:00, 14.91it/s]\n",
      "100%|███████████████████████████████████████████████████████████████████████████████| 1000/1000 [00:56<00:00, 17.75it/s]\n",
      "100%|███████████████████████████████████████████████████████████████████████████████| 1010/1010 [01:02<00:00, 16.15it/s]\n",
      "100%|███████████████████████████████████████████████████████████████████████████████| 1020/1020 [00:54<00:00, 18.78it/s]\n",
      "100%|███████████████████████████████████████████████████████████████████████████████| 1030/1030 [01:01<00:00, 16.64it/s]\n",
      "100%|███████████████████████████████████████████████████████████████████████████████| 1040/1040 [01:04<00:00, 16.19it/s]\n",
      "100%|███████████████████████████████████████████████████████████████████████████████| 1050/1050 [00:58<00:00, 18.07it/s]\n",
      "100%|███████████████████████████████████████████████████████████████████████████████| 1060/1060 [00:58<00:00, 18.22it/s]\n",
      "100%|███████████████████████████████████████████████████████████████████████████████| 1070/1070 [01:04<00:00, 16.62it/s]\n",
      "100%|███████████████████████████████████████████████████████████████████████████████| 1080/1080 [01:00<00:00, 17.98it/s]\n",
      "100%|███████████████████████████████████████████████████████████████████████████████| 1090/1090 [00:56<00:00, 19.23it/s]\n"
     ]
    }
   ],
   "source": [
    "feature_performance = mrmr_feature_selection(X_train,y_train,X_val,y_val,linst,sklearn.linear_model.RidgeClassifier())"
   ]
  },
  {
   "cell_type": "code",
   "execution_count": 104,
   "id": "d2d1f99a",
   "metadata": {},
   "outputs": [],
   "source": [
    "ks, scores, reduced_features = zip(*feature_performance)"
   ]
  },
  {
   "cell_type": "code",
   "execution_count": 67,
   "id": "5a0c8c43",
   "metadata": {},
   "outputs": [],
   "source": [
    "ks, scores, reduced_features = zip(*feature_performance)"
   ]
  },
  {
   "cell_type": "code",
   "execution_count": 110,
   "id": "fab31acb",
   "metadata": {
    "scrolled": true
   },
   "outputs": [],
   "source": [
    "feature_performance_array = np.array(feature_performance)"
   ]
  },
  {
   "cell_type": "code",
   "execution_count": 117,
   "id": "8a1562f2",
   "metadata": {},
   "outputs": [],
   "source": [
    "np.save('feature_performance.npy',feature_performance_array)\n",
    " "
   ]
  },
  {
   "cell_type": "code",
   "execution_count": 113,
   "id": "c58cf2fb",
   "metadata": {},
   "outputs": [],
   "source": [
    "feature_performance_df = pd.DataFrame(feature_performance_array)"
   ]
  },
  {
   "cell_type": "code",
   "execution_count": 115,
   "id": "13645f63",
   "metadata": {},
   "outputs": [],
   "source": [
    "feature_performance_df.to_('feature_performance.txt')\n"
   ]
  },
  {
   "cell_type": "code",
   "execution_count": 105,
   "id": "29a3bafd",
   "metadata": {
    "scrolled": false
   },
   "outputs": [
    {
     "data": {
      "text/plain": [
       "<AxesSubplot: >"
      ]
     },
     "execution_count": 105,
     "metadata": {},
     "output_type": "execute_result"
    },
    {
     "data": {
      "image/png": "[encoded data removed]",
      "text/plain": [
       "<Figure size 640x480 with 1 Axes>"
      ]
     },
     "metadata": {},
     "output_type": "display_data"
    }
   ],
   "source": [
    "sns.lineplot(x=ks, y=scores)"
   ]
  },
  {
   "cell_type": "code",
   "execution_count": 109,
   "id": "9868ccbe",
   "metadata": {},
   "outputs": [
    {
     "ename": "TypeError",
     "evalue": "Mismatch between array dtype ('object') and format specifier ('%.18e,%.18e,%.18e')",
     "output_type": "error",
     "traceback": [
      "\u001b[0;31m---------------------------------------------------------------------------\u001b[0m",
      "\u001b[0;31mTypeError\u001b[0m                                 Traceback (most recent call last)",
      "File \u001b[0;32m~/miniconda3/lib/python3.10/site-packages/numpy/lib/npyio.py:1590\u001b[0m, in \u001b[0;36msavetxt\u001b[0;34m(fname, X, fmt, delimiter, newline, header, footer, comments, encoding)\u001b[0m\n\u001b[1;32m   1589\u001b[0m \u001b[38;5;28;01mtry\u001b[39;00m:\n\u001b[0;32m-> 1590\u001b[0m     v \u001b[38;5;241m=\u001b[39m \u001b[38;5;28;43mformat\u001b[39;49m\u001b[43m \u001b[49m\u001b[38;5;241;43m%\u001b[39;49m\u001b[43m \u001b[49m\u001b[38;5;28;43mtuple\u001b[39;49m\u001b[43m(\u001b[49m\u001b[43mrow\u001b[49m\u001b[43m)\u001b[49m \u001b[38;5;241m+\u001b[39m newline\n\u001b[1;32m   1591\u001b[0m \u001b[38;5;28;01mexcept\u001b[39;00m \u001b[38;5;167;01mTypeError\u001b[39;00m \u001b[38;5;28;01mas\u001b[39;00m e:\n",
      "\u001b[0;31mTypeError\u001b[0m: must be real number, not list",
      "\nThe above exception was the direct cause of the following exception:\n",
      "\u001b[0;31mTypeError\u001b[0m                                 Traceback (most recent call last)",
      "Cell \u001b[0;32mIn[109], line 1\u001b[0m\n\u001b[0;32m----> 1\u001b[0m \u001b[43mnp\u001b[49m\u001b[38;5;241;43m.\u001b[39;49m\u001b[43msavetxt\u001b[49m\u001b[43m(\u001b[49m\u001b[38;5;124;43m\"\u001b[39;49m\u001b[38;5;124;43mfeature_performance.csv\u001b[39;49m\u001b[38;5;124;43m\"\u001b[39;49m\u001b[43m,\u001b[49m\u001b[43m \u001b[49m\u001b[43mfeature_performance\u001b[49m\u001b[43m,\u001b[49m\u001b[43m \u001b[49m\u001b[43mdelimiter\u001b[49m\u001b[38;5;241;43m=\u001b[39;49m\u001b[38;5;124;43m\"\u001b[39;49m\u001b[38;5;124;43m,\u001b[39;49m\u001b[38;5;124;43m\"\u001b[39;49m\u001b[43m)\u001b[49m\n",
      "File \u001b[0;32m<__array_function__ internals>:180\u001b[0m, in \u001b[0;36msavetxt\u001b[0;34m(*args, **kwargs)\u001b[0m\n",
      "File \u001b[0;32m~/miniconda3/lib/python3.10/site-packages/numpy/lib/npyio.py:1592\u001b[0m, in \u001b[0;36msavetxt\u001b[0;34m(fname, X, fmt, delimiter, newline, header, footer, comments, encoding)\u001b[0m\n\u001b[1;32m   1590\u001b[0m             v \u001b[38;5;241m=\u001b[39m \u001b[38;5;28mformat\u001b[39m \u001b[38;5;241m%\u001b[39m \u001b[38;5;28mtuple\u001b[39m(row) \u001b[38;5;241m+\u001b[39m newline\n\u001b[1;32m   1591\u001b[0m         \u001b[38;5;28;01mexcept\u001b[39;00m \u001b[38;5;167;01mTypeError\u001b[39;00m \u001b[38;5;28;01mas\u001b[39;00m e:\n\u001b[0;32m-> 1592\u001b[0m             \u001b[38;5;28;01mraise\u001b[39;00m \u001b[38;5;167;01mTypeError\u001b[39;00m(\u001b[38;5;124m\"\u001b[39m\u001b[38;5;124mMismatch between array dtype (\u001b[39m\u001b[38;5;124m'\u001b[39m\u001b[38;5;132;01m%s\u001b[39;00m\u001b[38;5;124m'\u001b[39m\u001b[38;5;124m) and \u001b[39m\u001b[38;5;124m\"\u001b[39m\n\u001b[1;32m   1593\u001b[0m                             \u001b[38;5;124m\"\u001b[39m\u001b[38;5;124mformat specifier (\u001b[39m\u001b[38;5;124m'\u001b[39m\u001b[38;5;132;01m%s\u001b[39;00m\u001b[38;5;124m'\u001b[39m\u001b[38;5;124m)\u001b[39m\u001b[38;5;124m\"\u001b[39m\n\u001b[1;32m   1594\u001b[0m                             \u001b[38;5;241m%\u001b[39m (\u001b[38;5;28mstr\u001b[39m(X\u001b[38;5;241m.\u001b[39mdtype), \u001b[38;5;28mformat\u001b[39m)) \u001b[38;5;28;01mfrom\u001b[39;00m \u001b[38;5;21;01me\u001b[39;00m\n\u001b[1;32m   1595\u001b[0m         fh\u001b[38;5;241m.\u001b[39mwrite(v)\n\u001b[1;32m   1597\u001b[0m \u001b[38;5;28;01mif\u001b[39;00m \u001b[38;5;28mlen\u001b[39m(footer) \u001b[38;5;241m>\u001b[39m \u001b[38;5;241m0\u001b[39m:\n",
      "\u001b[0;31mTypeError\u001b[0m: Mismatch between array dtype ('object') and format specifier ('%.18e,%.18e,%.18e')"
     ]
    }
   ],
   "source": []
  },
  {
   "cell_type": "code",
   "execution_count": null,
   "id": "847c8441",
   "metadata": {},
   "outputs": [],
   "source": [
    "X_train = data"
   ]
  },
  {
   "cell_type": "code",
   "execution_count": 85,
   "id": "d4786216",
   "metadata": {},
   "outputs": [],
   "source": [
    "kfold_cvd = {}\n",
    "for i in range(0,len(reduced_features)):\n",
    "    X = X_train[reduced_features[i]]\n",
    "    y = y_train\n",
    "    ridge = sklearn.linear_model.RidgeClassifier()\n",
    "    kfold_cvd[ks[i]] = np.mean(cross_val_score(ridge, X, y))"
   ]
  },
  {
   "cell_type": "markdown",
   "id": "c4966dc2",
   "metadata": {},
   "source": [
    "Balanced score: evalutate score based on category one at a time\n",
    "1. split dev data (?)\n",
    "2. balance training data\n",
    "3. feature select\n",
    "4. evaluate... NOT ACCURACY\n",
    "---repeat---\n",
    "5. average \n",
    "\n",
    "take shared features\n",
    "\n",
    "reduce features to 50, use xgboost, hyper parameter tuning function search, \n"
   ]
  },
  {
   "cell_type": "code",
   "execution_count": 86,
   "id": "8cda75ba",
   "metadata": {},
   "outputs": [
    {
     "data": {
      "text/plain": [
       "{100: 0.7134199134199134,\n",
       " 200: 0.7229437229437229,\n",
       " 300: 0.6484848484848486,\n",
       " 400: 0.6203463203463203,\n",
       " 500: 0.629004329004329,\n",
       " 600: 0.6021645021645021,\n",
       " 700: 0.6017316017316017,\n",
       " 800: 0.6021645021645022,\n",
       " 900: 0.5653679653679654,\n",
       " 1000: 0.5281385281385281,\n",
       " 1138: 0.5004329004329005}"
      ]
     },
     "execution_count": 86,
     "metadata": {},
     "output_type": "execute_result"
    }
   ],
   "source": [
    "\n",
    "\n",
    "kfold_cvd"
   ]
  },
  {
   "cell_type": "code",
   "execution_count": 87,
   "id": "d6dd2d00",
   "metadata": {},
   "outputs": [],
   "source": [
    "kfold_cvd = []\n",
    "for i in range(0,len(reduced_features)):\n",
    "    X = X_train[reduced_features[i]]\n",
    "    y = y_train\n",
    "    ridge = sklearn.linear_model.RidgeClassifier()\n",
    "    kfold_cvd.append([ks[i],np.mean(cross_val_score(ridge, X, y))])"
   ]
  },
  {
   "cell_type": "code",
   "execution_count": 88,
   "id": "da37e6e2",
   "metadata": {},
   "outputs": [
    {
     "data": {
      "text/plain": [
       "[[100, 0.7134199134199134],\n",
       " [200, 0.7229437229437229],\n",
       " [300, 0.6484848484848486],\n",
       " [400, 0.6203463203463203],\n",
       " [500, 0.629004329004329],\n",
       " [600, 0.6021645021645021],\n",
       " [700, 0.6017316017316017],\n",
       " [800, 0.6021645021645022],\n",
       " [900, 0.5653679653679654],\n",
       " [1000, 0.5281385281385281],\n",
       " [1138, 0.5004329004329005]]"
      ]
     },
     "execution_count": 88,
     "metadata": {},
     "output_type": "execute_result"
    }
   ],
   "source": [
    "kfold_cvd"
   ]
  },
  {
   "cell_type": "code",
   "execution_count": 40,
   "id": "119d22cb",
   "metadata": {
    "scrolled": true
   },
   "outputs": [
    {
     "data": {
      "text/html": [
       "<style>#sk-container-id-6 {color: black;background-color: white;}#sk-container-id-6 pre{padding: 0;}#sk-container-id-6 div.sk-toggleable {background-color: white;}#sk-container-id-6 label.sk-toggleable__label {cursor: pointer;display: block;width: 100%;margin-bottom: 0;padding: 0.3em;box-sizing: border-box;text-align: center;}#sk-container-id-6 label.sk-toggleable__label-arrow:before {content: \"▸\";float: left;margin-right: 0.25em;color: #696969;}#sk-container-id-6 label.sk-toggleable__label-arrow:hover:before {color: black;}#sk-container-id-6 div.sk-estimator:hover label.sk-toggleable__label-arrow:before {color: black;}#sk-container-id-6 div.sk-toggleable__content {max-height: 0;max-width: 0;overflow: hidden;text-align: left;background-color: #f0f8ff;}#sk-container-id-6 div.sk-toggleable__content pre {margin: 0.2em;color: black;border-radius: 0.25em;background-color: #f0f8ff;}#sk-container-id-6 input.sk-toggleable__control:checked~div.sk-toggleable__content {max-height: 200px;max-width: 100%;overflow: auto;}#sk-container-id-6 input.sk-toggleable__control:checked~label.sk-toggleable__label-arrow:before {content: \"▾\";}#sk-container-id-6 div.sk-estimator input.sk-toggleable__control:checked~label.sk-toggleable__label {background-color: #d4ebff;}#sk-container-id-6 div.sk-label input.sk-toggleable__control:checked~label.sk-toggleable__label {background-color: #d4ebff;}#sk-container-id-6 input.sk-hidden--visually {border: 0;clip: rect(1px 1px 1px 1px);clip: rect(1px, 1px, 1px, 1px);height: 1px;margin: -1px;overflow: hidden;padding: 0;position: absolute;width: 1px;}#sk-container-id-6 div.sk-estimator {font-family: monospace;background-color: #f0f8ff;border: 1px dotted black;border-radius: 0.25em;box-sizing: border-box;margin-bottom: 0.5em;}#sk-container-id-6 div.sk-estimator:hover {background-color: #d4ebff;}#sk-container-id-6 div.sk-parallel-item::after {content: \"\";width: 100%;border-bottom: 1px solid gray;flex-grow: 1;}#sk-container-id-6 div.sk-label:hover label.sk-toggleable__label {background-color: #d4ebff;}#sk-container-id-6 div.sk-serial::before {content: \"\";position: absolute;border-left: 1px solid gray;box-sizing: border-box;top: 0;bottom: 0;left: 50%;z-index: 0;}#sk-container-id-6 div.sk-serial {display: flex;flex-direction: column;align-items: center;background-color: white;padding-right: 0.2em;padding-left: 0.2em;position: relative;}#sk-container-id-6 div.sk-item {position: relative;z-index: 1;}#sk-container-id-6 div.sk-parallel {display: flex;align-items: stretch;justify-content: center;background-color: white;position: relative;}#sk-container-id-6 div.sk-item::before, #sk-container-id-6 div.sk-parallel-item::before {content: \"\";position: absolute;border-left: 1px solid gray;box-sizing: border-box;top: 0;bottom: 0;left: 50%;z-index: -1;}#sk-container-id-6 div.sk-parallel-item {display: flex;flex-direction: column;z-index: 1;position: relative;background-color: white;}#sk-container-id-6 div.sk-parallel-item:first-child::after {align-self: flex-end;width: 50%;}#sk-container-id-6 div.sk-parallel-item:last-child::after {align-self: flex-start;width: 50%;}#sk-container-id-6 div.sk-parallel-item:only-child::after {width: 0;}#sk-container-id-6 div.sk-dashed-wrapped {border: 1px dashed gray;margin: 0 0.4em 0.5em 0.4em;box-sizing: border-box;padding-bottom: 0.4em;background-color: white;}#sk-container-id-6 div.sk-label label {font-family: monospace;font-weight: bold;display: inline-block;line-height: 1.2em;}#sk-container-id-6 div.sk-label-container {text-align: center;}#sk-container-id-6 div.sk-container {/* jupyter's `normalize.less` sets `[hidden] { display: none; }` but bootstrap.min.css set `[hidden] { display: none !important; }` so we also need the `!important` here to be able to override the default hidden behavior on the sphinx rendered scikit-learn.org. See: https://github.com/scikit-learn/scikit-learn/issues/21755 */display: inline-block !important;position: relative;}#sk-container-id-6 div.sk-text-repr-fallback {display: none;}</style><div id=\"sk-container-id-6\" class=\"sk-top-container\"><div class=\"sk-text-repr-fallback\"><pre>RidgeClassifier()</pre><b>In a Jupyter environment, please rerun this cell to show the HTML representation or trust the notebook. <br />On GitHub, the HTML representation is unable to render, please try loading this page with nbviewer.org.</b></div><div class=\"sk-container\" hidden><div class=\"sk-item\"><div class=\"sk-estimator sk-toggleable\"><input class=\"sk-toggleable__control sk-hidden--visually\" id=\"sk-estimator-id-6\" type=\"checkbox\" checked><label for=\"sk-estimator-id-6\" class=\"sk-toggleable__label sk-toggleable__label-arrow\">RidgeClassifier</label><div class=\"sk-toggleable__content\"><pre>RidgeClassifier()</pre></div></div></div></div></div>"
      ],
      "text/plain": [
       "RidgeClassifier()"
      ]
     },
     "execution_count": 40,
     "metadata": {},
     "output_type": "execute_result"
    }
   ],
   "source": [
    "model.fit(X_train500,y_train)"
   ]
  },
  {
   "cell_type": "code",
   "execution_count": 41,
   "id": "e42ef27e",
   "metadata": {},
   "outputs": [
    {
     "data": {
      "text/plain": [
       "0.6666666666666666"
      ]
     },
     "execution_count": 41,
     "metadata": {},
     "output_type": "execute_result"
    }
   ],
   "source": [
    "model.score(X_val500,y_val)"
   ]
  },
  {
   "cell_type": "code",
   "execution_count": null,
   "id": "69e84c49",
   "metadata": {},
   "outputs": [],
   "source": []
  }
 ],
 "metadata": {
  "kernelspec": {
   "display_name": "Python 3 (ipykernel)",
   "language": "python",
   "name": "python3"
  },
  "language_info": {
   "codemirror_mode": {
    "name": "ipython",
    "version": 3
   },
   "file_extension": ".py",
   "mimetype": "text/x-python",
   "name": "python",
   "nbconvert_exporter": "python",
   "pygments_lexer": "ipython3",
   "version": "3.10.8"
  }
 },
 "nbformat": 4,
 "nbformat_minor": 5
}
