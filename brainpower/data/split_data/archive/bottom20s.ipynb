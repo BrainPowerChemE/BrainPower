{
 "cells": [
  {
   "cell_type": "code",
   "execution_count": 1,
   "id": "1f97b243",
   "metadata": {},
   "outputs": [],
   "source": [
    "import pandas as pd\n",
    "import numpy as np\n",
    "import scipy.stats\n",
    "import sklearn.linear_model\n",
    "import sklearn.neighbors\n",
    "\n",
    "import matplotlib.pyplot as plt\n",
    "import seaborn as sns\n",
    "sns.set_style('whitegrid')\n",
    "sns.set_context('talk')\n",
    "\n",
    "import warnings\n",
    "warnings.filterwarnings(\"ignore\")\n",
    "\n",
    "import mlxtend.feature_selection"
   ]
  },
  {
   "cell_type": "code",
   "execution_count": 2,
   "id": "e5921a4c",
   "metadata": {},
   "outputs": [],
   "source": [
    "full_data = pd.read_csv('full_data_short.csv')"
   ]
  },
  {
   "cell_type": "code",
   "execution_count": 3,
   "id": "1246c7ec",
   "metadata": {},
   "outputs": [],
   "source": [
    "train_data = pd.read_csv('train.csv')\n",
    "val_data = pd.read_csv('val.csv')\n",
    "test_data = pd.read_csv('test.csv')"
   ]
  },
  {
   "cell_type": "code",
   "execution_count": 4,
   "id": "4f62d95e",
   "metadata": {},
   "outputs": [],
   "source": [
    "list_full_data_columns = list(full_data.columns)\n",
    "list_train_data_columns = list(train_data.columns)"
   ]
  },
  {
   "cell_type": "code",
   "execution_count": 5,
   "id": "48e5ca6f",
   "metadata": {},
   "outputs": [],
   "source": [
    "list_dropped_features = list(set(list_full_data_columns).difference(set(list_train_data_columns)))"
   ]
  },
  {
   "cell_type": "code",
   "execution_count": 6,
   "id": "02619565",
   "metadata": {
    "scrolled": true
   },
   "outputs": [
    {
     "name": "stdout",
     "output_type": "stream",
     "text": [
      "train_data shape: (202, 1139)\n",
      "val_data shape: (36, 1139)\n",
      "test_data shape: (42, 1139)\n",
      "full_data shape: (280, 1347)\n"
     ]
    }
   ],
   "source": [
    "print('train_data shape:',np.shape(np.array(train_data)))\n",
    "print('val_data shape:',np.shape(np.array(val_data)))\n",
    "print('test_data shape:',np.shape(np.array(test_data)))\n",
    "print('full_data shape:',np.shape(np.array(full_data)))"
   ]
  },
  {
   "cell_type": "code",
   "execution_count": 7,
   "id": "4780abd7",
   "metadata": {},
   "outputs": [],
   "source": [
    "train_AD_healthy = train_data.loc[(train_data['group'] == 'Healthy') | (train_data['group'] == 'AD_MCI')]\n",
    "train_PD_healthy = train_data.loc[(train_data['group'] == 'Healthy') | (train_data['group'] == 'PD')]\n",
    "train_PDMCI_healthy = train_data.loc[(train_data['group'] == 'Healthy') | (train_data['group'] == 'PD_MCI_LBD')]"
   ]
  },
  {
   "cell_type": "code",
   "execution_count": 8,
   "id": "2d24b730",
   "metadata": {},
   "outputs": [],
   "source": [
    "val_AD_healthy = val_data.loc[(val_data['group'] == 'Healthy') | (val_data['group'] == 'AD_MCI')]\n",
    "val_PD_healthy = val_data.loc[(val_data['group'] == 'Healthy') | (val_data['group'] == 'PD')]\n",
    "val_PDMCI_healthy = train_data.loc[(train_data['group'] == 'Healthy') | (train_data['group'] == 'PD_MCI_LBD')]"
   ]
  },
  {
   "cell_type": "code",
   "execution_count": 9,
   "id": "72a0db3d",
   "metadata": {},
   "outputs": [],
   "source": [
    "test_AD_healthy = test_data.loc[(test_data['group'] == 'Healthy') | (test_data['group'] == 'AD_MCI')]\n",
    "test_PD_healthy = test_data.loc[(test_data['group'] == 'Healthy') | (test_data['group'] == 'PD')]\n",
    "test_PDMCI_healthy = test_data.loc[(test_data['group'] == 'Healthy') | (test_data['group'] == 'PD_MCI_LBD')]"
   ]
  },
  {
   "cell_type": "code",
   "execution_count": 10,
   "id": "db4575a8",
   "metadata": {},
   "outputs": [],
   "source": [
    "X_train_AD_healthy = train_AD_healthy.drop(columns='group')\n",
    "y_train_AD_healthy = train_AD_healthy['group']\n",
    "X_val_AD_healthy = val_AD_healthy.drop(columns='group')\n",
    "y_val_AD_healthy = val_AD_healthy['group']\n",
    "X_test_AD_healthy = test_AD_healthy.drop(columns='group')\n",
    "y_test_AD_healthy = test_AD_healthy['group']\n",
    "\n",
    "\n",
    "X_train_PD_healthy = train_PD_healthy.drop(columns='group')\n",
    "y_train_PD_healthy = train_PD_healthy['group']\n",
    "X_val_PD_healthy = val_PD_healthy.drop(columns='group')\n",
    "y_val_PD_healthy = val_PD_healthy['group']\n",
    "X_test_PD_healthy = test_PD_healthy.drop(columns='group')\n",
    "y_test_PD_healthy = test_PD_healthy['group']\n",
    "\n",
    "\n",
    "X_train_PDMCI_healthy = train_PDMCI_healthy.drop(columns='group')\n",
    "y_train_PDMCI_healthy = train_PDMCI_healthy['group']\n",
    "X_val_PDMCI_healthy = val_PDMCI_healthy.drop(columns='group')\n",
    "y_val_PDMCI_healthy = val_PDMCI_healthy['group']\n",
    "X_test_PDMCI_healthy = test_PDMCI_healthy.drop(columns='group')\n",
    "y_test_PDMCI_healthy = test_PDMCI_healthy['group']"
   ]
  },
  {
   "cell_type": "code",
   "execution_count": 11,
   "id": "f8e323f0",
   "metadata": {
    "scrolled": true
   },
   "outputs": [
    {
     "data": {
      "text/plain": [
       "Healthy    110\n",
       "AD_MCI      41\n",
       "Name: group, dtype: int64"
      ]
     },
     "execution_count": 11,
     "metadata": {},
     "output_type": "execute_result"
    }
   ],
   "source": [
    "train_AD_healthy['group'].value_counts()"
   ]
  },
  {
   "cell_type": "code",
   "execution_count": 76,
   "id": "8e59ad23",
   "metadata": {
    "scrolled": true
   },
   "outputs": [
    {
     "name": "stdout",
     "output_type": "stream",
     "text": [
      "AD_healthy\n",
      "train\n",
      " (151, 1138) \n",
      " (151,) \n",
      " Healthy    110\n",
      "AD_MCI      41\n",
      "Name: group, dtype: int64\n",
      "val\n",
      " (26, 1138) \n",
      " (26,) \n",
      " Healthy    22\n",
      "AD_MCI      4\n",
      "Name: group, dtype: int64\n",
      "test\n",
      " (30, 1138) \n",
      " (30,) \n",
      " Healthy    24\n",
      "AD_MCI      6\n",
      "Name: group, dtype: int64\n",
      "\n",
      "PD_healthy\n",
      "train\n",
      " (140, 1138) \n",
      " (140,) \n",
      " Healthy    110\n",
      "PD          30\n",
      "Name: group, dtype: int64\n",
      "val\n",
      " (24, 1138) \n",
      " (24,) \n",
      " Healthy    22\n",
      "PD          2\n",
      "Name: group, dtype: int64\n",
      "test\n",
      " (28, 1138) \n",
      " (28,) \n",
      " Healthy    24\n",
      "PD          4\n",
      "Name: group, dtype: int64\n",
      "\n",
      "PDMCI_healthy\n",
      "train\n",
      " (131, 1138) \n",
      " (131,) \n",
      " Healthy       110\n",
      "PD_MCI_LBD     21\n",
      "Name: group, dtype: int64\n",
      "val\n",
      " (131, 1138) \n",
      " (131,) \n",
      " Healthy       110\n",
      "PD_MCI_LBD     21\n",
      "Name: group, dtype: int64\n",
      "test\n",
      " (32, 1138) \n",
      " (32,) \n",
      " Healthy       24\n",
      "PD_MCI_LBD     8\n",
      "Name: group, dtype: int64\n"
     ]
    }
   ],
   "source": [
    "print('AD_healthy')\n",
    "print('train\\n',np.shape(np.array(X_train_AD_healthy)),'\\n',np.shape(np.array(y_train_AD_healthy)),'\\n',train_AD_healthy['group'].value_counts())\n",
    "print('val\\n',np.shape(np.array(X_val_AD_healthy)),'\\n',np.shape(np.array(y_val_AD_healthy)),'\\n',val_AD_healthy['group'].value_counts())\n",
    "print('test\\n',np.shape(np.array(X_test_AD_healthy)),'\\n',np.shape(np.array(y_test_AD_healthy)),'\\n',test_AD_healthy['group'].value_counts())\n",
    "\n",
    "print('\\nPD_healthy')\n",
    "print('train\\n',np.shape(np.array(X_train_PD_healthy)),'\\n',np.shape(np.array(y_train_PD_healthy)),'\\n',train_PD_healthy['group'].value_counts())\n",
    "print('val\\n',np.shape(np.array(X_val_PD_healthy)),'\\n',np.shape(np.array(y_val_PD_healthy)),'\\n',val_PD_healthy['group'].value_counts())\n",
    "print('test\\n',np.shape(np.array(X_test_PD_healthy)),'\\n',np.shape(np.array(y_test_PD_healthy)),'\\n',test_PD_healthy['group'].value_counts())\n",
    "\n",
    "print('\\nPDMCI_healthy')\n",
    "print('train\\n',np.shape(np.array(X_train_PDMCI_healthy)),'\\n',np.shape(np.array(y_train_PDMCI_healthy)),'\\n',train_PDMCI_healthy['group'].value_counts())\n",
    "print('val\\n',np.shape(np.array(X_val_PDMCI_healthy)),'\\n',np.shape(np.array(y_val_PDMCI_healthy)),'\\n',val_PDMCI_healthy['group'].value_counts())\n",
    "print('test\\n',np.shape(np.array(X_test_PDMCI_healthy)),'\\n',np.shape(np.array(y_test_PDMCI_healthy)),'\\n',test_PDMCI_healthy['group'].value_counts())"
   ]
  },
  {
   "cell_type": "markdown",
   "id": "cc26b821",
   "metadata": {},
   "source": [
    "Define model to feature select with:"
   ]
  },
  {
   "cell_type": "code",
   "execution_count": 77,
   "id": "46c70e61",
   "metadata": {},
   "outputs": [],
   "source": [
    "model = sklearn.linear_model.RidgeClassifier()\n",
    "sfs = mlxtend.feature_selection.SequentialFeatureSelector(model, k_features=1118, forward=False,verbose=2,n_jobs=-1)"
   ]
  },
  {
   "cell_type": "markdown",
   "id": "264b3112",
   "metadata": {},
   "source": [
    "Start with AD_MCI"
   ]
  },
  {
   "cell_type": "code",
   "execution_count": 78,
   "id": "6b5d7df6",
   "metadata": {
    "scrolled": true
   },
   "outputs": [
    {
     "name": "stderr",
     "output_type": "stream",
     "text": [
      "[Parallel(n_jobs=-1)]: Using backend LokyBackend with 12 concurrent workers.\n",
      "[Parallel(n_jobs=-1)]: Done  17 tasks      | elapsed:    1.3s\n",
      "[Parallel(n_jobs=-1)]: Done 288 tasks      | elapsed:    2.8s\n",
      "[Parallel(n_jobs=-1)]: Done 1138 out of 1138 | elapsed:    6.7s finished\n",
      "\n",
      "[2023-02-26 07:52:05] Features: 1137/1118 -- score: 0.8879569892473119[Parallel(n_jobs=-1)]: Using backend LokyBackend with 12 concurrent workers.\n",
      "[Parallel(n_jobs=-1)]: Done  17 tasks      | elapsed:    0.1s\n",
      "[Parallel(n_jobs=-1)]: Done 432 tasks      | elapsed:    2.1s\n",
      "[Parallel(n_jobs=-1)]: Done 1114 out of 1137 | elapsed:    5.4s remaining:    0.1s\n",
      "[Parallel(n_jobs=-1)]: Done 1137 out of 1137 | elapsed:    5.4s finished\n",
      "\n",
      "[2023-02-26 07:52:10] Features: 1136/1118 -- score: 0.9070967741935485[Parallel(n_jobs=-1)]: Using backend LokyBackend with 12 concurrent workers.\n",
      "[Parallel(n_jobs=-1)]: Done  17 tasks      | elapsed:    0.1s\n",
      "[Parallel(n_jobs=-1)]: Done 432 tasks      | elapsed:    2.2s\n",
      "[Parallel(n_jobs=-1)]: Done 1136 out of 1136 | elapsed:    5.5s finished\n",
      "\n",
      "[2023-02-26 07:52:16] Features: 1135/1118 -- score: 0.9200000000000002[Parallel(n_jobs=-1)]: Using backend LokyBackend with 12 concurrent workers.\n",
      "[Parallel(n_jobs=-1)]: Done  17 tasks      | elapsed:    0.1s\n",
      "[Parallel(n_jobs=-1)]: Done 432 tasks      | elapsed:    2.2s\n",
      "[Parallel(n_jobs=-1)]: Done 1135 out of 1135 | elapsed:    5.4s finished\n",
      "\n",
      "[2023-02-26 07:52:22] Features: 1134/1118 -- score: 0.9200000000000002[Parallel(n_jobs=-1)]: Using backend LokyBackend with 12 concurrent workers.\n",
      "[Parallel(n_jobs=-1)]: Done  17 tasks      | elapsed:    0.1s\n",
      "[Parallel(n_jobs=-1)]: Done 432 tasks      | elapsed:    2.1s\n",
      "[Parallel(n_jobs=-1)]: Done 1134 out of 1134 | elapsed:    5.5s finished\n",
      "\n",
      "[2023-02-26 07:52:27] Features: 1133/1118 -- score: 0.9200000000000002[Parallel(n_jobs=-1)]: Using backend LokyBackend with 12 concurrent workers.\n",
      "[Parallel(n_jobs=-1)]: Done  17 tasks      | elapsed:    0.1s\n",
      "[Parallel(n_jobs=-1)]: Done 432 tasks      | elapsed:    2.3s\n",
      "[Parallel(n_jobs=-1)]: Done 1110 out of 1133 | elapsed:    5.5s remaining:    0.1s\n",
      "[Parallel(n_jobs=-1)]: Done 1133 out of 1133 | elapsed:    5.5s finished\n",
      "\n",
      "[2023-02-26 07:52:33] Features: 1132/1118 -- score: 0.9202150537634409[Parallel(n_jobs=-1)]: Using backend LokyBackend with 12 concurrent workers.\n",
      "[Parallel(n_jobs=-1)]: Done  17 tasks      | elapsed:    0.1s\n",
      "[Parallel(n_jobs=-1)]: Done 432 tasks      | elapsed:    2.2s\n",
      "[Parallel(n_jobs=-1)]: Done 1132 out of 1132 | elapsed:    5.4s finished\n",
      "\n",
      "[2023-02-26 07:52:38] Features: 1131/1118 -- score: 0.9268817204301076[Parallel(n_jobs=-1)]: Using backend LokyBackend with 12 concurrent workers.\n",
      "[Parallel(n_jobs=-1)]: Done  17 tasks      | elapsed:    0.1s\n",
      "[Parallel(n_jobs=-1)]: Done 432 tasks      | elapsed:    2.2s\n",
      "[Parallel(n_jobs=-1)]: Done 1131 out of 1131 | elapsed:    5.5s finished\n",
      "\n",
      "[2023-02-26 07:52:44] Features: 1130/1118 -- score: 0.9268817204301076[Parallel(n_jobs=-1)]: Using backend LokyBackend with 12 concurrent workers.\n",
      "[Parallel(n_jobs=-1)]: Done  17 tasks      | elapsed:    0.2s\n",
      "[Parallel(n_jobs=-1)]: Done 432 tasks      | elapsed:    2.2s\n",
      "[Parallel(n_jobs=-1)]: Done 1130 out of 1130 | elapsed:    5.5s finished\n",
      "\n",
      "[2023-02-26 07:52:50] Features: 1129/1118 -- score: 0.9268817204301076[Parallel(n_jobs=-1)]: Using backend LokyBackend with 12 concurrent workers.\n",
      "[Parallel(n_jobs=-1)]: Done  17 tasks      | elapsed:    0.1s\n",
      "[Parallel(n_jobs=-1)]: Done 432 tasks      | elapsed:    2.2s\n",
      "[Parallel(n_jobs=-1)]: Done 1129 out of 1129 | elapsed:    5.5s finished\n",
      "\n",
      "[2023-02-26 07:52:55] Features: 1128/1118 -- score: 0.9333333333333333[Parallel(n_jobs=-1)]: Using backend LokyBackend with 12 concurrent workers.\n",
      "[Parallel(n_jobs=-1)]: Done  17 tasks      | elapsed:    0.1s\n",
      "[Parallel(n_jobs=-1)]: Done 432 tasks      | elapsed:    2.3s\n",
      "[Parallel(n_jobs=-1)]: Done 1128 out of 1128 | elapsed:    6.1s finished\n",
      "\n",
      "[2023-02-26 07:53:02] Features: 1127/1118 -- score: 0.9400000000000001[Parallel(n_jobs=-1)]: Using backend LokyBackend with 12 concurrent workers.\n",
      "[Parallel(n_jobs=-1)]: Done  17 tasks      | elapsed:    0.1s\n",
      "[Parallel(n_jobs=-1)]: Done 432 tasks      | elapsed:    2.3s\n",
      "[Parallel(n_jobs=-1)]: Done 1127 out of 1127 | elapsed:    5.9s finished\n",
      "\n",
      "[2023-02-26 07:53:08] Features: 1126/1118 -- score: 0.9400000000000001[Parallel(n_jobs=-1)]: Using backend LokyBackend with 12 concurrent workers.\n",
      "[Parallel(n_jobs=-1)]: Done  17 tasks      | elapsed:    0.1s\n",
      "[Parallel(n_jobs=-1)]: Done 432 tasks      | elapsed:    2.4s\n",
      "[Parallel(n_jobs=-1)]: Done 1126 out of 1126 | elapsed:    6.0s finished\n",
      "\n",
      "[2023-02-26 07:53:14] Features: 1125/1118 -- score: 0.9400000000000001[Parallel(n_jobs=-1)]: Using backend LokyBackend with 12 concurrent workers.\n",
      "[Parallel(n_jobs=-1)]: Done  17 tasks      | elapsed:    0.1s\n",
      "[Parallel(n_jobs=-1)]: Done 432 tasks      | elapsed:    2.4s\n",
      "[Parallel(n_jobs=-1)]: Done 1125 out of 1125 | elapsed:    6.1s finished\n",
      "\n",
      "[2023-02-26 07:53:20] Features: 1124/1118 -- score: 0.9400000000000001[Parallel(n_jobs=-1)]: Using backend LokyBackend with 12 concurrent workers.\n",
      "[Parallel(n_jobs=-1)]: Done  17 tasks      | elapsed:    0.1s\n",
      "[Parallel(n_jobs=-1)]: Done 432 tasks      | elapsed:    2.5s\n",
      "[Parallel(n_jobs=-1)]: Done 1124 out of 1124 | elapsed:    6.3s finished\n",
      "\n",
      "[2023-02-26 07:53:26] Features: 1123/1118 -- score: 0.9400000000000001[Parallel(n_jobs=-1)]: Using backend LokyBackend with 12 concurrent workers.\n",
      "[Parallel(n_jobs=-1)]: Done  17 tasks      | elapsed:    0.2s\n",
      "[Parallel(n_jobs=-1)]: Done 432 tasks      | elapsed:    2.5s\n",
      "[Parallel(n_jobs=-1)]: Done 1123 out of 1123 | elapsed:    6.3s finished\n",
      "\n",
      "[2023-02-26 07:53:33] Features: 1122/1118 -- score: 0.9400000000000001[Parallel(n_jobs=-1)]: Using backend LokyBackend with 12 concurrent workers.\n",
      "[Parallel(n_jobs=-1)]: Done  17 tasks      | elapsed:    0.1s\n",
      "[Parallel(n_jobs=-1)]: Done 432 tasks      | elapsed:    2.6s\n",
      "[Parallel(n_jobs=-1)]: Done 1122 out of 1122 | elapsed:    6.3s finished\n",
      "\n",
      "[2023-02-26 07:53:39] Features: 1121/1118 -- score: 0.9400000000000001[Parallel(n_jobs=-1)]: Using backend LokyBackend with 12 concurrent workers.\n",
      "[Parallel(n_jobs=-1)]: Done  17 tasks      | elapsed:    0.1s\n",
      "[Parallel(n_jobs=-1)]: Done 432 tasks      | elapsed:    2.4s\n",
      "[Parallel(n_jobs=-1)]: Done 1121 out of 1121 | elapsed:    6.0s finished\n",
      "\n",
      "[2023-02-26 07:53:45] Features: 1120/1118 -- score: 0.9400000000000001[Parallel(n_jobs=-1)]: Using backend LokyBackend with 12 concurrent workers.\n",
      "[Parallel(n_jobs=-1)]: Done  17 tasks      | elapsed:    0.1s\n",
      "[Parallel(n_jobs=-1)]: Done 432 tasks      | elapsed:    2.4s\n",
      "[Parallel(n_jobs=-1)]: Done 1120 out of 1120 | elapsed:    6.0s finished\n",
      "\n",
      "[2023-02-26 07:53:51] Features: 1119/1118 -- score: 0.9400000000000001[Parallel(n_jobs=-1)]: Using backend LokyBackend with 12 concurrent workers.\n",
      "[Parallel(n_jobs=-1)]: Done  17 tasks      | elapsed:    0.1s\n",
      "[Parallel(n_jobs=-1)]: Done 432 tasks      | elapsed:    2.4s\n",
      "[Parallel(n_jobs=-1)]: Done 1119 out of 1119 | elapsed:    6.0s finished\n",
      "\n",
      "[2023-02-26 07:53:57] Features: 1118/1118 -- score: 0.9400000000000001"
     ]
    }
   ],
   "source": [
    "sfs_AD = sfs.fit(X_train_AD_healthy,y_train_AD_healthy)\n",
    "bottom20_AD = sfs_AD.k_feature_names_"
   ]
  },
  {
   "cell_type": "code",
   "execution_count": 86,
   "id": "51d50fdf",
   "metadata": {},
   "outputs": [
    {
     "name": "stdout",
     "output_type": "stream",
     "text": [
      "['F13A', 'HV124', 'PLXA4', 'DAF', 'ARMD4', 'KCC2A', 'VMO1', 'PCDGL', 'PAPP2', 'B2L12', 'NDST1', 'FGL2', 'LVX54', 'PTPRR', 'PSA1', 'AGRB1', 'B3GN2', 'PAL4A', 'F174A', 'A0A075B7D0']\n"
     ]
    }
   ],
   "source": [
    "bottom20_AD = sfs_AD.k_feature_names_\n",
    "bottom20_AD = list(bottom20_AD)\n",
    "total = list(X_train_AD_healthy.columns)\n",
    "bottom20_AD = list(set(total).difference(set(bottom20_AD)))\n",
    "print(bottom20_AD)"
   ]
  },
  {
   "cell_type": "code",
   "execution_count": 52,
   "id": "2a3e5b1e",
   "metadata": {
    "scrolled": true
   },
   "outputs": [
    {
     "name": "stderr",
     "output_type": "stream",
     "text": [
      "[Parallel(n_jobs=-1)]: Using backend LokyBackend with 12 concurrent workers.\n",
      "[Parallel(n_jobs=-1)]: Done  17 tasks      | elapsed:    1.3s\n",
      "[Parallel(n_jobs=-1)]: Done 288 tasks      | elapsed:    2.7s\n",
      "[Parallel(n_jobs=-1)]: Done 1115 out of 1138 | elapsed:    6.6s remaining:    0.1s\n",
      "[Parallel(n_jobs=-1)]: Done 1138 out of 1138 | elapsed:    6.7s finished\n",
      "\n",
      "[2023-02-26 06:58:19] Features: 1137/1118 -- score: 0.7857142857142858[Parallel(n_jobs=-1)]: Using backend LokyBackend with 12 concurrent workers.\n",
      "[Parallel(n_jobs=-1)]: Done  17 tasks      | elapsed:    0.1s\n",
      "[Parallel(n_jobs=-1)]: Done 432 tasks      | elapsed:    2.1s\n",
      "[Parallel(n_jobs=-1)]: Done 1137 out of 1137 | elapsed:    5.3s finished\n",
      "\n",
      "[2023-02-26 06:58:24] Features: 1136/1118 -- score: 0.7928571428571429[Parallel(n_jobs=-1)]: Using backend LokyBackend with 12 concurrent workers.\n",
      "[Parallel(n_jobs=-1)]: Done  17 tasks      | elapsed:    0.1s\n",
      "[Parallel(n_jobs=-1)]: Done 432 tasks      | elapsed:    2.1s\n",
      "[Parallel(n_jobs=-1)]: Done 1136 out of 1136 | elapsed:    5.3s finished\n",
      "\n",
      "[2023-02-26 06:58:29] Features: 1135/1118 -- score: 0.8142857142857143[Parallel(n_jobs=-1)]: Using backend LokyBackend with 12 concurrent workers.\n",
      "[Parallel(n_jobs=-1)]: Done  17 tasks      | elapsed:    0.1s\n",
      "[Parallel(n_jobs=-1)]: Done 432 tasks      | elapsed:    2.0s\n",
      "[Parallel(n_jobs=-1)]: Done 1135 out of 1135 | elapsed:    5.1s finished\n",
      "\n",
      "[2023-02-26 06:58:35] Features: 1134/1118 -- score: 0.8285714285714286[Parallel(n_jobs=-1)]: Using backend LokyBackend with 12 concurrent workers.\n",
      "[Parallel(n_jobs=-1)]: Done  17 tasks      | elapsed:    0.1s\n",
      "[Parallel(n_jobs=-1)]: Done 432 tasks      | elapsed:    2.1s\n",
      "[Parallel(n_jobs=-1)]: Done 1134 out of 1134 | elapsed:    5.2s finished\n",
      "\n",
      "[2023-02-26 06:58:40] Features: 1133/1118 -- score: 0.8285714285714286[Parallel(n_jobs=-1)]: Using backend LokyBackend with 12 concurrent workers.\n",
      "[Parallel(n_jobs=-1)]: Done  17 tasks      | elapsed:    0.1s\n",
      "[Parallel(n_jobs=-1)]: Done 432 tasks      | elapsed:    2.0s\n",
      "[Parallel(n_jobs=-1)]: Done 1133 out of 1133 | elapsed:    5.4s finished\n",
      "\n",
      "[2023-02-26 06:58:46] Features: 1132/1118 -- score: 0.8285714285714286[Parallel(n_jobs=-1)]: Using backend LokyBackend with 12 concurrent workers.\n",
      "[Parallel(n_jobs=-1)]: Done  17 tasks      | elapsed:    0.1s\n",
      "[Parallel(n_jobs=-1)]: Done 432 tasks      | elapsed:    2.1s\n",
      "[Parallel(n_jobs=-1)]: Done 1132 out of 1132 | elapsed:    5.4s finished\n",
      "\n",
      "[2023-02-26 06:58:51] Features: 1131/1118 -- score: 0.8285714285714286[Parallel(n_jobs=-1)]: Using backend LokyBackend with 12 concurrent workers.\n",
      "[Parallel(n_jobs=-1)]: Done  17 tasks      | elapsed:    0.1s\n",
      "[Parallel(n_jobs=-1)]: Done 432 tasks      | elapsed:    2.1s\n",
      "[Parallel(n_jobs=-1)]: Done 1131 out of 1131 | elapsed:    5.4s finished\n",
      "\n",
      "[2023-02-26 06:58:57] Features: 1130/1118 -- score: 0.8285714285714286[Parallel(n_jobs=-1)]: Using backend LokyBackend with 12 concurrent workers.\n",
      "[Parallel(n_jobs=-1)]: Done  17 tasks      | elapsed:    0.1s\n",
      "[Parallel(n_jobs=-1)]: Done 432 tasks      | elapsed:    2.4s\n",
      "[Parallel(n_jobs=-1)]: Done 1130 out of 1130 | elapsed:    6.0s finished\n",
      "\n",
      "[2023-02-26 06:59:03] Features: 1129/1118 -- score: 0.8357142857142857[Parallel(n_jobs=-1)]: Using backend LokyBackend with 12 concurrent workers.\n",
      "[Parallel(n_jobs=-1)]: Done  17 tasks      | elapsed:    0.1s\n",
      "[Parallel(n_jobs=-1)]: Done 432 tasks      | elapsed:    2.3s\n",
      "[Parallel(n_jobs=-1)]: Done 1129 out of 1129 | elapsed:    5.9s finished\n",
      "\n",
      "[2023-02-26 06:59:09] Features: 1128/1118 -- score: 0.8357142857142857[Parallel(n_jobs=-1)]: Using backend LokyBackend with 12 concurrent workers.\n",
      "[Parallel(n_jobs=-1)]: Done  17 tasks      | elapsed:    0.1s\n",
      "[Parallel(n_jobs=-1)]: Done 432 tasks      | elapsed:    2.5s\n",
      "[Parallel(n_jobs=-1)]: Done 1128 out of 1128 | elapsed:    6.1s finished\n",
      "\n",
      "[2023-02-26 06:59:15] Features: 1127/1118 -- score: 0.8357142857142857[Parallel(n_jobs=-1)]: Using backend LokyBackend with 12 concurrent workers.\n",
      "[Parallel(n_jobs=-1)]: Done  17 tasks      | elapsed:    0.1s\n",
      "[Parallel(n_jobs=-1)]: Done 432 tasks      | elapsed:    2.4s\n",
      "[Parallel(n_jobs=-1)]: Done 1127 out of 1127 | elapsed:    6.4s finished\n",
      "\n",
      "[2023-02-26 06:59:21] Features: 1126/1118 -- score: 0.8357142857142857[Parallel(n_jobs=-1)]: Using backend LokyBackend with 12 concurrent workers.\n",
      "[Parallel(n_jobs=-1)]: Done  17 tasks      | elapsed:    0.1s\n",
      "[Parallel(n_jobs=-1)]: Done 432 tasks      | elapsed:    2.5s\n",
      "[Parallel(n_jobs=-1)]: Done 1126 out of 1126 | elapsed:    6.4s finished\n",
      "\n",
      "[2023-02-26 06:59:28] Features: 1125/1118 -- score: 0.8357142857142857[Parallel(n_jobs=-1)]: Using backend LokyBackend with 12 concurrent workers.\n",
      "[Parallel(n_jobs=-1)]: Done  17 tasks      | elapsed:    0.1s\n",
      "[Parallel(n_jobs=-1)]: Done 432 tasks      | elapsed:    2.4s\n",
      "[Parallel(n_jobs=-1)]: Done 1125 out of 1125 | elapsed:    6.3s finished\n",
      "\n",
      "[2023-02-26 06:59:34] Features: 1124/1118 -- score: 0.8357142857142857[Parallel(n_jobs=-1)]: Using backend LokyBackend with 12 concurrent workers.\n",
      "[Parallel(n_jobs=-1)]: Done  17 tasks      | elapsed:    0.1s\n",
      "[Parallel(n_jobs=-1)]: Done 432 tasks      | elapsed:    2.4s\n",
      "[Parallel(n_jobs=-1)]: Done 1124 out of 1124 | elapsed:    6.1s finished\n",
      "\n",
      "[2023-02-26 06:59:40] Features: 1123/1118 -- score: 0.8357142857142857[Parallel(n_jobs=-1)]: Using backend LokyBackend with 12 concurrent workers.\n",
      "[Parallel(n_jobs=-1)]: Done  17 tasks      | elapsed:    0.1s\n",
      "[Parallel(n_jobs=-1)]: Done 432 tasks      | elapsed:    2.4s\n",
      "[Parallel(n_jobs=-1)]: Done 1123 out of 1123 | elapsed:    5.9s finished\n",
      "\n",
      "[2023-02-26 06:59:47] Features: 1122/1118 -- score: 0.8357142857142857[Parallel(n_jobs=-1)]: Using backend LokyBackend with 12 concurrent workers.\n",
      "[Parallel(n_jobs=-1)]: Done  17 tasks      | elapsed:    0.2s\n",
      "[Parallel(n_jobs=-1)]: Done 432 tasks      | elapsed:    2.4s\n",
      "[Parallel(n_jobs=-1)]: Done 1122 out of 1122 | elapsed:    6.0s finished\n",
      "\n",
      "[2023-02-26 06:59:53] Features: 1121/1118 -- score: 0.8357142857142857[Parallel(n_jobs=-1)]: Using backend LokyBackend with 12 concurrent workers.\n",
      "[Parallel(n_jobs=-1)]: Done  17 tasks      | elapsed:    0.2s\n",
      "[Parallel(n_jobs=-1)]: Done 252 tasks      | elapsed:    1.6s\n",
      "[Parallel(n_jobs=-1)]: Done 658 tasks      | elapsed:    3.7s\n",
      "[Parallel(n_jobs=-1)]: Done 1098 out of 1121 | elapsed:    6.1s remaining:    0.1s\n",
      "[Parallel(n_jobs=-1)]: Done 1121 out of 1121 | elapsed:    6.1s finished\n",
      "\n",
      "[2023-02-26 06:59:59] Features: 1120/1118 -- score: 0.8357142857142857[Parallel(n_jobs=-1)]: Using backend LokyBackend with 12 concurrent workers.\n",
      "[Parallel(n_jobs=-1)]: Done  17 tasks      | elapsed:    0.1s\n",
      "[Parallel(n_jobs=-1)]: Done 432 tasks      | elapsed:    2.6s\n",
      "[Parallel(n_jobs=-1)]: Done 1120 out of 1120 | elapsed:    6.2s finished\n",
      "\n",
      "[2023-02-26 07:00:05] Features: 1119/1118 -- score: 0.8357142857142857[Parallel(n_jobs=-1)]: Using backend LokyBackend with 12 concurrent workers.\n",
      "[Parallel(n_jobs=-1)]: Done  17 tasks      | elapsed:    0.1s\n",
      "[Parallel(n_jobs=-1)]: Done 432 tasks      | elapsed:    2.3s\n",
      "[Parallel(n_jobs=-1)]: Done 1119 out of 1119 | elapsed:    5.9s finished\n",
      "\n",
      "[2023-02-26 07:00:11] Features: 1118/1118 -- score: 0.8357142857142857"
     ]
    }
   ],
   "source": [
    "sfs_PD = sfs.fit(X_train_PD_healthy,y_train_PD_healthy)\n",
    "bottom20_PD = sfs_PD.k_feature_names_"
   ]
  },
  {
   "cell_type": "markdown",
   "id": "4ca90622",
   "metadata": {},
   "source": [
    "### This current bottom20_PD is not correct. You would have to re-run backward selection to get the correct list unfortunately. See below for the correct list"
   ]
  },
  {
   "cell_type": "code",
   "execution_count": 111,
   "id": "036a928a",
   "metadata": {
    "scrolled": true
   },
   "outputs": [
    {
     "name": "stdout",
     "output_type": "stream",
     "text": [
      "['IGHD', 'A0A0G2JRQ6', 'DAF', 'A0A2R8Y422', 'A0A0J9YY99', 'RECK', 'PCDGL', 'B2L12', 'C1QT5', 'NDST1', 'S4R460', 'VWA1', 'FGL2', 'MATN3', 'OBSL1', 'A0A087X1L8', 'PSA1', 'B3GN2', 'PAL4A', 'F174A']\n"
     ]
    }
   ],
   "source": [
    "bottom20_PD = sfs_PD.k_feature_names_\n",
    "bottom20_PD = list(bottom20_PD)\n",
    "total = list(X_train_PD_healthy.columns)\n",
    "bottom20_PD = list(set(total).difference(set(bottom20_PD)))\n",
    "print(bottom20_PD)"
   ]
  },
  {
   "cell_type": "code",
   "execution_count": 63,
   "id": "045451f2",
   "metadata": {},
   "outputs": [
    {
     "name": "stderr",
     "output_type": "stream",
     "text": [
      "[Parallel(n_jobs=-1)]: Using backend LokyBackend with 12 concurrent workers.\n",
      "[Parallel(n_jobs=-1)]: Done  17 tasks      | elapsed:    1.2s\n",
      "[Parallel(n_jobs=-1)]: Done 288 tasks      | elapsed:    2.6s\n",
      "[Parallel(n_jobs=-1)]: Done 1115 out of 1138 | elapsed:    6.4s remaining:    0.1s\n",
      "[Parallel(n_jobs=-1)]: Done 1138 out of 1138 | elapsed:    6.5s finished\n",
      "\n",
      "[2023-02-26 07:14:07] Features: 1137/1118 -- score: 0.8555555555555555[Parallel(n_jobs=-1)]: Using backend LokyBackend with 12 concurrent workers.\n",
      "[Parallel(n_jobs=-1)]: Done  17 tasks      | elapsed:    0.1s\n",
      "[Parallel(n_jobs=-1)]: Done 432 tasks      | elapsed:    2.0s\n",
      "[Parallel(n_jobs=-1)]: Done 1114 out of 1137 | elapsed:    5.2s remaining:    0.1s\n",
      "[Parallel(n_jobs=-1)]: Done 1137 out of 1137 | elapsed:    5.2s finished\n",
      "\n",
      "[2023-02-26 07:14:13] Features: 1136/1118 -- score: 0.8632478632478632[Parallel(n_jobs=-1)]: Using backend LokyBackend with 12 concurrent workers.\n",
      "[Parallel(n_jobs=-1)]: Done  17 tasks      | elapsed:    0.1s\n",
      "[Parallel(n_jobs=-1)]: Done 432 tasks      | elapsed:    2.2s\n",
      "[Parallel(n_jobs=-1)]: Done 1113 out of 1136 | elapsed:    5.1s remaining:    0.1s\n",
      "[Parallel(n_jobs=-1)]: Done 1136 out of 1136 | elapsed:    5.2s finished\n",
      "\n",
      "[2023-02-26 07:14:18] Features: 1135/1118 -- score: 0.8709401709401708[Parallel(n_jobs=-1)]: Using backend LokyBackend with 12 concurrent workers.\n",
      "[Parallel(n_jobs=-1)]: Done  17 tasks      | elapsed:    0.1s\n",
      "[Parallel(n_jobs=-1)]: Done 432 tasks      | elapsed:    2.0s\n",
      "[Parallel(n_jobs=-1)]: Done 1135 out of 1135 | elapsed:    5.2s finished\n",
      "\n",
      "[2023-02-26 07:14:23] Features: 1134/1118 -- score: 0.8783475783475783[Parallel(n_jobs=-1)]: Using backend LokyBackend with 12 concurrent workers.\n",
      "[Parallel(n_jobs=-1)]: Done  17 tasks      | elapsed:    0.1s\n",
      "[Parallel(n_jobs=-1)]: Done 432 tasks      | elapsed:    2.0s\n",
      "[Parallel(n_jobs=-1)]: Done 1111 out of 1134 | elapsed:    5.0s remaining:    0.1s\n",
      "[Parallel(n_jobs=-1)]: Done 1134 out of 1134 | elapsed:    5.0s finished\n",
      "\n",
      "[2023-02-26 07:14:29] Features: 1133/1118 -- score: 0.8783475783475783[Parallel(n_jobs=-1)]: Using backend LokyBackend with 12 concurrent workers.\n",
      "[Parallel(n_jobs=-1)]: Done  17 tasks      | elapsed:    0.1s\n",
      "[Parallel(n_jobs=-1)]: Done 432 tasks      | elapsed:    1.9s\n",
      "[Parallel(n_jobs=-1)]: Done 1110 out of 1133 | elapsed:    4.9s remaining:    0.1s\n",
      "[Parallel(n_jobs=-1)]: Done 1133 out of 1133 | elapsed:    4.9s finished\n",
      "\n",
      "[2023-02-26 07:14:34] Features: 1132/1118 -- score: 0.8783475783475783[Parallel(n_jobs=-1)]: Using backend LokyBackend with 12 concurrent workers.\n",
      "[Parallel(n_jobs=-1)]: Done  17 tasks      | elapsed:    0.1s\n",
      "[Parallel(n_jobs=-1)]: Done 432 tasks      | elapsed:    2.3s\n",
      "[Parallel(n_jobs=-1)]: Done 1132 out of 1132 | elapsed:    5.3s finished\n",
      "\n",
      "[2023-02-26 07:14:39] Features: 1131/1118 -- score: 0.8783475783475783[Parallel(n_jobs=-1)]: Using backend LokyBackend with 12 concurrent workers.\n",
      "[Parallel(n_jobs=-1)]: Done  17 tasks      | elapsed:    0.1s\n",
      "[Parallel(n_jobs=-1)]: Done 432 tasks      | elapsed:    2.2s\n",
      "[Parallel(n_jobs=-1)]: Done 1131 out of 1131 | elapsed:    5.2s finished\n",
      "\n",
      "[2023-02-26 07:14:44] Features: 1130/1118 -- score: 0.8783475783475783[Parallel(n_jobs=-1)]: Using backend LokyBackend with 12 concurrent workers.\n",
      "[Parallel(n_jobs=-1)]: Done  17 tasks      | elapsed:    0.1s\n",
      "[Parallel(n_jobs=-1)]: Done 432 tasks      | elapsed:    2.0s\n",
      "[Parallel(n_jobs=-1)]: Done 1130 out of 1130 | elapsed:    5.1s finished\n",
      "\n",
      "[2023-02-26 07:14:50] Features: 1129/1118 -- score: 0.8783475783475783[Parallel(n_jobs=-1)]: Using backend LokyBackend with 12 concurrent workers.\n",
      "[Parallel(n_jobs=-1)]: Done  17 tasks      | elapsed:    0.1s\n",
      "[Parallel(n_jobs=-1)]: Done 432 tasks      | elapsed:    2.1s\n",
      "[Parallel(n_jobs=-1)]: Done 1129 out of 1129 | elapsed:    5.1s finished\n",
      "\n",
      "[2023-02-26 07:14:55] Features: 1128/1118 -- score: 0.8783475783475783[Parallel(n_jobs=-1)]: Using backend LokyBackend with 12 concurrent workers.\n",
      "[Parallel(n_jobs=-1)]: Done  17 tasks      | elapsed:    0.1s\n",
      "[Parallel(n_jobs=-1)]: Done 432 tasks      | elapsed:    2.2s\n",
      "[Parallel(n_jobs=-1)]: Done 1128 out of 1128 | elapsed:    5.3s finished\n",
      "\n",
      "[2023-02-26 07:15:00] Features: 1127/1118 -- score: 0.8783475783475783[Parallel(n_jobs=-1)]: Using backend LokyBackend with 12 concurrent workers.\n",
      "[Parallel(n_jobs=-1)]: Done  17 tasks      | elapsed:    0.1s\n",
      "[Parallel(n_jobs=-1)]: Done 432 tasks      | elapsed:    2.1s\n",
      "[Parallel(n_jobs=-1)]: Done 1127 out of 1127 | elapsed:    5.4s finished\n",
      "\n",
      "[2023-02-26 07:15:06] Features: 1126/1118 -- score: 0.8783475783475783[Parallel(n_jobs=-1)]: Using backend LokyBackend with 12 concurrent workers.\n",
      "[Parallel(n_jobs=-1)]: Done  17 tasks      | elapsed:    0.2s\n",
      "[Parallel(n_jobs=-1)]: Done 432 tasks      | elapsed:    2.3s\n",
      "[Parallel(n_jobs=-1)]: Done 1126 out of 1126 | elapsed:    5.7s finished\n",
      "\n",
      "[2023-02-26 07:15:11] Features: 1125/1118 -- score: 0.8783475783475783[Parallel(n_jobs=-1)]: Using backend LokyBackend with 12 concurrent workers.\n",
      "[Parallel(n_jobs=-1)]: Done  17 tasks      | elapsed:    0.1s\n",
      "[Parallel(n_jobs=-1)]: Done 432 tasks      | elapsed:    2.3s\n",
      "[Parallel(n_jobs=-1)]: Done 1125 out of 1125 | elapsed:    5.9s finished\n",
      "\n",
      "[2023-02-26 07:15:18] Features: 1124/1118 -- score: 0.8783475783475783[Parallel(n_jobs=-1)]: Using backend LokyBackend with 12 concurrent workers.\n",
      "[Parallel(n_jobs=-1)]: Done  17 tasks      | elapsed:    0.1s\n",
      "[Parallel(n_jobs=-1)]: Done 432 tasks      | elapsed:    2.3s\n",
      "[Parallel(n_jobs=-1)]: Done 1124 out of 1124 | elapsed:    5.8s finished\n",
      "\n",
      "[2023-02-26 07:15:23] Features: 1123/1118 -- score: 0.8783475783475783[Parallel(n_jobs=-1)]: Using backend LokyBackend with 12 concurrent workers.\n",
      "[Parallel(n_jobs=-1)]: Done  17 tasks      | elapsed:    0.1s\n",
      "[Parallel(n_jobs=-1)]: Done 432 tasks      | elapsed:    2.4s\n",
      "[Parallel(n_jobs=-1)]: Done 1123 out of 1123 | elapsed:    6.2s finished\n",
      "\n",
      "[2023-02-26 07:15:30] Features: 1122/1118 -- score: 0.8783475783475783[Parallel(n_jobs=-1)]: Using backend LokyBackend with 12 concurrent workers.\n",
      "[Parallel(n_jobs=-1)]: Done  17 tasks      | elapsed:    0.1s\n",
      "[Parallel(n_jobs=-1)]: Done 432 tasks      | elapsed:    2.3s\n",
      "[Parallel(n_jobs=-1)]: Done 1122 out of 1122 | elapsed:    5.7s finished\n",
      "\n",
      "[2023-02-26 07:15:36] Features: 1121/1118 -- score: 0.8783475783475783[Parallel(n_jobs=-1)]: Using backend LokyBackend with 12 concurrent workers.\n",
      "[Parallel(n_jobs=-1)]: Done  17 tasks      | elapsed:    0.1s\n",
      "[Parallel(n_jobs=-1)]: Done 432 tasks      | elapsed:    2.4s\n",
      "[Parallel(n_jobs=-1)]: Done 1121 out of 1121 | elapsed:    6.0s finished\n",
      "\n",
      "[2023-02-26 07:15:42] Features: 1120/1118 -- score: 0.8783475783475783[Parallel(n_jobs=-1)]: Using backend LokyBackend with 12 concurrent workers.\n",
      "[Parallel(n_jobs=-1)]: Done  17 tasks      | elapsed:    0.1s\n",
      "[Parallel(n_jobs=-1)]: Done 432 tasks      | elapsed:    2.3s\n",
      "[Parallel(n_jobs=-1)]: Done 1120 out of 1120 | elapsed:    5.7s finished\n",
      "\n",
      "[2023-02-26 07:15:48] Features: 1119/1118 -- score: 0.8783475783475783[Parallel(n_jobs=-1)]: Using backend LokyBackend with 12 concurrent workers.\n",
      "[Parallel(n_jobs=-1)]: Done  17 tasks      | elapsed:    0.1s\n",
      "[Parallel(n_jobs=-1)]: Done 432 tasks      | elapsed:    2.3s\n",
      "[Parallel(n_jobs=-1)]: Done 1119 out of 1119 | elapsed:    5.6s finished\n",
      "\n",
      "[2023-02-26 07:15:53] Features: 1118/1118 -- score: 0.8783475783475783"
     ]
    }
   ],
   "source": [
    "sfs_PDMCI = sfs.fit(X_train_PDMCI_healthy,y_train_PDMCI_healthy)\n",
    "top20_PDMCI = sfs_PDMCI.k_feature_names_"
   ]
  },
  {
   "cell_type": "code",
   "execution_count": 71,
   "id": "d172565c",
   "metadata": {},
   "outputs": [
    {
     "data": {
      "text/plain": [
       "False"
      ]
     },
     "execution_count": 71,
     "metadata": {},
     "output_type": "execute_result"
    }
   ],
   "source": [
    "sfs_AD == sfs_PD"
   ]
  },
  {
   "cell_type": "code",
   "execution_count": 110,
   "id": "2d20a537",
   "metadata": {},
   "outputs": [
    {
     "name": "stdout",
     "output_type": "stream",
     "text": [
      "['IGHD', 'A0A0G2JRQ6', 'DAF', 'A0A2R8Y422', 'A0A0J9YY99', 'RECK', 'PCDGL', 'B2L12', 'C1QT5', 'NDST1', 'S4R460', 'VWA1', 'FGL2', 'MATN3', 'OBSL1', 'A0A087X1L8', 'PSA1', 'B3GN2', 'PAL4A', 'F174A']\n"
     ]
    }
   ],
   "source": [
    "bottom20_PDMCI = sfs_PDMCI.k_feature_names_\n",
    "bottom20_PDMCI = list(bottom20_PDMCI)\n",
    "total = list(X_train_PDMCI_healthy.columns)\n",
    "bottom20_PDMCI = list(set(total).difference(set(bottom20_PDMCI)))\n",
    "print(bottom20_PDMCI)"
   ]
  },
  {
   "cell_type": "code",
   "execution_count": 87,
   "id": "8f3ae384",
   "metadata": {},
   "outputs": [
    {
     "data": {
      "text/plain": [
       "['F13A',\n",
       " 'HV124',\n",
       " 'PLXA4',\n",
       " 'DAF',\n",
       " 'ARMD4',\n",
       " 'KCC2A',\n",
       " 'VMO1',\n",
       " 'PCDGL',\n",
       " 'PAPP2',\n",
       " 'B2L12',\n",
       " 'NDST1',\n",
       " 'FGL2',\n",
       " 'LVX54',\n",
       " 'PTPRR',\n",
       " 'PSA1',\n",
       " 'AGRB1',\n",
       " 'B3GN2',\n",
       " 'PAL4A',\n",
       " 'F174A',\n",
       " 'A0A075B7D0']"
      ]
     },
     "execution_count": 87,
     "metadata": {},
     "output_type": "execute_result"
    }
   ],
   "source": [
    "bottom20_AD"
   ]
  },
  {
   "cell_type": "code",
   "execution_count": 90,
   "id": "41cc6298",
   "metadata": {},
   "outputs": [
    {
     "data": {
      "text/plain": [
       "list"
      ]
     },
     "execution_count": 90,
     "metadata": {},
     "output_type": "execute_result"
    }
   ],
   "source": [
    "type(bottom20_AD)"
   ]
  },
  {
   "cell_type": "code",
   "execution_count": 103,
   "id": "30780ffd",
   "metadata": {
    "scrolled": true
   },
   "outputs": [],
   "source": [
    "all_bottom_20 = []\n",
    "all_bottom_20.append(bottom20_AD)\n",
    "all_bottom_20.append(bottom20_PD)\n",
    "all_bottom_20.append(bottom20_PDMCI)\n",
    "all_bottom_20 = np.array(all_bottom_20)\n",
    "all_bottom_20 = list(all_bottom_20)"
   ]
  },
  {
   "cell_type": "code",
   "execution_count": 104,
   "id": "559ebc14",
   "metadata": {
    "scrolled": true
   },
   "outputs": [
    {
     "data": {
      "text/plain": [
       "[array(['F13A', 'HV124', 'PLXA4', 'DAF', 'ARMD4', 'KCC2A', 'VMO1', 'PCDGL',\n",
       "        'PAPP2', 'B2L12', 'NDST1', 'FGL2', 'LVX54', 'PTPRR', 'PSA1',\n",
       "        'AGRB1', 'B3GN2', 'PAL4A', 'F174A', 'A0A075B7D0'], dtype='<U10'),\n",
       " array(['IGHD', 'A0A0G2JRQ6', 'DAF', 'A0A2R8Y422', 'A0A0J9YY99', 'RECK',\n",
       "        'PCDGL', 'B2L12', 'C1QT5', 'NDST1', 'S4R460', 'VWA1', 'FGL2',\n",
       "        'MATN3', 'OBSL1', 'A0A087X1L8', 'PSA1', 'B3GN2', 'PAL4A', 'F174A'],\n",
       "       dtype='<U10'),\n",
       " array(['IGHD', 'A0A0G2JRQ6', 'DAF', 'A0A2R8Y422', 'A0A0J9YY99', 'RECK',\n",
       "        'PCDGL', 'B2L12', 'C1QT5', 'NDST1', 'S4R460', 'VWA1', 'FGL2',\n",
       "        'MATN3', 'OBSL1', 'A0A087X1L8', 'PSA1', 'B3GN2', 'PAL4A', 'F174A'],\n",
       "       dtype='<U10')]"
      ]
     },
     "execution_count": 104,
     "metadata": {},
     "output_type": "execute_result"
    }
   ],
   "source": [
    "all_bottom_20"
   ]
  },
  {
   "cell_type": "markdown",
   "id": "9e87f581",
   "metadata": {},
   "source": [
    "I dont know why I'm having an issue with this array that I didn't have with the top20 lists, so I'm just going to copy paste it"
   ]
  },
  {
   "cell_type": "code",
   "execution_count": 112,
   "id": "14b70747",
   "metadata": {},
   "outputs": [],
   "source": [
    "all_bottom_20 = ['F13A', 'HV124', 'PLXA4', 'DAF', 'ARMD4', 'KCC2A', 'VMO1', 'PCDGL',\n",
    "        'PAPP2', 'B2L12', 'NDST1', 'FGL2', 'LVX54', 'PTPRR', 'PSA1',\n",
    "        'AGRB1', 'B3GN2', 'PAL4A', 'F174A', 'A0A075B7D0','IGHD', 'A0A0G2JRQ6', 'DAF', 'A0A2R8Y422', 'A0A0J9YY99', 'RECK',\n",
    "        'PCDGL', 'B2L12', 'C1QT5', 'NDST1', 'S4R460', 'VWA1', 'FGL2',\n",
    "        'MATN3', 'OBSL1', 'A0A087X1L8', 'PSA1', 'B3GN2', 'PAL4A', 'F174A','LV319', 'SRCRL', 'A0A075B7D8', 'HV108', 'DAF', 'A0A2R8Y422', 'ARMD4', 'RECK', 'A0A075B7E8', 'A0A075B7D4', 'PCDGL', 'B2L12', 'S4R460', 'FGL2', 'TREM2', 'VWC2', 'PSA1', 'S4R3C0', 'B3GN2', 'F174A']"
   ]
  },
  {
   "cell_type": "code",
   "execution_count": 115,
   "id": "ab51f121",
   "metadata": {},
   "outputs": [
    {
     "name": "stdout",
     "output_type": "stream",
     "text": [
      "['A0A075B7D0', 'A0A075B7D4', 'A0A075B7D8', 'A0A075B7E8', 'A0A087X1L8', 'A0A0G2JRQ6', 'A0A0J9YY99', 'A0A2R8Y422', 'AGRB1', 'ARMD4', 'B2L12', 'B3GN2', 'C1QT5', 'DAF', 'F13A', 'F174A', 'FGL2', 'HV108', 'HV124', 'IGHD', 'KCC2A', 'LV319', 'LVX54', 'MATN3', 'NDST1', 'OBSL1', 'PAL4A', 'PAPP2', 'PCDGL', 'PLXA4', 'PSA1', 'PTPRR', 'RECK', 'S4R3C0', 'S4R460', 'SRCRL', 'TREM2', 'VMO1', 'VWA1', 'VWC2']\n"
     ]
    },
    {
     "data": {
      "text/plain": [
       "40"
      ]
     },
     "execution_count": 115,
     "metadata": {},
     "output_type": "execute_result"
    }
   ],
   "source": [
    "all_bottom_20 = list(np.unique(all_bottom_20))\n",
    "print(all_bottom_20)\n",
    "len(all_bottom_20)"
   ]
  },
  {
   "cell_type": "code",
   "execution_count": null,
   "id": "d55f06b4",
   "metadata": {},
   "outputs": [],
   "source": []
  }
 ],
 "metadata": {
  "kernelspec": {
   "display_name": "Python 3 (ipykernel)",
   "language": "python",
   "name": "python3"
  },
  "language_info": {
   "codemirror_mode": {
    "name": "ipython",
    "version": 3
   },
   "file_extension": ".py",
   "mimetype": "text/x-python",
   "name": "python",
   "nbconvert_exporter": "python",
   "pygments_lexer": "ipython3",
   "version": "3.10.8"
  }
 },
 "nbformat": 4,
 "nbformat_minor": 5
}
