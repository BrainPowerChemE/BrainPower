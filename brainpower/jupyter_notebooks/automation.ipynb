{
 "cells": [
  {
   "cell_type": "code",
   "execution_count": 1,
   "id": "8700f614",
   "metadata": {},
   "outputs": [],
   "source": [
    "import pandas as pd\n",
    "import numpy as np\n",
    "import matplotlib.pyplot as plt\n",
    "import time\n",
    "import scipy\n",
    "import statistics\n",
    "\n",
    "import sklearn.linear_model\n",
    "import sklearn.metrics\n",
    "import sklearn.naive_bayes\n",
    "import sklearn.preprocessing\n",
    "import xgboost\n",
    "\n",
    "import imblearn\n",
    "import mrmr\n",
    "from sklearn.model_selection import cross_val_score\n",
    "\n",
    "def handle_scale_and_nan(df):\n",
    "    features = list(df.select_dtypes(include='float64'))\n",
    "    cat = list(df.select_dtypes(include='object'))\n",
    "    scaler = sklearn.preprocessing.StandardScaler().fit(df[features])\n",
    "    df_cont = pd.DataFrame(data=scaler.transform(df[features]), columns=features)\n",
    "    df_cat = pd.DataFrame(data=df[cat], columns=cat)\n",
    "    df = pd.concat([df_cat,df_cont],axis=1)\n",
    "    df = df.fillna(value=0.01)\n",
    "    \n",
    "    return df\n",
    "\n",
    "def split_cats_by_tolerance(\n",
    "    frame,\n",
    "    tolerance,\n",
    "    silent=False,\n",
    "    randomstate=None,\n",
    "    split=0.15,\n",
    "    step=1,\n",
    "    target=\"group\",\n",
    "    categories=[\"Healthy\", \"AD_MCI\", \"PD\", \"PD_MCI_LBD\"],\n",
    "):\n",
    "    tolerable_list = []\n",
    "    if randomstate == None:\n",
    "        randomstate = np.random.randint(0, 2**31)\n",
    "    elif type(randomstate) == int:\n",
    "        pass\n",
    "    while sum(tolerable_list) != 4:\n",
    "        df_dev, df_test = sklearn.model_selection.train_test_split(\n",
    "            frame, test_size=split, random_state=randomstate\n",
    "        )\n",
    "\n",
    "        dev_dict = dict(df_dev[target].value_counts())\n",
    "        test_dict = dict(df_test[target].value_counts())\n",
    "\n",
    "        tolerable_list = []\n",
    "        stats_dict = {}\n",
    "        for i in range(0, len(categories)):\n",
    "            try:\n",
    "                percents = [\n",
    "                    (dev_dict[categories[i]] / len(df_dev)),\n",
    "                    (test_dict[categories[i]] / len(df_test)),\n",
    "                ]\n",
    "            except:\n",
    "                break\n",
    "            standdev = np.std(percents)\n",
    "            if standdev <= tolerance:\n",
    "                tolerable_list.append(1)\n",
    "                stats_dict[str(categories[i])] = [[*percents], standdev]\n",
    "            else:\n",
    "                tolerable_list.append(0)\n",
    "\n",
    "        randomstate += step\n",
    "\n",
    "    if sum(tolerable_list) == 4:\n",
    "        if silent == False:\n",
    "            print(dev_dict)\n",
    "            print(test_dict)\n",
    "            print(\"Randstate:\", randomstate - 1)\n",
    "            for i in range(0, len(categories)):\n",
    "                print(\n",
    "                    \"\\nPercent\",\n",
    "                    categories[i],\n",
    "                    \"in dev, test:\",\n",
    "                    stats_dict[categories[i]][0],\n",
    "                    \"\\nStandard deviation of these values:\",\n",
    "                    stats_dict[categories[i]][1],\n",
    "                    \"\\n\",\n",
    "                )\n",
    "        elif silent == True:\n",
    "            pass\n",
    "\n",
    "    return df_dev, df_test\n",
    "\n",
    "def over_under(df_train,cat_in_excess='Healthy',target='group',randomstate=np.random.randint(0,4294967295)):\n",
    "    \"\"\"\n",
    "    Takes dataframe(s) with only the target value and float64 features\n",
    "    This function is to balance the samples in an imbalanced training dataset that has one category in excess, with additional categories more near each other\n",
    "    The categories below the category in excess will be oversampled to equality, then the category in excess will be undersampled to equality\n",
    "    ---Parameters---\n",
    "    df_train: the training dataframe\n",
    "    cat_in_excess: the category which is present in excess, far above the other categories\n",
    "    target: target column in the dataframe\n",
    "    randomstate: if chosen, this will the random state for the sampling. Default: None, numpy random integer method between 0 and 4294967295, the range of the sampling module used\n",
    "    randomstate_sampler: the number of loops to run to compare random states starting from \n",
    "    \"\"\"\n",
    "    # Drop the excessive category and oversample minority to the intermediate category\n",
    "    df_train_no_excess = df_train[df_train.group != cat_in_excess]\n",
    "    over_sampler = imblearn.over_sampling.RandomOverSampler(random_state=randomstate)\n",
    "    X_train = df_train_no_excess.drop(columns=target)\n",
    "    y_train = df_train_no_excess[target]\n",
    "    X_train_over, y_train_over = over_sampler.fit_resample(X_train,y_train)\n",
    "    df_train_over = pd.concat([y_train_over,X_train_over],axis=1)\n",
    "\n",
    "    # Re-introduce the excessive category and undersample the majority to the minority\n",
    "    df_train_excess = pd.concat([df_train_over,df_train[df_train[target] == cat_in_excess]])\n",
    "    under_sampler = imblearn.under_sampling.RandomUnderSampler(random_state=randomstate)\n",
    "    X_train = df_train_excess.drop(columns=target)\n",
    "    y_train = df_train_excess[target]\n",
    "    X_train_under, y_train_under = under_sampler.fit_resample(X_train,y_train)\n",
    "    df_train_eq = pd.concat([y_train_under,X_train_under],axis=1)\n",
    "    \n",
    "    return df_train_eq\n",
    "\n",
    "def select_features(data_dev, n):\n",
    "    X_dev = data_dev.iloc[:, 1:-1]\n",
    "    y_dev = data_dev.iloc[:, 0]\n",
    "    \n",
    "    from sklearn.datasets import make_classification\n",
    "    X, y = make_classification(n_samples = 100, n_features = 20, n_informative = 2, n_redundant = 2)\n",
    "    X = pd.DataFrame(X_dev)\n",
    "    y = pd.Series(y_dev)\n",
    "    \n",
    "    from mrmr import mrmr_classif\n",
    "    selected_features = mrmr_classif(X=X, y=y, K=n)\n",
    "    print(selected_features)\n",
    "    \n",
    "    import json\n",
    "    aList = selected_features\n",
    "    jsonStr = json.dumps(aList)\n",
    "    \n",
    "    jsonFile = open(\"mRMR_\"+ str(n)+ \"_features.json\", \"w\")\n",
    "    jsonFile.write(jsonStr)\n",
    "    jsonFile.close()\n",
    "    \n",
    "    return selected_features\n",
    "\n",
    "def filter_dataframe(data, selected_features):\n",
    "    cols_to_keep = ['group'] + selected_features\n",
    "    data = data.filter(items=cols_to_keep)\n",
    "    \n",
    "    return data"
   ]
  },
  {
   "cell_type": "code",
   "execution_count": 2,
   "id": "9e83f3fa",
   "metadata": {},
   "outputs": [],
   "source": [
    "data_full = pd.read_csv('/Users/katherine/Desktop/BrainPower/brainpower/data/split_data/full_data_short.csv')"
   ]
  },
  {
   "cell_type": "code",
   "execution_count": 3,
   "id": "342137e0",
   "metadata": {},
   "outputs": [],
   "source": [
    "data_full = data_full.drop(columns='assay_ID')"
   ]
  },
  {
   "cell_type": "code",
   "execution_count": 4,
   "id": "0abb17d1",
   "metadata": {},
   "outputs": [],
   "source": [
    "df = handle_scale_and_nan(data_full)"
   ]
  },
  {
   "cell_type": "code",
   "execution_count": 5,
   "id": "0d5a09df",
   "metadata": {
    "scrolled": false
   },
   "outputs": [
    {
     "name": "stdout",
     "output_type": "stream",
     "text": [
      "{'Healthy': 132, 'AD_MCI': 43, 'PD_MCI_LBD': 32, 'PD': 31}\n",
      "{'Healthy': 24, 'AD_MCI': 8, 'PD_MCI_LBD': 5, 'PD': 5}\n",
      "Randstate: 98281\n",
      "\n",
      "Percent Healthy in dev, test: [0.5546218487394958, 0.5714285714285714] \n",
      "Standard deviation of these values: 0.008403361344537785 \n",
      "\n",
      "\n",
      "Percent AD_MCI in dev, test: [0.18067226890756302, 0.19047619047619047] \n",
      "Standard deviation of these values: 0.004901960784313722 \n",
      "\n",
      "\n",
      "Percent PD in dev, test: [0.13025210084033614, 0.11904761904761904] \n",
      "Standard deviation of these values: 0.005602240896358551 \n",
      "\n",
      "\n",
      "Percent PD_MCI_LBD in dev, test: [0.13445378151260504, 0.11904761904761904] \n",
      "Standard deviation of these values: 0.007703081232492998 \n",
      "\n"
     ]
    }
   ],
   "source": [
    "data_dev, data_test = split_cats_by_tolerance(df,0.01,randomstate=98281)"
   ]
  },
  {
   "cell_type": "code",
   "execution_count": 6,
   "id": "a10d5941",
   "metadata": {
    "scrolled": true
   },
   "outputs": [],
   "source": [
    "data_dev = over_under(data_dev,cat_in_excess='Healthy',target='group',randomstate=np.random.randint(0,4294967295))"
   ]
  },
  {
   "cell_type": "code",
   "execution_count": 7,
   "id": "07494844",
   "metadata": {
    "scrolled": true
   },
   "outputs": [
    {
     "name": "stderr",
     "output_type": "stream",
     "text": [
      "100%|███████████████████████████████████████████| 15/15 [00:00<00:00, 19.32it/s]"
     ]
    },
    {
     "name": "stdout",
     "output_type": "stream",
     "text": [
      "['1433Z', 'CO7', 'LV214', 'AK1C1', 'AMY2B', 'SMS', '1433G', 'FREM2', 'CRIS2', 'CADH8', 'TAU', 'OMD', '1433B', 'PILRA', 'SPRN']\n"
     ]
    },
    {
     "name": "stderr",
     "output_type": "stream",
     "text": [
      "\n"
     ]
    }
   ],
   "source": [
    "selected_features = select_features(data_dev, 15)"
   ]
  },
  {
   "cell_type": "code",
   "execution_count": 8,
   "id": "f36448dd",
   "metadata": {},
   "outputs": [
    {
     "data": {
      "text/plain": [
       "['1433Z',\n",
       " 'CO7',\n",
       " 'LV214',\n",
       " 'AK1C1',\n",
       " 'AMY2B',\n",
       " 'SMS',\n",
       " '1433G',\n",
       " 'FREM2',\n",
       " 'CRIS2',\n",
       " 'CADH8',\n",
       " 'TAU',\n",
       " 'OMD',\n",
       " '1433B',\n",
       " 'PILRA',\n",
       " 'SPRN']"
      ]
     },
     "execution_count": 8,
     "metadata": {},
     "output_type": "execute_result"
    }
   ],
   "source": [
    "selected_features"
   ]
  },
  {
   "cell_type": "code",
   "execution_count": 9,
   "id": "71dce568",
   "metadata": {},
   "outputs": [],
   "source": [
    "dev = filter_dataframe(data_dev, selected_features)\n",
    "val = filter_dataframe(data_test, selected_features)"
   ]
  },
  {
   "cell_type": "code",
   "execution_count": 17,
   "id": "26676985",
   "metadata": {},
   "outputs": [],
   "source": [
    "def apply_ml_model_PD(dev, classifier):\n",
    "    \"\"\"\n",
    "    finds the R2 score for different ML models\n",
    "    \"\"\"\n",
    "    folds = sklearn.model_selection.LeaveOneOut().split(dev)\n",
    "\n",
    "    fold_scores = []\n",
    "    for train_indexes, val_indexes in folds: # the KFold splitter returns the indexes of the data, not the data itself\n",
    "\n",
    "        scaler = sklearn.preprocessing.StandardScaler() # normalizing the numerical features\n",
    "        train_X = data_dev.iloc[:,1:]\n",
    "        val_X = data_test.iloc[:,1:]\n",
    "        \n",
    "        train_y = data_dev['group'].values.reshape(-1,1)\n",
    "        val_y= data_test['group'].values.reshape(-1,1)\n",
    "        \n",
    "        if classifier == \"random_forest\": \n",
    "            model = sklearn.ensemble.RandomForestClassifier()\n",
    "        elif classifier == \"naive_bayes\":  \n",
    "            model = sklearn.naive_bayes.GaussianNB()\n",
    "        elif classifier == \"decision_tree\": \n",
    "            model = sklearn.tree.DecisionTreeClassifier()\n",
    "        else: \n",
    "            print(\"wrong classifier named entered\")\n",
    "            \n",
    "        model.fit(train_X, train_y)\n",
    "        fold_scores.append(\n",
    "            sklearn.metrics.balanced_accuracy_score(val_y, model.predict(val_X)))\n",
    "    return print(f\"Leave-one-out cross validated balanced accuracy scores for {classifier} model (mean, std): ({np.mean(fold_scores)}, {np.std(fold_scores)})\")"
   ]
  },
  {
   "cell_type": "code",
   "execution_count": 18,
   "id": "a8a2f3db",
   "metadata": {},
   "outputs": [
    {
     "name": "stdout",
     "output_type": "stream",
     "text": [
      "Leave-one-out cross validated balanced accuracy scores for random_forest model (mean, std): (0.5042756782945736, 0.053220276954013344)\n"
     ]
    }
   ],
   "source": [
    "apply_ml_model_PD(dev, classifier = 'random_forest')"
   ]
  }
 ],
 "metadata": {
  "kernelspec": {
   "display_name": "Python 3 (ipykernel)",
   "language": "python",
   "name": "python3"
  },
  "language_info": {
   "codemirror_mode": {
    "name": "ipython",
    "version": 3
   },
   "file_extension": ".py",
   "mimetype": "text/x-python",
   "name": "python",
   "nbconvert_exporter": "python",
   "pygments_lexer": "ipython3",
   "version": "3.10.8"
  }
 },
 "nbformat": 4,
 "nbformat_minor": 5
}
