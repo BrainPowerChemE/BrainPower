{
 "cells": [
  {
   "cell_type": "code",
   "execution_count": 1,
   "id": "819ca97f",
   "metadata": {},
   "outputs": [],
   "source": [
    "import pandas as pd\n",
    "import numpy as np\n",
    "import sys\n",
    "sys.path.append('/home/jwerner/BrainPower/brainpower/submodule/')\n",
    "import bp_preprocessing\n",
    "import sklearn\n",
    "import mrmr\n",
    "import ast\n"
   ]
  },
  {
   "cell_type": "code",
   "execution_count": 2,
   "id": "51fdf1d8",
   "metadata": {},
   "outputs": [],
   "source": [
    "import unittest"
   ]
  },
  {
   "cell_type": "code",
   "execution_count": 4,
   "id": "f287b144",
   "metadata": {},
   "outputs": [
    {
     "name": "stdout",
     "output_type": "stream",
     "text": [
      "Preping dataframe and results to test against\n"
     ]
    },
    {
     "name": "stderr",
     "output_type": "stream",
     "text": [
      "100%|█████████████████████████████████████████████████████████████████████████████████████| 3/3 [00:00<00:00, 50.30it/s]\n",
      "100%|█████████████████████████████████████████████████████████████████████████████████████| 3/3 [00:00<00:00, 73.26it/s]\n",
      "100%|█████████████████████████████████████████████████████████████████████████████████████| 3/3 [00:00<00:00, 69.94it/s]\n",
      "E\n",
      "======================================================================\n",
      "ERROR: test_encoding (__main__.TestMrmrFeatureSelector)\n",
      "----------------------------------------------------------------------\n",
      "TypeError: TestMrmrFeatureSelector.test_encoding() missing 1 required positional argument: 'df_stats'\n",
      "\n",
      "----------------------------------------------------------------------\n",
      "Ran 1 test in 0.002s\n",
      "\n",
      "FAILED (errors=1)\n"
     ]
    },
    {
     "name": "stdout",
     "output_type": "stream",
     "text": [
      "Time elapsed: 0.3939981460571289\n"
     ]
    }
   ],
   "source": [
    "class TestMrmrFeatureSelector(unittest.TestCase):\n",
    "    print('Preping dataframe and results to test against')\n",
    "    # Create the categorical data\n",
    "    group = np.repeat(['Healthy', 'AD_MCI', 'PD', 'PD_MCI_LBD'], [156, 51, 37, 36])\n",
    "    # Create the quantitative data\n",
    "    data = np.random.uniform(-2, 2, size=(len(group), 20))\n",
    "    columns = ['x' + str(i+1) for i in range(20)]\n",
    "    # Combine the data into a DataFrame\n",
    "    df = pd.DataFrame(data, columns=columns)\n",
    "    df.insert(0, 'group', group)\n",
    "    # View the DataFrame\n",
    "    df['group'].value_counts()\n",
    "    try:\n",
    "        df_stats = bp_preprocessing.mrmr_feature_selection(df,split=0.15,min_features=3,max_features=3,step_features=1,folds=3)\n",
    "    except:\n",
    "        print('Exception in prep')\n",
    "    \n",
    "    def test_encoding(self):\n",
    "        assert (type(df_stats['group'].iloc[0]) is np.int64) == True, 'Encoder did not result in integer group names'\n",
    "        \n",
    "suite = unittest.TestLoader().loadTestsFromTestCase(TestMrmrFeatureSelector)\n",
    "_ = unittest.TextTestRunner().run(suite)"
   ]
  },
  {
   "cell_type": "code",
   "execution_count": null,
   "id": "496c58a1",
   "metadata": {},
   "outputs": [],
   "source": []
  }
 ],
 "metadata": {
  "kernelspec": {
   "display_name": "Python 3 (ipykernel)",
   "language": "python",
   "name": "python3"
  },
  "language_info": {
   "codemirror_mode": {
    "name": "ipython",
    "version": 3
   },
   "file_extension": ".py",
   "mimetype": "text/x-python",
   "name": "python",
   "nbconvert_exporter": "python",
   "pygments_lexer": "ipython3",
   "version": "3.10.8"
  }
 },
 "nbformat": 4,
 "nbformat_minor": 5
}
