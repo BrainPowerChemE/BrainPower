{
 "cells": [
  {
   "cell_type": "code",
   "execution_count": 1,
   "id": "667af6e8",
   "metadata": {},
   "outputs": [],
   "source": [
    "import pandas as pd\n",
    "import numpy as np\n",
    "import sys\n",
    "sys.path.append('/home/jwerner/BrainPower/brainpower/submodule/')\n",
    "import bp_preprocessing"
   ]
  },
  {
   "cell_type": "markdown",
   "id": "d3981ba8",
   "metadata": {},
   "source": [
    "#### Import the full data as a pandas dataframe, then handle the scale and NaN values as well as drop any columns which are not either the target or features"
   ]
  },
  {
   "cell_type": "code",
   "execution_count": 4,
   "id": "46432a75",
   "metadata": {},
   "outputs": [],
   "source": [
    "data_full = pd.read_csv('/home/jwerner/BrainPower/brainpower/data/unsplit_data/full_data_short.csv')"
   ]
  },
  {
   "cell_type": "code",
   "execution_count": 5,
   "id": "821ef31a",
   "metadata": {},
   "outputs": [],
   "source": [
    "data_full = bp_preprocessing.handle_scale_and_nan(data_full,nandecision='drop',scale='Standard')\n",
    "data_full = data_full.drop(columns='assay_ID')"
   ]
  },
  {
   "cell_type": "markdown",
   "id": "5eb467d7",
   "metadata": {},
   "source": [
    "#### Since this is a small dataset, use split_cats_by_tolerance to ensure that the dev and test data have equal ratios of categories"
   ]
  },
  {
   "cell_type": "code",
   "execution_count": 6,
   "id": "71e338ee",
   "metadata": {},
   "outputs": [
    {
     "name": "stdout",
     "output_type": "stream",
     "text": [
      "{'Healthy': 132, 'AD_MCI': 43, 'PD_MCI_LBD': 32, 'PD': 31}\n",
      "{'Healthy': 24, 'AD_MCI': 8, 'PD_MCI_LBD': 5, 'PD': 5}\n",
      "Randstate: 98281\n",
      "\n",
      "Percent Healthy in dev, test: [0.5546218487394958, 0.5714285714285714] \n",
      "Standard deviation of these values: 0.008403361344537785 \n",
      "\n",
      "\n",
      "Percent AD_MCI in dev, test: [0.18067226890756302, 0.19047619047619047] \n",
      "Standard deviation of these values: 0.004901960784313722 \n",
      "\n",
      "\n",
      "Percent PD in dev, test: [0.13025210084033614, 0.11904761904761904] \n",
      "Standard deviation of these values: 0.005602240896358551 \n",
      "\n",
      "\n",
      "Percent PD_MCI_LBD in dev, test: [0.13445378151260504, 0.11904761904761904] \n",
      "Standard deviation of these values: 0.007703081232492998 \n",
      "\n"
     ]
    }
   ],
   "source": [
    "data_dev, data_test = bp_preprocessing.split_cats_by_tolerance(data_full,tolerance=0.01,randomstate=98281)"
   ]
  },
  {
   "cell_type": "markdown",
   "id": "f6e5705b",
   "metadata": {},
   "source": [
    "#### Separate train and val from the dev data using the same function"
   ]
  },
  {
   "cell_type": "code",
   "execution_count": 7,
   "id": "b419ea3b",
   "metadata": {},
   "outputs": [
    {
     "name": "stdout",
     "output_type": "stream",
     "text": [
      "{'Healthy': 112, 'AD_MCI': 37, 'PD_MCI_LBD': 27, 'PD': 26}\n",
      "{'Healthy': 20, 'AD_MCI': 6, 'PD_MCI_LBD': 5, 'PD': 5}\n",
      "Randstate: 996455695\n",
      "\n",
      "Percent Healthy in dev, test: [0.5544554455445545, 0.5555555555555556] \n",
      "Standard deviation of these values: 0.0005500550055005382 \n",
      "\n",
      "\n",
      "Percent AD_MCI in dev, test: [0.18316831683168316, 0.16666666666666666] \n",
      "Standard deviation of these values: 0.008250825082508254 \n",
      "\n",
      "\n",
      "Percent PD in dev, test: [0.12871287128712872, 0.1388888888888889] \n",
      "Standard deviation of these values: 0.0050880088008800894 \n",
      "\n",
      "\n",
      "Percent PD_MCI_LBD in dev, test: [0.13366336633663367, 0.1388888888888889] \n",
      "Standard deviation of these values: 0.002612761276127612 \n",
      "\n"
     ]
    }
   ],
   "source": [
    "data_train, data_val = bp_preprocessing.split_cats_by_tolerance(data_dev,tolerance=0.01)"
   ]
  },
  {
   "cell_type": "markdown",
   "id": "56112de7",
   "metadata": {},
   "source": [
    "#### Since this data is imbalanced, with one category in vast excess, balance the training data with over_under"
   ]
  },
  {
   "cell_type": "code",
   "execution_count": 8,
   "id": "fe279e33",
   "metadata": {},
   "outputs": [],
   "source": [
    "data_traineq = bp_preprocessing.over_under(data_train,cat_in_excess='Healthy',target='group',silent=True)"
   ]
  },
  {
   "cell_type": "markdown",
   "id": "5ec27d7a",
   "metadata": {},
   "source": [
    "#### Now you're ready to train a ML model. Here we are using the sklearn ridge classifier"
   ]
  },
  {
   "cell_type": "code",
   "execution_count": 9,
   "id": "5b181ce4",
   "metadata": {},
   "outputs": [],
   "source": [
    "X_train = data_traineq.drop(columns='group')\n",
    "y_train = data_traineq['group']\n",
    "X_val = data_val.drop(columns='group')\n",
    "y_val = data_val['group']"
   ]
  },
  {
   "cell_type": "code",
   "execution_count": 10,
   "id": "36ef8846",
   "metadata": {},
   "outputs": [],
   "source": [
    "import sklearn"
   ]
  },
  {
   "cell_type": "code",
   "execution_count": 11,
   "id": "b50638bb",
   "metadata": {},
   "outputs": [
    {
     "data": {
      "text/html": [
       "<style>#sk-container-id-1 {color: black;background-color: white;}#sk-container-id-1 pre{padding: 0;}#sk-container-id-1 div.sk-toggleable {background-color: white;}#sk-container-id-1 label.sk-toggleable__label {cursor: pointer;display: block;width: 100%;margin-bottom: 0;padding: 0.3em;box-sizing: border-box;text-align: center;}#sk-container-id-1 label.sk-toggleable__label-arrow:before {content: \"▸\";float: left;margin-right: 0.25em;color: #696969;}#sk-container-id-1 label.sk-toggleable__label-arrow:hover:before {color: black;}#sk-container-id-1 div.sk-estimator:hover label.sk-toggleable__label-arrow:before {color: black;}#sk-container-id-1 div.sk-toggleable__content {max-height: 0;max-width: 0;overflow: hidden;text-align: left;background-color: #f0f8ff;}#sk-container-id-1 div.sk-toggleable__content pre {margin: 0.2em;color: black;border-radius: 0.25em;background-color: #f0f8ff;}#sk-container-id-1 input.sk-toggleable__control:checked~div.sk-toggleable__content {max-height: 200px;max-width: 100%;overflow: auto;}#sk-container-id-1 input.sk-toggleable__control:checked~label.sk-toggleable__label-arrow:before {content: \"▾\";}#sk-container-id-1 div.sk-estimator input.sk-toggleable__control:checked~label.sk-toggleable__label {background-color: #d4ebff;}#sk-container-id-1 div.sk-label input.sk-toggleable__control:checked~label.sk-toggleable__label {background-color: #d4ebff;}#sk-container-id-1 input.sk-hidden--visually {border: 0;clip: rect(1px 1px 1px 1px);clip: rect(1px, 1px, 1px, 1px);height: 1px;margin: -1px;overflow: hidden;padding: 0;position: absolute;width: 1px;}#sk-container-id-1 div.sk-estimator {font-family: monospace;background-color: #f0f8ff;border: 1px dotted black;border-radius: 0.25em;box-sizing: border-box;margin-bottom: 0.5em;}#sk-container-id-1 div.sk-estimator:hover {background-color: #d4ebff;}#sk-container-id-1 div.sk-parallel-item::after {content: \"\";width: 100%;border-bottom: 1px solid gray;flex-grow: 1;}#sk-container-id-1 div.sk-label:hover label.sk-toggleable__label {background-color: #d4ebff;}#sk-container-id-1 div.sk-serial::before {content: \"\";position: absolute;border-left: 1px solid gray;box-sizing: border-box;top: 0;bottom: 0;left: 50%;z-index: 0;}#sk-container-id-1 div.sk-serial {display: flex;flex-direction: column;align-items: center;background-color: white;padding-right: 0.2em;padding-left: 0.2em;position: relative;}#sk-container-id-1 div.sk-item {position: relative;z-index: 1;}#sk-container-id-1 div.sk-parallel {display: flex;align-items: stretch;justify-content: center;background-color: white;position: relative;}#sk-container-id-1 div.sk-item::before, #sk-container-id-1 div.sk-parallel-item::before {content: \"\";position: absolute;border-left: 1px solid gray;box-sizing: border-box;top: 0;bottom: 0;left: 50%;z-index: -1;}#sk-container-id-1 div.sk-parallel-item {display: flex;flex-direction: column;z-index: 1;position: relative;background-color: white;}#sk-container-id-1 div.sk-parallel-item:first-child::after {align-self: flex-end;width: 50%;}#sk-container-id-1 div.sk-parallel-item:last-child::after {align-self: flex-start;width: 50%;}#sk-container-id-1 div.sk-parallel-item:only-child::after {width: 0;}#sk-container-id-1 div.sk-dashed-wrapped {border: 1px dashed gray;margin: 0 0.4em 0.5em 0.4em;box-sizing: border-box;padding-bottom: 0.4em;background-color: white;}#sk-container-id-1 div.sk-label label {font-family: monospace;font-weight: bold;display: inline-block;line-height: 1.2em;}#sk-container-id-1 div.sk-label-container {text-align: center;}#sk-container-id-1 div.sk-container {/* jupyter's `normalize.less` sets `[hidden] { display: none; }` but bootstrap.min.css set `[hidden] { display: none !important; }` so we also need the `!important` here to be able to override the default hidden behavior on the sphinx rendered scikit-learn.org. See: https://github.com/scikit-learn/scikit-learn/issues/21755 */display: inline-block !important;position: relative;}#sk-container-id-1 div.sk-text-repr-fallback {display: none;}</style><div id=\"sk-container-id-1\" class=\"sk-top-container\"><div class=\"sk-text-repr-fallback\"><pre>RidgeClassifier()</pre><b>In a Jupyter environment, please rerun this cell to show the HTML representation or trust the notebook. <br />On GitHub, the HTML representation is unable to render, please try loading this page with nbviewer.org.</b></div><div class=\"sk-container\" hidden><div class=\"sk-item\"><div class=\"sk-estimator sk-toggleable\"><input class=\"sk-toggleable__control sk-hidden--visually\" id=\"sk-estimator-id-1\" type=\"checkbox\" checked><label for=\"sk-estimator-id-1\" class=\"sk-toggleable__label sk-toggleable__label-arrow\">RidgeClassifier</label><div class=\"sk-toggleable__content\"><pre>RidgeClassifier()</pre></div></div></div></div></div>"
      ],
      "text/plain": [
       "RidgeClassifier()"
      ]
     },
     "execution_count": 11,
     "metadata": {},
     "output_type": "execute_result"
    }
   ],
   "source": [
    "model = sklearn.linear_model.RidgeClassifier()\n",
    "model.fit(X_train,y_train)"
   ]
  },
  {
   "cell_type": "markdown",
   "id": "2e034eaf",
   "metadata": {},
   "source": [
    "#### Because the validation data remains imbalanced, its important to use a scoring metric that takes that into account, such as sklearn balanced_accuracy_score"
   ]
  },
  {
   "cell_type": "code",
   "execution_count": 12,
   "id": "6fe74313",
   "metadata": {},
   "outputs": [
    {
     "data": {
      "text/plain": [
       "0.8166666666666667"
      ]
     },
     "execution_count": 12,
     "metadata": {},
     "output_type": "execute_result"
    }
   ],
   "source": [
    "sklearn.metrics.balanced_accuracy_score(y_val,model.predict(X_val))"
   ]
  },
  {
   "cell_type": "markdown",
   "id": "ea75731d",
   "metadata": {},
   "source": [
    "#### Once you've set your hyperparameters, you may want to train the model on the full dev set before applying it to the test set. Be sure to run over_under on the whole dev set if your data is imbalanced and you're using the whole dev set as a training set"
   ]
  },
  {
   "cell_type": "code",
   "execution_count": 13,
   "id": "47093681",
   "metadata": {},
   "outputs": [],
   "source": [
    "data_deveq = bp_preprocessing.over_under(data_dev,cat_in_excess='Healthy',target='group',silent=True)"
   ]
  },
  {
   "cell_type": "code",
   "execution_count": 14,
   "id": "ecf8fc0c",
   "metadata": {},
   "outputs": [],
   "source": [
    "X_dev = data_deveq.drop(columns='group')\n",
    "y_dev = data_deveq['group']\n",
    "X_test = data_test.drop(columns='group')\n",
    "y_test = data_test['group']"
   ]
  },
  {
   "cell_type": "code",
   "execution_count": 15,
   "id": "98a70655",
   "metadata": {},
   "outputs": [
    {
     "data": {
      "text/html": [
       "<style>#sk-container-id-2 {color: black;background-color: white;}#sk-container-id-2 pre{padding: 0;}#sk-container-id-2 div.sk-toggleable {background-color: white;}#sk-container-id-2 label.sk-toggleable__label {cursor: pointer;display: block;width: 100%;margin-bottom: 0;padding: 0.3em;box-sizing: border-box;text-align: center;}#sk-container-id-2 label.sk-toggleable__label-arrow:before {content: \"▸\";float: left;margin-right: 0.25em;color: #696969;}#sk-container-id-2 label.sk-toggleable__label-arrow:hover:before {color: black;}#sk-container-id-2 div.sk-estimator:hover label.sk-toggleable__label-arrow:before {color: black;}#sk-container-id-2 div.sk-toggleable__content {max-height: 0;max-width: 0;overflow: hidden;text-align: left;background-color: #f0f8ff;}#sk-container-id-2 div.sk-toggleable__content pre {margin: 0.2em;color: black;border-radius: 0.25em;background-color: #f0f8ff;}#sk-container-id-2 input.sk-toggleable__control:checked~div.sk-toggleable__content {max-height: 200px;max-width: 100%;overflow: auto;}#sk-container-id-2 input.sk-toggleable__control:checked~label.sk-toggleable__label-arrow:before {content: \"▾\";}#sk-container-id-2 div.sk-estimator input.sk-toggleable__control:checked~label.sk-toggleable__label {background-color: #d4ebff;}#sk-container-id-2 div.sk-label input.sk-toggleable__control:checked~label.sk-toggleable__label {background-color: #d4ebff;}#sk-container-id-2 input.sk-hidden--visually {border: 0;clip: rect(1px 1px 1px 1px);clip: rect(1px, 1px, 1px, 1px);height: 1px;margin: -1px;overflow: hidden;padding: 0;position: absolute;width: 1px;}#sk-container-id-2 div.sk-estimator {font-family: monospace;background-color: #f0f8ff;border: 1px dotted black;border-radius: 0.25em;box-sizing: border-box;margin-bottom: 0.5em;}#sk-container-id-2 div.sk-estimator:hover {background-color: #d4ebff;}#sk-container-id-2 div.sk-parallel-item::after {content: \"\";width: 100%;border-bottom: 1px solid gray;flex-grow: 1;}#sk-container-id-2 div.sk-label:hover label.sk-toggleable__label {background-color: #d4ebff;}#sk-container-id-2 div.sk-serial::before {content: \"\";position: absolute;border-left: 1px solid gray;box-sizing: border-box;top: 0;bottom: 0;left: 50%;z-index: 0;}#sk-container-id-2 div.sk-serial {display: flex;flex-direction: column;align-items: center;background-color: white;padding-right: 0.2em;padding-left: 0.2em;position: relative;}#sk-container-id-2 div.sk-item {position: relative;z-index: 1;}#sk-container-id-2 div.sk-parallel {display: flex;align-items: stretch;justify-content: center;background-color: white;position: relative;}#sk-container-id-2 div.sk-item::before, #sk-container-id-2 div.sk-parallel-item::before {content: \"\";position: absolute;border-left: 1px solid gray;box-sizing: border-box;top: 0;bottom: 0;left: 50%;z-index: -1;}#sk-container-id-2 div.sk-parallel-item {display: flex;flex-direction: column;z-index: 1;position: relative;background-color: white;}#sk-container-id-2 div.sk-parallel-item:first-child::after {align-self: flex-end;width: 50%;}#sk-container-id-2 div.sk-parallel-item:last-child::after {align-self: flex-start;width: 50%;}#sk-container-id-2 div.sk-parallel-item:only-child::after {width: 0;}#sk-container-id-2 div.sk-dashed-wrapped {border: 1px dashed gray;margin: 0 0.4em 0.5em 0.4em;box-sizing: border-box;padding-bottom: 0.4em;background-color: white;}#sk-container-id-2 div.sk-label label {font-family: monospace;font-weight: bold;display: inline-block;line-height: 1.2em;}#sk-container-id-2 div.sk-label-container {text-align: center;}#sk-container-id-2 div.sk-container {/* jupyter's `normalize.less` sets `[hidden] { display: none; }` but bootstrap.min.css set `[hidden] { display: none !important; }` so we also need the `!important` here to be able to override the default hidden behavior on the sphinx rendered scikit-learn.org. See: https://github.com/scikit-learn/scikit-learn/issues/21755 */display: inline-block !important;position: relative;}#sk-container-id-2 div.sk-text-repr-fallback {display: none;}</style><div id=\"sk-container-id-2\" class=\"sk-top-container\"><div class=\"sk-text-repr-fallback\"><pre>RidgeClassifier()</pre><b>In a Jupyter environment, please rerun this cell to show the HTML representation or trust the notebook. <br />On GitHub, the HTML representation is unable to render, please try loading this page with nbviewer.org.</b></div><div class=\"sk-container\" hidden><div class=\"sk-item\"><div class=\"sk-estimator sk-toggleable\"><input class=\"sk-toggleable__control sk-hidden--visually\" id=\"sk-estimator-id-2\" type=\"checkbox\" checked><label for=\"sk-estimator-id-2\" class=\"sk-toggleable__label sk-toggleable__label-arrow\">RidgeClassifier</label><div class=\"sk-toggleable__content\"><pre>RidgeClassifier()</pre></div></div></div></div></div>"
      ],
      "text/plain": [
       "RidgeClassifier()"
      ]
     },
     "execution_count": 15,
     "metadata": {},
     "output_type": "execute_result"
    }
   ],
   "source": [
    "model = sklearn.linear_model.RidgeClassifier()\n",
    "model.fit(X_dev,y_dev)"
   ]
  },
  {
   "cell_type": "code",
   "execution_count": 17,
   "id": "15676c97",
   "metadata": {},
   "outputs": [
    {
     "data": {
      "text/plain": [
       "0.5520833333333335"
      ]
     },
     "execution_count": 17,
     "metadata": {},
     "output_type": "execute_result"
    }
   ],
   "source": [
    "sklearn.metrics.balanced_accuracy_score(y_test,model.predict(X_test))"
   ]
  }
 ],
 "metadata": {
  "kernelspec": {
   "display_name": "Python 3 (ipykernel)",
   "language": "python",
   "name": "python3"
  },
  "language_info": {
   "codemirror_mode": {
    "name": "ipython",
    "version": 3
   },
   "file_extension": ".py",
   "mimetype": "text/x-python",
   "name": "python",
   "nbconvert_exporter": "python",
   "pygments_lexer": "ipython3",
   "version": "3.10.8"
  }
 },
 "nbformat": 4,
 "nbformat_minor": 5
}
