{
 "cells": [
  {
   "cell_type": "code",
   "execution_count": 1,
   "id": "91c3a919",
   "metadata": {},
   "outputs": [],
   "source": [
    "import pandas as pd\n",
    "import numpy as np\n",
    "import scipy.stats\n",
    "import altair as alt"
   ]
  },
  {
   "cell_type": "code",
   "execution_count": null,
   "id": "bb600178",
   "metadata": {},
   "outputs": [],
   "source": [
    "df_healthy = pd.read_csv('https://github.com/BrainPowerChemE/brainpowerdata/blob/main/raw_data/healthy_data.csv?raw=true')\n",
    "df_PD_MCI_LBD = pd.read_csv('https://github.com/BrainPowerChemE/brainpowerdata/blob/main/raw_data/PD_MCI_LBD_data.csv?raw=true')\n",
    "df_PD = pd.read_csv('https://github.com/BrainPowerChemE/brainpowerdata/blob/main/raw_data/PD_data.csv?raw=true')\n",
    "df_AD_MCI = pd.read_csv('https://github.com/BrainPowerChemE/brainpowerdata/blob/main/raw_data/AD_MCI_data.csv?raw=true')"
   ]
  },
  {
   "cell_type": "code",
   "execution_count": null,
   "id": "d88bde73",
   "metadata": {},
   "outputs": [],
   "source": []
  }
 ],
 "metadata": {
  "kernelspec": {
   "display_name": "Python 3 (ipykernel)",
   "language": "python",
   "name": "python3"
  },
  "language_info": {
   "codemirror_mode": {
    "name": "ipython",
    "version": 3
   },
   "file_extension": ".py",
   "mimetype": "text/x-python",
   "name": "python",
   "nbconvert_exporter": "python",
   "pygments_lexer": "ipython3",
   "version": "3.10.8"
  }
 },
 "nbformat": 4,
 "nbformat_minor": 5
}
