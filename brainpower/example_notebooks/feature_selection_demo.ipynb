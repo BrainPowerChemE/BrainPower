{
 "cells": [
  {
   "cell_type": "code",
   "execution_count": 1,
   "id": "435f8bdc",
   "metadata": {},
   "outputs": [],
   "source": [
    "import pandas as pd\n",
    "import numpy as np\n",
    "import sys\n",
    "sys.path.append('/home/jwerner/BrainPower/brainpower/submodule/')\n",
    "import bp_preprocessing"
   ]
  },
  {
   "cell_type": "markdown",
   "id": "5c460d5b",
   "metadata": {},
   "source": [
    "#### Import the full data as a pandas dataframe, then handle the scale and NaN values as well as drop any columns which are not either the target or features"
   ]
  },
  {
   "cell_type": "code",
   "execution_count": 2,
   "id": "5932ea6f",
   "metadata": {},
   "outputs": [],
   "source": [
    "data_full = pd.read_csv('/home/jwerner/BrainPower/brainpower/data/unsplit_data/full_data_short.csv')"
   ]
  },
  {
   "cell_type": "code",
   "execution_count": 3,
   "id": "6e0cfe4e",
   "metadata": {},
   "outputs": [],
   "source": [
    "data_full = bp_preprocessing.handle_scale_and_nan(data_full,nandecision='drop',scale='Standard')\n",
    "data_full = data_full.drop(columns='assay_ID')"
   ]
  },
  {
   "cell_type": "markdown",
   "id": "7bd6ae8a",
   "metadata": {},
   "source": [
    "#### Since this is a small dataset, use split_cats_by_tolerance to ensure that the dev and test data have equal ratios of categories"
   ]
  },
  {
   "cell_type": "code",
   "execution_count": 4,
   "id": "71a810a8",
   "metadata": {},
   "outputs": [
    {
     "name": "stdout",
     "output_type": "stream",
     "text": [
      "{'Healthy': 132, 'AD_MCI': 43, 'PD_MCI_LBD': 32, 'PD': 31}\n",
      "{'Healthy': 24, 'AD_MCI': 8, 'PD_MCI_LBD': 5, 'PD': 5}\n",
      "Randstate: 98281\n",
      "\n",
      "Percent Healthy in dev, test: [0.5546218487394958, 0.5714285714285714] \n",
      "Standard deviation of these values: 0.008403361344537785 \n",
      "\n",
      "\n",
      "Percent AD_MCI in dev, test: [0.18067226890756302, 0.19047619047619047] \n",
      "Standard deviation of these values: 0.004901960784313722 \n",
      "\n",
      "\n",
      "Percent PD in dev, test: [0.13025210084033614, 0.11904761904761904] \n",
      "Standard deviation of these values: 0.005602240896358551 \n",
      "\n",
      "\n",
      "Percent PD_MCI_LBD in dev, test: [0.13445378151260504, 0.11904761904761904] \n",
      "Standard deviation of these values: 0.007703081232492998 \n",
      "\n"
     ]
    }
   ],
   "source": [
    "data_dev, data_test = bp_preprocessing.split_cats_by_tolerance(data_full,tolerance=0.01,randomstate=98281)"
   ]
  },
  {
   "cell_type": "markdown",
   "id": "376c08fa",
   "metadata": {},
   "source": [
    "#### The feature selection function works on the full dev set and returns a dataframe with statistics and selected features. The function passed in the cell below calculates a limited amount of information so that the process does not take too long. Further down are dataframes with more extensive data gathered with the following parameters:\n",
    "\n",
    "bp_preprocessing.mrmr_feature_selection(data_dev,split=0.15,min_features=10,max_features=30,step_features=1,folds=10,ci=0.68,\n",
    "                                          balancer='over_under without replacement', tolerance=0.01, target='group',\n",
    "                                          model=sklearn.linear_model.RidgeClassifier(), score=sklearn.metrics.balanced_accuracy_score, featureselector=mrmr.mrmr_classif)"
   ]
  },
  {
   "cell_type": "code",
   "execution_count": 5,
   "id": "d373e64e",
   "metadata": {},
   "outputs": [],
   "source": [
    "import sklearn\n",
    "import mrmr"
   ]
  },
  {
   "cell_type": "code",
   "execution_count": 6,
   "id": "6c86196c",
   "metadata": {},
   "outputs": [
    {
     "name": "stderr",
     "output_type": "stream",
     "text": [
      "100%|█████████████████████████████████████████████████████████████████████████████████████| 3/3 [00:00<00:00, 16.18it/s]\n",
      "100%|█████████████████████████████████████████████████████████████████████████████████████| 3/3 [00:00<00:00, 18.94it/s]\n",
      "100%|█████████████████████████████████████████████████████████████████████████████████████| 3/3 [00:00<00:00, 18.67it/s]\n"
     ]
    },
    {
     "name": "stdout",
     "output_type": "stream",
     "text": [
      "Time elapsed: 4.363607883453369\n"
     ]
    }
   ],
   "source": [
    "rforest_stats = bp_preprocessing.mrmr_feature_selection(data_dev,split=0.15,min_features=3,max_features=3,step_features=1,folds=3,ci=0.68,\n",
    "                                          balancer='over_under without replacement', tolerance=0.01, target='group',\n",
    "                                          model=sklearn.ensemble.RandomForestClassifier(),score=sklearn.metrics.balanced_accuracy_score,featureselector=mrmr.mrmr_classif)"
   ]
  },
  {
   "cell_type": "markdown",
   "id": "0ec1ed55",
   "metadata": {},
   "source": [
    "#### The following tables were generated this way. Because these were exported to a csv, the tuples turned into strings and must be read as literals"
   ]
  },
  {
   "cell_type": "code",
   "execution_count": 7,
   "id": "2a6e01ba",
   "metadata": {},
   "outputs": [],
   "source": [
    "import ast"
   ]
  },
  {
   "cell_type": "code",
   "execution_count": 8,
   "id": "10b3a6ab",
   "metadata": {},
   "outputs": [],
   "source": [
    "sys.path.append('/home/jwerner/BrainPower/data/split_data')\n",
    "ridge_stats = pd.read_csv('/home/jwerner/BrainPower/brainpower/data/split_data/ridge_10_30_features.csv')\n",
    "ridge_stats['ind_scores'] = ridge_stats['ind_scores'].apply(ast.literal_eval)\n",
    "ridge_stats['features'] = ridge_stats['features'].apply(ast.literal_eval)\n",
    "\n",
    "rforest_stats = pd.read_csv('/home/jwerner/BrainPower/brainpower/data/split_data/rforest_10_30_features.csv')\n",
    "rforest_stats['ind_scores'] = rforest_stats['ind_scores'].apply(ast.literal_eval)\n",
    "rforest_stats['features'] = rforest_stats['features'].apply(ast.literal_eval)\n",
    "\n",
    "\n",
    "nbayes_stats = pd.read_csv('/home/jwerner/BrainPower/brainpower/data/split_data/nbayes_10_30_features.csv')\n",
    "nbayes_stats['ind_scores'] = nbayes_stats['ind_scores'].apply(ast.literal_eval)\n",
    "nbayes_stats['features'] = nbayes_stats['features'].apply(ast.literal_eval)\n",
    "\n",
    "\n",
    "dectree_stats = pd.read_csv('/home/jwerner/BrainPower/brainpower/data/split_data/dectree_10_30_features.csv')\n",
    "dectree_stats['ind_scores'] = dectree_stats['ind_scores'].apply(ast.literal_eval)\n",
    "dectree_stats['features'] = dectree_stats['features'].apply(ast.literal_eval)\n",
    "\n",
    "xgboost_stats = pd.read_csv('/home/jwerner/BrainPower/brainpower/data/split_data/xgboost_10_30_features.csv')\n",
    "xgboost_stats['ind_scores'] = xgboost_stats['ind_scores'].apply(ast.literal_eval)\n",
    "xgboost_stats['features'] = xgboost_stats['features'].apply(ast.literal_eval)"
   ]
  },
  {
   "cell_type": "markdown",
   "id": "a3b20f88",
   "metadata": {},
   "source": [
    "#### The features found in each run of the feature selector can be put into a dictionary by using get_feature_dict. The uniqueness parameter limits the features returned in the dictionary to only those with a multiplicity equal to or greater than the value passed or 'all' for only features which show up in every fold of the feature selection process.\n",
    "\n",
    "#### For example, the cell below gets the feature dictionary for the 10-fold ridge classifer generated between 10 and 30 features, with only those features in each space that appear at least 3 times. of the 200 features generated by the 10 fold process, these 19 show up at least 3 times"
   ]
  },
  {
   "cell_type": "markdown",
   "id": "ce9918c3",
   "metadata": {},
   "source": [
    "#### The altair_feature_selection_chart function will generate charts of the feature selection information and similarly has a uniqueness parameter that functions in the same way as the dictionary. Click on a point to see the features matching the uniqueness threshold for that feature space across the 10 fold selection process"
   ]
  },
  {
   "cell_type": "code",
   "execution_count": 18,
   "id": "fe32b13f",
   "metadata": {},
   "outputs": [],
   "source": [
    "ridge_chart = bp_preprocessing.altair_feature_selection_chart(ridge_stats,charttitle='Ridge Classifier',uniqueness=3)\n",
    "ridge_chart.save('ridge_chart.html','html')"
   ]
  },
  {
   "cell_type": "code",
   "execution_count": 19,
   "id": "ebd5b701",
   "metadata": {},
   "outputs": [],
   "source": [
    "rforest_chart = bp_preprocessing.altair_feature_selection_chart(rforest_stats,charttitle='Random Forest Classifier',uniqueness=3)\n",
    "rforest_chart.save('rforest_chart.html','html')"
   ]
  },
  {
   "cell_type": "code",
   "execution_count": 20,
   "id": "8290ba7e",
   "metadata": {},
   "outputs": [],
   "source": [
    "nbayes_chart = bp_preprocessing.altair_feature_selection_chart(nbayes_stats,charttitle='Naive Bayes Classifier',uniqueness=3)\n",
    "nbayes_chart.save('nbayes_chart.html','html')"
   ]
  },
  {
   "cell_type": "code",
   "execution_count": 21,
   "id": "a4da883a",
   "metadata": {},
   "outputs": [],
   "source": [
    "dectree_chart = bp_preprocessing.altair_feature_selection_chart(dectree_stats,charttitle='Decision Tree Classifier',uniqueness=3)\n",
    "dectree_chart.save('dectree_chart.html','html')"
   ]
  },
  {
   "cell_type": "code",
   "execution_count": 22,
   "id": "b77fb4b3",
   "metadata": {},
   "outputs": [],
   "source": [
    "xgboost_chart = bp_preprocessing.altair_feature_selection_chart(xgboost_stats,charttitle='XGBoost Classifier',uniqueness=3)\n",
    "xgboost_chart.save('xgboost_chart.html','html')"
   ]
  },
  {
   "cell_type": "code",
   "execution_count": null,
   "id": "67f7c3be",
   "metadata": {},
   "outputs": [],
   "source": []
  }
 ],
 "metadata": {
  "kernelspec": {
   "display_name": "Python 3 (ipykernel)",
   "language": "python",
   "name": "python3"
  },
  "language_info": {
   "codemirror_mode": {
    "name": "ipython",
    "version": 3
   },
   "file_extension": ".py",
   "mimetype": "text/x-python",
   "name": "python",
   "nbconvert_exporter": "python",
   "pygments_lexer": "ipython3",
   "version": "3.10.8"
  }
 },
 "nbformat": 4,
 "nbformat_minor": 5
}
