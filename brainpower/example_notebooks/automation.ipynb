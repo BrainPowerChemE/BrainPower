{
 "cells": [
  {
   "cell_type": "code",
   "execution_count": 1,
   "id": "8700f614",
   "metadata": {},
   "outputs": [],
   "source": [
    "import pandas as pd\n",
    "import matplotlib.pyplot as plt\n",
    "import numpy as np\n",
    "import seaborn as sns\n",
    "from statistics import stdev\n",
    "import statsmodels\n",
    "from statsmodels.sandbox.stats.multicomp import multipletests\n",
    "import imblearn\n",
    "import sys\n",
    "from numpy import mean, absolute, sqrt\n",
    "import scipy.stats\n",
    "import sklearn.linear_model\n",
    "import sklearn.neighbors\n",
    "import sklearn.preprocessing\n",
    "from xgboost import XGBClassifier\n",
    "import sklearn.ensemble\n",
    "from sklearn.model_selection import train_test_split, LeaveOneOut, cross_val_score\n",
    "from sklearn.linear_model import LinearRegression\n",
    "from scipy import stats\n",
    "from sklearn.metrics import ConfusionMatrixDisplay, roc_curve, auc\n",
    "from sklearn.preprocessing import LabelBinarizer\n",
    "from sklearn.naive_bayes import GaussianNB\n",
    "from itertools import combinations, cycle\n",
    "import time\n",
    "\n",
    "def handle_scale_and_nan(df):\n",
    "    features = list(df.select_dtypes(include='float64'))\n",
    "    cat = list(df.select_dtypes(include='object'))\n",
    "    scaler = sklearn.preprocessing.StandardScaler().fit(df[features])\n",
    "    df_cont = pd.DataFrame(data=scaler.transform(df[features]), columns=features)\n",
    "    df_cat = pd.DataFrame(data=df[cat], columns=cat)\n",
    "    df = pd.concat([df_cat,df_cont],axis=1)\n",
    "    df = df.fillna(value=10)\n",
    "    \n",
    "    return df\n",
    "\n",
    "def over_under(df_train,cat_in_excess='Healthy',target='group',randomstate=np.random.randint(0,4294967295)):\n",
    "    \"\"\"\n",
    "    Takes dataframe(s) with only the target value and float64 features\n",
    "    This function is to balance the samples in an imbalanced training dataset that has one category in excess, with additional categories more near each other\n",
    "    The categories below the category in excess will be oversampled to equality, then the category in excess will be undersampled to equality\n",
    "    ---Parameters---\n",
    "    df_train: the training dataframe\n",
    "    cat_in_excess: the category which is present in excess, far above the other categories\n",
    "    target: target column in the dataframe\n",
    "    randomstate: if chosen, this will the random state for the sampling. Default: None, numpy random integer method between 0 and 4294967295, the range of the sampling module used\n",
    "    randomstate_sampler: the number of loops to run to compare random states starting from \n",
    "    \"\"\"\n",
    "    # Drop the excessive category and oversample minority to the intermediate category\n",
    "    df_train_no_excess = df_train[df_train.group != cat_in_excess]\n",
    "    over_sampler = imblearn.over_sampling.RandomOverSampler(random_state=randomstate)\n",
    "    X_train = df_train_no_excess.drop(columns=target)\n",
    "    y_train = df_train_no_excess[target]\n",
    "    X_train_over, y_train_over = over_sampler.fit_resample(X_train,y_train)\n",
    "    df_train_over = pd.concat([y_train_over,X_train_over],axis=1)\n",
    "\n",
    "    # Re-introduce the excessive category and undersample the majority to the minority\n",
    "    df_train_excess = pd.concat([df_train_over,df_train[df_train[target] == cat_in_excess]])\n",
    "    under_sampler = imblearn.under_sampling.RandomUnderSampler(random_state=randomstate)\n",
    "    X_train = df_train_excess.drop(columns=target)\n",
    "    y_train = df_train_excess[target]\n",
    "    X_train_under, y_train_under = under_sampler.fit_resample(X_train,y_train)\n",
    "    df_train_eq = pd.concat([y_train_under,X_train_under],axis=1)\n",
    "    \n",
    "    return df_train_eq\n",
    "\n",
    "def select_features(data_dev, n):\n",
    "    X_dev = data_dev.iloc[:, 1:-1]\n",
    "    y_dev = data_dev.iloc[:, 0]\n",
    "    \n",
    "    from sklearn.datasets import make_classification\n",
    "    X, y = make_classification(n_samples = 100, n_features = 20, n_informative = 2, n_redundant = 2)\n",
    "    X = pd.DataFrame(X_dev)\n",
    "    y = pd.Series(y_dev)\n",
    "    \n",
    "    from mrmr import mrmr_classif\n",
    "    feature_list = mrmr_classif(X=X, y=y, K=n)\n",
    "    print(feature_list)\n",
    "    \n",
    "    import json\n",
    "    aList = feature_list\n",
    "    jsonStr = json.dumps(aList)\n",
    "    \n",
    "    jsonFile = open(\"mRMR_\"+ str(n)+ \"_features.json\", \"w\")\n",
    "    jsonFile.write(jsonStr)\n",
    "    jsonFile.close()\n",
    "    \n",
    "    return feature_list\n",
    "\n",
    "def apply_ml_model(dev,classifier,scoring_method='balanced_accuracy', cv=10, feature_list=None):\n",
    "    \"\"\"\n",
    "    Finds the score for different ML classifiers\n",
    "    Takes a dataframe with only target and feature columns\n",
    "    dev : the development dataframe with a single categorical target column and float64 features\n",
    "    classifier: ML classifier to test.\n",
    "        options: \"random_forest', \"naive_bayes\", \"decision_tree\"\n",
    "    scoring_method: method of scoring the classifier\n",
    "        run sklearn.metrics.get_scorer_names() to get a list of scoring methods\n",
    "    target: target categorical column\n",
    "    cv: folds to run in evaluation. takes integers or 'max': will run maximum number of folds = # of samples in categories\n",
    "    \"\"\"\n",
    "    if feature_list is None:\n",
    "        feature_list = selected_features\n",
    "        \n",
    "    # define predictor and response variables\n",
    "    X = dev[feature_list]\n",
    "    y = dev['group'].values.reshape(-1,1)\n",
    "    \n",
    "    # check that the data has equal number of categories in training data\n",
    "    counts_list = list(dev['group'].value_counts())\n",
    "    assert len(set(counts_list)) == 1, 'training data should contain equal quantities of categories. run bp_preprocessing.over_under() or other balancer'\n",
    "    \n",
    "    \n",
    "    # choose model based on user input\n",
    "    if classifier == \"random_forest\": \n",
    "        model = sklearn.ensemble.RandomForestClassifier()\n",
    "    elif classifier == \"naive_bayes\":  \n",
    "        model = sklearn.naive_bayes.GaussianNB()\n",
    "    elif classifier == \"decision_tree\": \n",
    "        model = sklearn.tree.DecisionTreeClassifier()\n",
    "    elif classifier == \"xgboost\": \n",
    "        model = XGBClassifier()\n",
    "    else: \n",
    "        print(\"wrong classifier named entered\")\n",
    "    #define cv quantity:\n",
    "    if type(cv) == int:\n",
    "        pass\n",
    "    elif cv == 'max':\n",
    "        cv = counts_list[0]\n",
    "    else:\n",
    "        raise TypeError('Enter an integer or \"max\" as a string')\n",
    "        \n",
    "    scores = cross_val_score(model, X, y, scoring=scoring_method,cv=cv)\n",
    "    mean_score = np.mean(abs(scores))\n",
    "    std = np.std(scores)\n",
    "    stats_list = [cv, scores, mean_score, std , model, scoring_method, feature_list[-2:]]\n",
    "    stats_df = pd.DataFrame(data=[stats_list], columns=['folds','scores','abs_avg_score','std','model','scoring_method', 'features'])\n",
    "    \n",
    "    return stats_df\n",
    "\n",
    "def make_confusion_mtrx(dev, df_test, feature_list=None):\n",
    "    if feature_list is None:\n",
    "        feature_list = selected_features\n",
    "        \n",
    "    test_X = df_test[feature_list]\n",
    "    test_y = df_test['group']\n",
    "\n",
    "    dev_X = dev[feature_list]\n",
    "    dev_y = dev.iloc[:,0] # 0th column is our target\n",
    "\n",
    "    model = sklearn.ensemble.RandomForestClassifier()\n",
    "    model.fit(dev_X, dev_y) \n",
    "    print('score=', sklearn.metrics.balanced_accuracy_score(test_y, model.predict(test_X)))\n",
    "    ConfusionMatrixDisplay.from_estimator(model, test_X, test_y)\n",
    "    plt.show()"
   ]
  },
  {
   "cell_type": "code",
   "execution_count": 2,
   "id": "f9f719a3",
   "metadata": {},
   "outputs": [],
   "source": [
    "dev = pd.read_csv('/Users/katherine/Desktop/data_with_biomarkers.csv',\n",
    "                       sep='\\t')"
   ]
  },
  {
   "cell_type": "code",
   "execution_count": 3,
   "id": "0abb17d1",
   "metadata": {},
   "outputs": [],
   "source": [
    "dev = handle_scale_and_nan(dev)"
   ]
  },
  {
   "cell_type": "code",
   "execution_count": 4,
   "id": "c3f46b7f",
   "metadata": {},
   "outputs": [],
   "source": [
    "train, test = train_test_split(dev, test_size=0.15, random_state=42)"
   ]
  },
  {
   "cell_type": "code",
   "execution_count": 5,
   "id": "a10d5941",
   "metadata": {
    "scrolled": true
   },
   "outputs": [],
   "source": [
    "train = over_under(train,cat_in_excess='Healthy',target='group',randomstate=np.random.randint(0,4294967295))"
   ]
  },
  {
   "cell_type": "code",
   "execution_count": 6,
   "id": "07494844",
   "metadata": {
    "scrolled": true
   },
   "outputs": [
    {
     "name": "stderr",
     "output_type": "stream",
     "text": [
      "100%|███████████████████████████████████████████| 18/18 [00:01<00:00, 15.17it/s]"
     ]
    },
    {
     "name": "stdout",
     "output_type": "stream",
     "text": [
      "['EMIL3', 'PCDGK', 'S38AA', 'LY86', '1433Z', 'PGM1', 'TAU', 'KCC2D', 'GLT18', '1433G', 'AMPN', 'ITM2B', 'NEUG', 'AB42/AB40', 'SERC', 'COLA1', 'AK1C1', 'DSG2']\n"
     ]
    },
    {
     "name": "stderr",
     "output_type": "stream",
     "text": [
      "\n"
     ]
    }
   ],
   "source": [
    "feature_list = select_features(dev, 18)"
   ]
  },
  {
   "cell_type": "code",
   "execution_count": 7,
   "id": "cfee7735",
   "metadata": {},
   "outputs": [
    {
     "data": {
      "text/html": [
       "<div>\n",
       "<style scoped>\n",
       "    .dataframe tbody tr th:only-of-type {\n",
       "        vertical-align: middle;\n",
       "    }\n",
       "\n",
       "    .dataframe tbody tr th {\n",
       "        vertical-align: top;\n",
       "    }\n",
       "\n",
       "    .dataframe thead th {\n",
       "        text-align: right;\n",
       "    }\n",
       "</style>\n",
       "<table border=\"1\" class=\"dataframe\">\n",
       "  <thead>\n",
       "    <tr style=\"text-align: right;\">\n",
       "      <th></th>\n",
       "      <th>folds</th>\n",
       "      <th>scores</th>\n",
       "      <th>abs_avg_score</th>\n",
       "      <th>std</th>\n",
       "      <th>model</th>\n",
       "      <th>scoring_method</th>\n",
       "      <th>features</th>\n",
       "    </tr>\n",
       "  </thead>\n",
       "  <tbody>\n",
       "    <tr>\n",
       "      <th>0</th>\n",
       "      <td>10</td>\n",
       "      <td>[0.8374999999999999, 0.6125, 0.8375, 0.8875, 0...</td>\n",
       "      <td>0.81375</td>\n",
       "      <td>0.104799</td>\n",
       "      <td>RandomForestClassifier()</td>\n",
       "      <td>balanced_accuracy</td>\n",
       "      <td>[AK1C1, DSG2]</td>\n",
       "    </tr>\n",
       "  </tbody>\n",
       "</table>\n",
       "</div>"
      ],
      "text/plain": [
       "   folds                                             scores  abs_avg_score  \\\n",
       "0     10  [0.8374999999999999, 0.6125, 0.8375, 0.8875, 0...        0.81375   \n",
       "\n",
       "        std                     model     scoring_method       features  \n",
       "0  0.104799  RandomForestClassifier()  balanced_accuracy  [AK1C1, DSG2]  "
      ]
     },
     "execution_count": 7,
     "metadata": {},
     "output_type": "execute_result"
    }
   ],
   "source": [
    "apply_ml_model(train,classifier='random_forest',scoring_method='balanced_accuracy', cv=10, feature_list = feature_list)"
   ]
  },
  {
   "cell_type": "code",
   "execution_count": 8,
   "id": "3ba24169",
   "metadata": {},
   "outputs": [
    {
     "name": "stdout",
     "output_type": "stream",
     "text": [
      "score= 0.7705357142857143\n"
     ]
    },
    {
     "data": {
      "image/png": "[encoded data removed]",
      "text/plain": [
       "<Figure size 640x480 with 2 Axes>"
      ]
     },
     "metadata": {},
     "output_type": "display_data"
    }
   ],
   "source": [
    "make_confusion_mtrx(train, test, feature_list)"
   ]
  }
 ],
 "metadata": {
  "kernelspec": {
   "display_name": "Python 3 (ipykernel)",
   "language": "python",
   "name": "python3"
  },
  "language_info": {
   "codemirror_mode": {
    "name": "ipython",
    "version": 3
   },
   "file_extension": ".py",
   "mimetype": "text/x-python",
   "name": "python",
   "nbconvert_exporter": "python",
   "pygments_lexer": "ipython3",
   "version": "3.10.8"
  }
 },
 "nbformat": 4,
 "nbformat_minor": 5
}
