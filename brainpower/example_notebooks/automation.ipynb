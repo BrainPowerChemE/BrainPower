{
 "cells": [
  {
   "cell_type": "code",
   "execution_count": 1,
   "id": "8700f614",
   "metadata": {},
   "outputs": [],
   "source": [
    "import pandas as pd\n",
    "import matplotlib.pyplot as plt\n",
    "import numpy as np\n",
    "import seaborn as sns\n",
    "from statistics import stdev\n",
    "import statsmodels\n",
    "from statsmodels.sandbox.stats.multicomp import multipletests\n",
    "import imblearn\n",
    "import sys\n",
    "from numpy import mean, absolute, sqrt\n",
    "import scipy.stats\n",
    "import sklearn.linear_model\n",
    "import sklearn.neighbors\n",
    "import sklearn.preprocessing\n",
    "from xgboost import XGBClassifier\n",
    "import sklearn.ensemble\n",
    "from sklearn.model_selection import train_test_split, LeaveOneOut, cross_val_score\n",
    "from sklearn.linear_model import LinearRegression\n",
    "from scipy import stats\n",
    "from sklearn.metrics import ConfusionMatrixDisplay, roc_curve, auc\n",
    "from sklearn.preprocessing import LabelBinarizer\n",
    "from sklearn.naive_bayes import GaussianNB\n",
    "from itertools import combinations, cycle\n",
    "import time\n",
    "\n",
    "def handle_scale_and_nan(df):\n",
    "    features = list(df.select_dtypes(include='float64'))\n",
    "    cat = list(df.select_dtypes(include='object'))\n",
    "    scaler = sklearn.preprocessing.StandardScaler().fit(df[features])\n",
    "    df_cont = pd.DataFrame(data=scaler.transform(df[features]), columns=features)\n",
    "    df_cat = pd.DataFrame(data=df[cat], columns=cat)\n",
    "    df = pd.concat([df_cat,df_cont],axis=1)\n",
    "    df = df.fillna(value=0.01)\n",
    "    \n",
    "    return df\n",
    "\n",
    "def split_cats_by_tolerance(\n",
    "    frame,\n",
    "    tolerance,\n",
    "    silent=False,\n",
    "    randomstate=None,\n",
    "    split=0.15,\n",
    "    step=1,\n",
    "    target=\"group\",\n",
    "    categories=[\"Healthy\", \"AD_MCI\", \"PD\", \"PD_MCI_LBD\"],\n",
    "):\n",
    "    tolerable_list = []\n",
    "    if randomstate == None:\n",
    "        randomstate = np.random.randint(0, 2**31)\n",
    "    elif type(randomstate) == int:\n",
    "        pass\n",
    "    while sum(tolerable_list) != 4:\n",
    "        df_dev, df_test = sklearn.model_selection.train_test_split(\n",
    "            frame, test_size=split, random_state=randomstate\n",
    "        )\n",
    "\n",
    "        dev_dict = dict(df_dev[target].value_counts())\n",
    "        test_dict = dict(df_test[target].value_counts())\n",
    "\n",
    "        tolerable_list = []\n",
    "        stats_dict = {}\n",
    "        for i in range(0, len(categories)):\n",
    "            try:\n",
    "                percents = [\n",
    "                    (dev_dict[categories[i]] / len(df_dev)),\n",
    "                    (test_dict[categories[i]] / len(df_test)),\n",
    "                ]\n",
    "            except:\n",
    "                break\n",
    "            standdev = np.std(percents)\n",
    "            if standdev <= tolerance:\n",
    "                tolerable_list.append(1)\n",
    "                stats_dict[str(categories[i])] = [[*percents], standdev]\n",
    "            else:\n",
    "                tolerable_list.append(0)\n",
    "\n",
    "        randomstate += step\n",
    "\n",
    "    if sum(tolerable_list) == 4:\n",
    "        if silent == False:\n",
    "            print(dev_dict)\n",
    "            print(test_dict)\n",
    "            print(\"Randstate:\", randomstate - 1)\n",
    "            for i in range(0, len(categories)):\n",
    "                print(\n",
    "                    \"\\nPercent\",\n",
    "                    categories[i],\n",
    "                    \"in dev, test:\",\n",
    "                    stats_dict[categories[i]][0],\n",
    "                    \"\\nStandard deviation of these values:\",\n",
    "                    stats_dict[categories[i]][1],\n",
    "                    \"\\n\",\n",
    "                )\n",
    "        elif silent == True:\n",
    "            pass\n",
    "\n",
    "    return df_dev, df_test\n",
    "\n",
    "def over_under(df_train,cat_in_excess='Healthy',target='group',randomstate=np.random.randint(0,4294967295)):\n",
    "    \"\"\"\n",
    "    Takes dataframe(s) with only the target value and float64 features\n",
    "    This function is to balance the samples in an imbalanced training dataset that has one category in excess, with additional categories more near each other\n",
    "    The categories below the category in excess will be oversampled to equality, then the category in excess will be undersampled to equality\n",
    "    ---Parameters---\n",
    "    df_train: the training dataframe\n",
    "    cat_in_excess: the category which is present in excess, far above the other categories\n",
    "    target: target column in the dataframe\n",
    "    randomstate: if chosen, this will the random state for the sampling. Default: None, numpy random integer method between 0 and 4294967295, the range of the sampling module used\n",
    "    randomstate_sampler: the number of loops to run to compare random states starting from \n",
    "    \"\"\"\n",
    "    # Drop the excessive category and oversample minority to the intermediate category\n",
    "    df_train_no_excess = df_train[df_train.group != cat_in_excess]\n",
    "    over_sampler = imblearn.over_sampling.RandomOverSampler(random_state=randomstate)\n",
    "    X_train = df_train_no_excess.drop(columns=target)\n",
    "    y_train = df_train_no_excess[target]\n",
    "    X_train_over, y_train_over = over_sampler.fit_resample(X_train,y_train)\n",
    "    df_train_over = pd.concat([y_train_over,X_train_over],axis=1)\n",
    "\n",
    "    # Re-introduce the excessive category and undersample the majority to the minority\n",
    "    df_train_excess = pd.concat([df_train_over,df_train[df_train[target] == cat_in_excess]])\n",
    "    under_sampler = imblearn.under_sampling.RandomUnderSampler(random_state=randomstate)\n",
    "    X_train = df_train_excess.drop(columns=target)\n",
    "    y_train = df_train_excess[target]\n",
    "    X_train_under, y_train_under = under_sampler.fit_resample(X_train,y_train)\n",
    "    df_train_eq = pd.concat([y_train_under,X_train_under],axis=1)\n",
    "    \n",
    "    return df_train_eq\n",
    "\n",
    "def select_features(data_dev, n):\n",
    "    X_dev = data_dev.iloc[:, 1:-1]\n",
    "    y_dev = data_dev.iloc[:, 0]\n",
    "    \n",
    "    from sklearn.datasets import make_classification\n",
    "    X, y = make_classification(n_samples = 100, n_features = 20, n_informative = 2, n_redundant = 2)\n",
    "    X = pd.DataFrame(X_dev)\n",
    "    y = pd.Series(y_dev)\n",
    "    \n",
    "    from mrmr import mrmr_classif\n",
    "    feature_list = mrmr_classif(X=X, y=y, K=n)\n",
    "    print(feature_list)\n",
    "    \n",
    "    import json\n",
    "    aList = feature_list\n",
    "    jsonStr = json.dumps(aList)\n",
    "    \n",
    "    jsonFile = open(\"mRMR_\"+ str(n)+ \"_features.json\", \"w\")\n",
    "    jsonFile.write(jsonStr)\n",
    "    jsonFile.close()\n",
    "    \n",
    "    return feature_list\n",
    "\n",
    "def apply_ml_model(dev,classifier,scoring_method='balanced_accuracy', cv=10, feature_list=None):\n",
    "    \"\"\"\n",
    "    Finds the score for different ML classifiers\n",
    "    Takes a dataframe with only target and feature columns\n",
    "    dev : the development dataframe with a single categorical target column and float64 features\n",
    "    classifier: ML classifier to test.\n",
    "        options: \"random_forest', \"naive_bayes\", \"decision_tree\"\n",
    "    scoring_method: method of scoring the classifier\n",
    "        run sklearn.metrics.get_scorer_names() to get a list of scoring methods\n",
    "    target: target categorical column\n",
    "    cv: folds to run in evaluation. takes integers or 'max': will run maximum number of folds = # of samples in categories\n",
    "    \"\"\"\n",
    "    if feature_list is None:\n",
    "        feature_list = selected_features\n",
    "        \n",
    "    # define predictor and response variables\n",
    "    X = dev[feature_list]\n",
    "    y = dev['group'].values.reshape(-1,1)\n",
    "    \n",
    "    # check that the data has equal number of categories in training data\n",
    "    counts_list = list(dev['group'].value_counts())\n",
    "    assert len(set(counts_list)) == 1, 'training data should contain equal quantities of categories. run bp_preprocessing.over_under() or other balancer'\n",
    "    \n",
    "    \n",
    "    # choose model based on user input\n",
    "    if classifier == \"random_forest\": \n",
    "        model = sklearn.ensemble.RandomForestClassifier()\n",
    "    elif classifier == \"naive_bayes\":  \n",
    "        model = sklearn.naive_bayes.GaussianNB()\n",
    "    elif classifier == \"decision_tree\": \n",
    "        model = sklearn.tree.DecisionTreeClassifier()\n",
    "    elif classifier == \"xgboost\": \n",
    "        model = XGBClassifier()\n",
    "    else: \n",
    "        print(\"wrong classifier named entered\")\n",
    "    #define cv quantity:\n",
    "    if type(cv) == int:\n",
    "        pass\n",
    "    elif cv == 'max':\n",
    "        cv = counts_list[0]\n",
    "    else:\n",
    "        raise TypeError('Enter an integer or \"max\" as a string')\n",
    "        \n",
    "    scores = cross_val_score(model, X, y, scoring=scoring_method,cv=cv)\n",
    "    mean_score = np.mean(abs(scores))\n",
    "    std = np.std(scores)\n",
    "    stats_list = [cv, scores, mean_score, std , model, scoring_method, feature_list[-2:]]\n",
    "    stats_df = pd.DataFrame(data=[stats_list], columns=['folds','scores','abs_avg_score','std','model','scoring_method', 'features'])\n",
    "    \n",
    "    return stats_df\n",
    "\n",
    "def make_confusion_mtrx(dev, df_test, feature_list=None):\n",
    "    if feature_list is None:\n",
    "        feature_list = selected_features\n",
    "        \n",
    "    test_X = df_test[feature_list]\n",
    "    test_y = df_test['group']\n",
    "\n",
    "    dev_X = dev[feature_list]\n",
    "    dev_y = dev.iloc[:,0] # 0th column is our target\n",
    "\n",
    "    model = sklearn.ensemble.RandomForestClassifier()\n",
    "    model.fit(dev_X, dev_y) \n",
    "    print('score=', sklearn.metrics.balanced_accuracy_score(test_y, model.predict(test_X)))\n",
    "    ConfusionMatrixDisplay.from_estimator(model, test_X, test_y)\n",
    "    plt.show()"
   ]
  },
  {
   "cell_type": "code",
   "execution_count": 2,
   "id": "dc250c3c",
   "metadata": {},
   "outputs": [],
   "source": [
    "dev = pd.read_csv('/Users/katherine/Desktop/data_with_biomarkers.csv',\n",
    "                       sep='\\t')"
   ]
  },
  {
   "cell_type": "code",
   "execution_count": 3,
   "id": "0abb17d1",
   "metadata": {},
   "outputs": [],
   "source": [
    "dev = handle_scale_and_nan(dev)"
   ]
  },
  {
   "cell_type": "code",
   "execution_count": 4,
   "id": "0d5a09df",
   "metadata": {
    "scrolled": false
   },
   "outputs": [
    {
     "name": "stdout",
     "output_type": "stream",
     "text": [
      "{'Healthy': 132, 'AD_MCI': 43, 'PD_MCI_LBD': 32, 'PD': 31}\n",
      "{'Healthy': 24, 'AD_MCI': 8, 'PD_MCI_LBD': 5, 'PD': 5}\n",
      "Randstate: 98281\n",
      "\n",
      "Percent Healthy in dev, test: [0.5546218487394958, 0.5714285714285714] \n",
      "Standard deviation of these values: 0.008403361344537785 \n",
      "\n",
      "\n",
      "Percent AD_MCI in dev, test: [0.18067226890756302, 0.19047619047619047] \n",
      "Standard deviation of these values: 0.004901960784313722 \n",
      "\n",
      "\n",
      "Percent PD in dev, test: [0.13025210084033614, 0.11904761904761904] \n",
      "Standard deviation of these values: 0.005602240896358551 \n",
      "\n",
      "\n",
      "Percent PD_MCI_LBD in dev, test: [0.13445378151260504, 0.11904761904761904] \n",
      "Standard deviation of these values: 0.007703081232492998 \n",
      "\n"
     ]
    }
   ],
   "source": [
    "dev, test = split_cats_by_tolerance(dev,0.01,randomstate=98281)"
   ]
  },
  {
   "cell_type": "code",
   "execution_count": 5,
   "id": "7549348a",
   "metadata": {},
   "outputs": [
    {
     "name": "stdout",
     "output_type": "stream",
     "text": [
      "{'Healthy': 112, 'AD_MCI': 37, 'PD_MCI_LBD': 27, 'PD': 26}\n",
      "{'Healthy': 20, 'AD_MCI': 6, 'PD': 5, 'PD_MCI_LBD': 5}\n",
      "Randstate: 98450\n",
      "\n",
      "Percent Healthy in dev, test: [0.5544554455445545, 0.5555555555555556] \n",
      "Standard deviation of these values: 0.0005500550055005382 \n",
      "\n",
      "\n",
      "Percent AD_MCI in dev, test: [0.18316831683168316, 0.16666666666666666] \n",
      "Standard deviation of these values: 0.008250825082508254 \n",
      "\n",
      "\n",
      "Percent PD in dev, test: [0.12871287128712872, 0.1388888888888889] \n",
      "Standard deviation of these values: 0.0050880088008800894 \n",
      "\n",
      "\n",
      "Percent PD_MCI_LBD in dev, test: [0.13366336633663367, 0.1388888888888889] \n",
      "Standard deviation of these values: 0.002612761276127612 \n",
      "\n"
     ]
    }
   ],
   "source": [
    "train, val = split_cats_by_tolerance(dev,0.01,randomstate=98281)"
   ]
  },
  {
   "cell_type": "code",
   "execution_count": 6,
   "id": "a10d5941",
   "metadata": {
    "scrolled": true
   },
   "outputs": [],
   "source": [
    "train = over_under(train,cat_in_excess='Healthy',target='group',randomstate=np.random.randint(0,4294967295))"
   ]
  },
  {
   "cell_type": "code",
   "execution_count": 7,
   "id": "07494844",
   "metadata": {
    "scrolled": true
   },
   "outputs": [
    {
     "name": "stderr",
     "output_type": "stream",
     "text": [
      "100%|███████████████████████████████████████████| 18/18 [00:01<00:00, 14.30it/s]"
     ]
    },
    {
     "name": "stdout",
     "output_type": "stream",
     "text": [
      "['TAU', 'ACTBM', 'CEMIP', 'OLM2A', 'PCDAD', '1433G', 'CADH5', 'COSA1', 'SPRN', 'VWF', 'AB42/AB40', 'SERC', 'PAL4A', 'CO7', 'GUAD', 'BMAL2', 'SYT11', 'PGK1']\n"
     ]
    },
    {
     "name": "stderr",
     "output_type": "stream",
     "text": [
      "\n"
     ]
    }
   ],
   "source": [
    "feature_list = select_features(train, 18)"
   ]
  },
  {
   "cell_type": "code",
   "execution_count": 8,
   "id": "cfee7735",
   "metadata": {},
   "outputs": [
    {
     "data": {
      "text/html": [
       "<div>\n",
       "<style scoped>\n",
       "    .dataframe tbody tr th:only-of-type {\n",
       "        vertical-align: middle;\n",
       "    }\n",
       "\n",
       "    .dataframe tbody tr th {\n",
       "        vertical-align: top;\n",
       "    }\n",
       "\n",
       "    .dataframe thead th {\n",
       "        text-align: right;\n",
       "    }\n",
       "</style>\n",
       "<table border=\"1\" class=\"dataframe\">\n",
       "  <thead>\n",
       "    <tr style=\"text-align: right;\">\n",
       "      <th></th>\n",
       "      <th>folds</th>\n",
       "      <th>scores</th>\n",
       "      <th>abs_avg_score</th>\n",
       "      <th>std</th>\n",
       "      <th>model</th>\n",
       "      <th>scoring_method</th>\n",
       "      <th>features</th>\n",
       "    </tr>\n",
       "  </thead>\n",
       "  <tbody>\n",
       "    <tr>\n",
       "      <th>0</th>\n",
       "      <td>10</td>\n",
       "      <td>[0.7083333333333334, 0.7291666666666666, 0.937...</td>\n",
       "      <td>0.739583</td>\n",
       "      <td>0.124391</td>\n",
       "      <td>RandomForestClassifier()</td>\n",
       "      <td>balanced_accuracy</td>\n",
       "      <td>[SYT11, PGK1]</td>\n",
       "    </tr>\n",
       "  </tbody>\n",
       "</table>\n",
       "</div>"
      ],
      "text/plain": [
       "   folds                                             scores  abs_avg_score  \\\n",
       "0     10  [0.7083333333333334, 0.7291666666666666, 0.937...       0.739583   \n",
       "\n",
       "        std                     model     scoring_method       features  \n",
       "0  0.124391  RandomForestClassifier()  balanced_accuracy  [SYT11, PGK1]  "
      ]
     },
     "execution_count": 8,
     "metadata": {},
     "output_type": "execute_result"
    }
   ],
   "source": [
    "apply_ml_model(train,classifier='random_forest',scoring_method='balanced_accuracy', cv=10, feature_list = feature_list)"
   ]
  },
  {
   "cell_type": "code",
   "execution_count": 9,
   "id": "3ba24169",
   "metadata": {},
   "outputs": [
    {
     "name": "stdout",
     "output_type": "stream",
     "text": [
      "score= 0.4541666666666666\n"
     ]
    },
    {
     "data": {
      "image/png": "[encoded data removed]",
      "text/plain": [
       "<Figure size 640x480 with 2 Axes>"
      ]
     },
     "metadata": {},
     "output_type": "display_data"
    }
   ],
   "source": [
    "make_confusion_mtrx(dev, test, feature_list)"
   ]
  }
 ],
 "metadata": {
  "kernelspec": {
   "display_name": "Python 3 (ipykernel)",
   "language": "python",
   "name": "python3"
  },
  "language_info": {
   "codemirror_mode": {
    "name": "ipython",
    "version": 3
   },
   "file_extension": ".py",
   "mimetype": "text/x-python",
   "name": "python",
   "nbconvert_exporter": "python",
   "pygments_lexer": "ipython3",
   "version": "3.10.8"
  }
 },
 "nbformat": 4,
 "nbformat_minor": 5
}
